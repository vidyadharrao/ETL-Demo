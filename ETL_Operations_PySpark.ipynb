{
 "cells": [
  {
   "cell_type": "markdown",
   "metadata": {
    "id": "NCtEIcCVFhO8"
   },
   "source": [
    "# ETL concepts and pipeline"
   ]
  },
  {
   "cell_type": "markdown",
   "metadata": {
    "id": "qxQatabcFhPD"
   },
   "source": [
    "In this experiment you:\n",
    "\n",
    "* use Spark’s built-in and external data sources to read, refine, and write data in different file formats as part of the extract, transform, and load (ETL) tasks\n",
    "* perform complex data exploration and analysis using Spark SQL"
   ]
  },
  {
   "cell_type": "markdown",
   "metadata": {
    "id": "GAEv9h69FhPE"
   },
   "source": [
    "### Introduction"
   ]
  },
  {
   "cell_type": "markdown",
   "metadata": {
    "id": "nFzjN683FhPE"
   },
   "source": [
    "ETL (Extract, Transform, and Load) is the procedure of migrating data from one system to another.\n",
    "* Data **extraction** is the process of retrieving data out of homogeneous or heterogeneous sources for further data processing and data storage.\n",
    "* During data **transformation**, the data is cleaned and incorrect or inaccurate records are modified or deleted.\n",
    "* Finally, the processed data is **loaded** (or stored) into a target system such as a data warehouse or NoSQL database or RDBMS.\n",
    "\n",
    "Data engineers use Spark because it provides a simple way to parallelize computations and hides all the complexity of distribution and fault tolerance. This leaves them free to focus on using high-level DataFrame-based APIs and domain-specific language queries to do ETL, reading and combining data from multiple sources.\n",
    "\n",
    "Here we will consider tabular data to do ETL operations. Starting from data extraction, we will perform various transformations and try to gain some insights from it and then load it to a NoSQL database or store it in different file formats."
   ]
  },
  {
   "cell_type": "markdown",
   "metadata": {
    "id": "jptEWxkKFhPD"
   },
   "source": [
    "### Dataset"
   ]
  },
  {
   "cell_type": "markdown",
   "metadata": {
    "id": "1b0GRwC0FhPE"
   },
   "source": [
    "The dataset chosen for this assignment is [Productivity Prediction of Garment Employees](https://archive.ics.uci.edu/ml/datasets/Productivity+Prediction+of+Garment+Employees). The dataset is made up of 1197 records and 15 columns. It includes important attributes of the garment manufacturing process and the productivity of the employees. The dataset contains records of three months (Jan to Mar 2015) with 2 distinct departments, 12 unique team numbers and 5 different quarters. Some of the features are listed below:\n",
    "\n",
    "* date: Date in MM-DD-YYYY\n",
    "* day: Day of the Week\n",
    "* quarter: A portion of the month. A month was divided into four quarters\n",
    "* department: Associated department with the instance\n",
    "* team: Associated team number with the instance\n",
    "* no_of_workers: Number of workers in each team\n",
    "* no_of_style_change: Number of changes in the style of a particular product\n",
    "* targeted_productivity: Targeted productivity set by the Authority for each team for each day.\n",
    "* smv: Standard Minute Value, it is the allocated time for a task\n",
    "* wip: Work in progress. Includes the number of unfinished items for products\n",
    "* overtime: Represents the amount of overtime by each team in minutes\n",
    "* incentive: Represents the amount of financial incentive (in BDT) that enables or motivates a particular course of action.\n",
    "* idletime: The amount of time when the production was interrupted due to several reasons\n",
    "* idlemen: The number of workers who were idle due to production interruption\n",
    "* actual_productivity: The actual % of productivity that was delivered by the workers. It ranges from 0-1.\n",
    "\n",
    "Date, quarter, department, and day are object datatypes and the rest are int or float types.\n",
    "\n",
    "To know more about the dataset click [here](https://archive.ics.uci.edu/ml/datasets/Productivity+Prediction+of+Garment+Employees)."
   ]
  },
  {
   "cell_type": "markdown",
   "metadata": {
    "id": "dHY77Q8DFhPF"
   },
   "source": [
    "### Install Pyspark"
   ]
  },
  {
   "cell_type": "code",
   "execution_count": null,
   "metadata": {
    "id": "KPf_EpH-FhPF"
   },
   "outputs": [],
   "source": [
    "#!pip install pyspark"
   ]
  },
  {
   "cell_type": "markdown",
   "metadata": {
    "id": "Cq_ToATpFhPF"
   },
   "source": [
    "### Import required packages"
   ]
  },
  {
   "cell_type": "code",
   "execution_count": 1,
   "metadata": {
    "id": "FmMx7T9eFhPG"
   },
   "outputs": [],
   "source": [
    "from pyspark.sql import SparkSession\n",
    "from pyspark.sql.functions import *\n",
    "from pyspark.ml.feature import VectorAssembler\n",
    "from pyspark.ml.feature import MinMaxScaler\n",
    "import seaborn as sns\n",
    "from matplotlib import pyplot as plt\n",
    "import pandas as pd"
   ]
  },
  {
   "cell_type": "markdown",
   "metadata": {
    "id": "bO5nb-O0FhPG"
   },
   "source": [
    "### Start a Spark Session"
   ]
  },
  {
   "cell_type": "markdown",
   "metadata": {
    "id": "pRSLW_ZqFhPG"
   },
   "source": [
    "Spark session is a combined entry point of a Spark application, which came into implementation from Spark 2.0. Instead of having various context, everything is now encapsulated in a **Spark session**."
   ]
  },
  {
   "cell_type": "code",
   "execution_count": 2,
   "metadata": {
    "id": "sY9Ht3RFFhPG"
   },
   "outputs": [
    {
     "data": {
      "text/html": [
       "\n",
       "            <div>\n",
       "                <p><b>SparkSession - in-memory</b></p>\n",
       "                \n",
       "        <div>\n",
       "            <p><b>SparkContext</b></p>\n",
       "\n",
       "            <p><a href=\"http://LAPTOP-QVS1EGQ1:4040\">Spark UI</a></p>\n",
       "\n",
       "            <dl>\n",
       "              <dt>Version</dt>\n",
       "                <dd><code>v2.4.6</code></dd>\n",
       "              <dt>Master</dt>\n",
       "                <dd><code>local[*]</code></dd>\n",
       "              <dt>AppName</dt>\n",
       "                <dd><code>ETL</code></dd>\n",
       "            </dl>\n",
       "        </div>\n",
       "        \n",
       "            </div>\n",
       "        "
      ],
      "text/plain": [
       "<pyspark.sql.session.SparkSession at 0x1c7efc15f60>"
      ]
     },
     "execution_count": 2,
     "metadata": {},
     "output_type": "execute_result"
    }
   ],
   "source": [
    "# Start spark session\n",
    "from pyspark.sql import SparkSession\n",
    "spark = SparkSession.builder.appName('ETL').getOrCreate()\n",
    "spark"
   ]
  },
  {
   "cell_type": "markdown",
   "metadata": {
    "id": "gOYuB7SBFhPG"
   },
   "source": [
    "### Tabular Data Analytics"
   ]
  },
  {
   "cell_type": "markdown",
   "metadata": {
    "id": "MBlN05cNFhPH"
   },
   "source": [
    "#### Extract data into PySpark\n",
    "To load the dataset we will use the read.csv module.  The inferSchema parameter provided will enable Spark to automatically determine the data type for each column."
   ]
  },
  {
   "cell_type": "code",
   "execution_count": 3,
   "metadata": {
    "id": "cHiMKSPZFhPH"
   },
   "outputs": [],
   "source": [
    "df = spark.read.csv('garments_worker_productivity.csv', header=True, inferSchema= True)"
   ]
  },
  {
   "cell_type": "markdown",
   "metadata": {
    "id": "ni5SQb1uFhPH"
   },
   "source": [
    "#### Transforming Data"
   ]
  },
  {
   "cell_type": "markdown",
   "metadata": {
    "id": "8hOkkyXNFhPI"
   },
   "source": [
    "* Display first few rows of the data"
   ]
  },
  {
   "cell_type": "code",
   "execution_count": 5,
   "metadata": {
    "id": "PqiEA5SqFhPI"
   },
   "outputs": [
    {
     "data": {
      "text/html": [
       "<div>\n",
       "<style scoped>\n",
       "    .dataframe tbody tr th:only-of-type {\n",
       "        vertical-align: middle;\n",
       "    }\n",
       "\n",
       "    .dataframe tbody tr th {\n",
       "        vertical-align: top;\n",
       "    }\n",
       "\n",
       "    .dataframe thead th {\n",
       "        text-align: right;\n",
       "    }\n",
       "</style>\n",
       "<table border=\"1\" class=\"dataframe\">\n",
       "  <thead>\n",
       "    <tr style=\"text-align: right;\">\n",
       "      <th></th>\n",
       "      <th>date</th>\n",
       "      <th>quarter</th>\n",
       "      <th>department</th>\n",
       "      <th>day</th>\n",
       "      <th>team</th>\n",
       "      <th>targeted_productivity</th>\n",
       "      <th>smv</th>\n",
       "      <th>wip</th>\n",
       "      <th>over_time</th>\n",
       "      <th>incentive</th>\n",
       "      <th>idle_time</th>\n",
       "      <th>idle_men</th>\n",
       "      <th>no_of_style_change</th>\n",
       "      <th>no_of_workers</th>\n",
       "      <th>actual_productivity</th>\n",
       "    </tr>\n",
       "  </thead>\n",
       "  <tbody>\n",
       "    <tr>\n",
       "      <th>0</th>\n",
       "      <td>1/1/2015</td>\n",
       "      <td>Quarter1</td>\n",
       "      <td>sweing</td>\n",
       "      <td>Thursday</td>\n",
       "      <td>8</td>\n",
       "      <td>0.80</td>\n",
       "      <td>26.16</td>\n",
       "      <td>1108.0</td>\n",
       "      <td>7080</td>\n",
       "      <td>98</td>\n",
       "      <td>0.0</td>\n",
       "      <td>0</td>\n",
       "      <td>0</td>\n",
       "      <td>59.0</td>\n",
       "      <td>0.940725</td>\n",
       "    </tr>\n",
       "    <tr>\n",
       "      <th>1</th>\n",
       "      <td>1/1/2015</td>\n",
       "      <td>Quarter1</td>\n",
       "      <td>finishing</td>\n",
       "      <td>Thursday</td>\n",
       "      <td>1</td>\n",
       "      <td>0.75</td>\n",
       "      <td>3.94</td>\n",
       "      <td>NaN</td>\n",
       "      <td>960</td>\n",
       "      <td>0</td>\n",
       "      <td>0.0</td>\n",
       "      <td>0</td>\n",
       "      <td>0</td>\n",
       "      <td>8.0</td>\n",
       "      <td>0.886500</td>\n",
       "    </tr>\n",
       "    <tr>\n",
       "      <th>2</th>\n",
       "      <td>1/1/2015</td>\n",
       "      <td>Quarter1</td>\n",
       "      <td>sweing</td>\n",
       "      <td>Thursday</td>\n",
       "      <td>11</td>\n",
       "      <td>0.80</td>\n",
       "      <td>11.41</td>\n",
       "      <td>968.0</td>\n",
       "      <td>3660</td>\n",
       "      <td>50</td>\n",
       "      <td>0.0</td>\n",
       "      <td>0</td>\n",
       "      <td>0</td>\n",
       "      <td>30.5</td>\n",
       "      <td>0.800570</td>\n",
       "    </tr>\n",
       "    <tr>\n",
       "      <th>3</th>\n",
       "      <td>1/1/2015</td>\n",
       "      <td>Quarter1</td>\n",
       "      <td>sweing</td>\n",
       "      <td>Thursday</td>\n",
       "      <td>12</td>\n",
       "      <td>0.80</td>\n",
       "      <td>11.41</td>\n",
       "      <td>968.0</td>\n",
       "      <td>3660</td>\n",
       "      <td>50</td>\n",
       "      <td>0.0</td>\n",
       "      <td>0</td>\n",
       "      <td>0</td>\n",
       "      <td>30.5</td>\n",
       "      <td>0.800570</td>\n",
       "    </tr>\n",
       "    <tr>\n",
       "      <th>4</th>\n",
       "      <td>1/1/2015</td>\n",
       "      <td>Quarter1</td>\n",
       "      <td>sweing</td>\n",
       "      <td>Thursday</td>\n",
       "      <td>6</td>\n",
       "      <td>0.80</td>\n",
       "      <td>25.90</td>\n",
       "      <td>1170.0</td>\n",
       "      <td>1920</td>\n",
       "      <td>50</td>\n",
       "      <td>0.0</td>\n",
       "      <td>0</td>\n",
       "      <td>0</td>\n",
       "      <td>56.0</td>\n",
       "      <td>0.800382</td>\n",
       "    </tr>\n",
       "    <tr>\n",
       "      <th>5</th>\n",
       "      <td>1/1/2015</td>\n",
       "      <td>Quarter1</td>\n",
       "      <td>sweing</td>\n",
       "      <td>Thursday</td>\n",
       "      <td>7</td>\n",
       "      <td>0.80</td>\n",
       "      <td>25.90</td>\n",
       "      <td>984.0</td>\n",
       "      <td>6720</td>\n",
       "      <td>38</td>\n",
       "      <td>0.0</td>\n",
       "      <td>0</td>\n",
       "      <td>0</td>\n",
       "      <td>56.0</td>\n",
       "      <td>0.800125</td>\n",
       "    </tr>\n",
       "    <tr>\n",
       "      <th>6</th>\n",
       "      <td>1/1/2015</td>\n",
       "      <td>Quarter1</td>\n",
       "      <td>finishing</td>\n",
       "      <td>Thursday</td>\n",
       "      <td>2</td>\n",
       "      <td>0.75</td>\n",
       "      <td>3.94</td>\n",
       "      <td>NaN</td>\n",
       "      <td>960</td>\n",
       "      <td>0</td>\n",
       "      <td>0.0</td>\n",
       "      <td>0</td>\n",
       "      <td>0</td>\n",
       "      <td>8.0</td>\n",
       "      <td>0.755167</td>\n",
       "    </tr>\n",
       "    <tr>\n",
       "      <th>7</th>\n",
       "      <td>1/1/2015</td>\n",
       "      <td>Quarter1</td>\n",
       "      <td>sweing</td>\n",
       "      <td>Thursday</td>\n",
       "      <td>3</td>\n",
       "      <td>0.75</td>\n",
       "      <td>28.08</td>\n",
       "      <td>795.0</td>\n",
       "      <td>6900</td>\n",
       "      <td>45</td>\n",
       "      <td>0.0</td>\n",
       "      <td>0</td>\n",
       "      <td>0</td>\n",
       "      <td>57.5</td>\n",
       "      <td>0.753683</td>\n",
       "    </tr>\n",
       "    <tr>\n",
       "      <th>8</th>\n",
       "      <td>1/1/2015</td>\n",
       "      <td>Quarter1</td>\n",
       "      <td>sweing</td>\n",
       "      <td>Thursday</td>\n",
       "      <td>2</td>\n",
       "      <td>0.75</td>\n",
       "      <td>19.87</td>\n",
       "      <td>733.0</td>\n",
       "      <td>6000</td>\n",
       "      <td>34</td>\n",
       "      <td>0.0</td>\n",
       "      <td>0</td>\n",
       "      <td>0</td>\n",
       "      <td>55.0</td>\n",
       "      <td>0.753098</td>\n",
       "    </tr>\n",
       "    <tr>\n",
       "      <th>9</th>\n",
       "      <td>1/1/2015</td>\n",
       "      <td>Quarter1</td>\n",
       "      <td>sweing</td>\n",
       "      <td>Thursday</td>\n",
       "      <td>1</td>\n",
       "      <td>0.75</td>\n",
       "      <td>28.08</td>\n",
       "      <td>681.0</td>\n",
       "      <td>6900</td>\n",
       "      <td>45</td>\n",
       "      <td>0.0</td>\n",
       "      <td>0</td>\n",
       "      <td>0</td>\n",
       "      <td>57.5</td>\n",
       "      <td>0.750428</td>\n",
       "    </tr>\n",
       "  </tbody>\n",
       "</table>\n",
       "</div>"
      ],
      "text/plain": [
       "       date   quarter  department       day  team  targeted_productivity  \\\n",
       "0  1/1/2015  Quarter1      sweing  Thursday     8                   0.80   \n",
       "1  1/1/2015  Quarter1  finishing   Thursday     1                   0.75   \n",
       "2  1/1/2015  Quarter1      sweing  Thursday    11                   0.80   \n",
       "3  1/1/2015  Quarter1      sweing  Thursday    12                   0.80   \n",
       "4  1/1/2015  Quarter1      sweing  Thursday     6                   0.80   \n",
       "5  1/1/2015  Quarter1      sweing  Thursday     7                   0.80   \n",
       "6  1/1/2015  Quarter1  finishing   Thursday     2                   0.75   \n",
       "7  1/1/2015  Quarter1      sweing  Thursday     3                   0.75   \n",
       "8  1/1/2015  Quarter1      sweing  Thursday     2                   0.75   \n",
       "9  1/1/2015  Quarter1      sweing  Thursday     1                   0.75   \n",
       "\n",
       "     smv     wip  over_time  incentive  idle_time  idle_men  \\\n",
       "0  26.16  1108.0       7080         98        0.0         0   \n",
       "1   3.94     NaN        960          0        0.0         0   \n",
       "2  11.41   968.0       3660         50        0.0         0   \n",
       "3  11.41   968.0       3660         50        0.0         0   \n",
       "4  25.90  1170.0       1920         50        0.0         0   \n",
       "5  25.90   984.0       6720         38        0.0         0   \n",
       "6   3.94     NaN        960          0        0.0         0   \n",
       "7  28.08   795.0       6900         45        0.0         0   \n",
       "8  19.87   733.0       6000         34        0.0         0   \n",
       "9  28.08   681.0       6900         45        0.0         0   \n",
       "\n",
       "   no_of_style_change  no_of_workers  actual_productivity  \n",
       "0                   0           59.0             0.940725  \n",
       "1                   0            8.0             0.886500  \n",
       "2                   0           30.5             0.800570  \n",
       "3                   0           30.5             0.800570  \n",
       "4                   0           56.0             0.800382  \n",
       "5                   0           56.0             0.800125  \n",
       "6                   0            8.0             0.755167  \n",
       "7                   0           57.5             0.753683  \n",
       "8                   0           55.0             0.753098  \n",
       "9                   0           57.5             0.750428  "
      ]
     },
     "execution_count": 5,
     "metadata": {},
     "output_type": "execute_result"
    }
   ],
   "source": [
    "df.limit(10).toPandas()"
   ]
  },
  {
   "cell_type": "markdown",
   "metadata": {
    "id": "Eyu_0_uHFhPI"
   },
   "source": [
    "In the above output, the wip (work in progress) column contains null values. We need to check for other columns as well.\n",
    "* Display total number of rows"
   ]
  },
  {
   "cell_type": "code",
   "execution_count": 6,
   "metadata": {
    "id": "6-49cC7GFhPI"
   },
   "outputs": [
    {
     "data": {
      "text/plain": [
       "1197"
      ]
     },
     "execution_count": 6,
     "metadata": {},
     "output_type": "execute_result"
    }
   ],
   "source": [
    "df.count()"
   ]
  },
  {
   "cell_type": "markdown",
   "metadata": {
    "id": "ZKWUDmyyFhPJ"
   },
   "source": [
    "* Check for Null values in each column"
   ]
  },
  {
   "cell_type": "code",
   "execution_count": 8,
   "metadata": {
    "id": "PYQZZSAZFhPJ"
   },
   "outputs": [
    {
     "data": {
      "text/html": [
       "<div>\n",
       "<style scoped>\n",
       "    .dataframe tbody tr th:only-of-type {\n",
       "        vertical-align: middle;\n",
       "    }\n",
       "\n",
       "    .dataframe tbody tr th {\n",
       "        vertical-align: top;\n",
       "    }\n",
       "\n",
       "    .dataframe thead th {\n",
       "        text-align: right;\n",
       "    }\n",
       "</style>\n",
       "<table border=\"1\" class=\"dataframe\">\n",
       "  <thead>\n",
       "    <tr style=\"text-align: right;\">\n",
       "      <th></th>\n",
       "      <th>date</th>\n",
       "      <th>quarter</th>\n",
       "      <th>department</th>\n",
       "      <th>day</th>\n",
       "      <th>team</th>\n",
       "      <th>targeted_productivity</th>\n",
       "      <th>smv</th>\n",
       "      <th>wip</th>\n",
       "      <th>over_time</th>\n",
       "      <th>incentive</th>\n",
       "      <th>idle_time</th>\n",
       "      <th>idle_men</th>\n",
       "      <th>no_of_style_change</th>\n",
       "      <th>no_of_workers</th>\n",
       "      <th>actual_productivity</th>\n",
       "    </tr>\n",
       "  </thead>\n",
       "  <tbody>\n",
       "    <tr>\n",
       "      <th>0</th>\n",
       "      <td>0.0</td>\n",
       "      <td>0.0</td>\n",
       "      <td>0.0</td>\n",
       "      <td>0.0</td>\n",
       "      <td>0.0</td>\n",
       "      <td>0.0</td>\n",
       "      <td>0.0</td>\n",
       "      <td>0.422723</td>\n",
       "      <td>0.0</td>\n",
       "      <td>0.0</td>\n",
       "      <td>0.0</td>\n",
       "      <td>0.0</td>\n",
       "      <td>0.0</td>\n",
       "      <td>0.0</td>\n",
       "      <td>0.0</td>\n",
       "    </tr>\n",
       "  </tbody>\n",
       "</table>\n",
       "</div>"
      ],
      "text/plain": [
       "   date  quarter  department  day  team  targeted_productivity  smv       wip  \\\n",
       "0   0.0      0.0         0.0  0.0   0.0                    0.0  0.0  0.422723   \n",
       "\n",
       "   over_time  incentive  idle_time  idle_men  no_of_style_change  \\\n",
       "0        0.0        0.0        0.0       0.0                 0.0   \n",
       "\n",
       "   no_of_workers  actual_productivity  \n",
       "0            0.0                  0.0  "
      ]
     },
     "execution_count": 8,
     "metadata": {},
     "output_type": "execute_result"
    }
   ],
   "source": [
    "df.select([(count(when(isnan(c) | col(c).isNull(), c))/1197).alias(c) for c in df.columns]).toPandas()"
   ]
  },
  {
   "cell_type": "markdown",
   "metadata": {
    "id": "wocbg9GvFhPK"
   },
   "source": [
    "The wip column contains around 42% null values so we can drop that column.\n",
    "* Drop the wip column having Null values"
   ]
  },
  {
   "cell_type": "code",
   "execution_count": 9,
   "metadata": {
    "id": "VdYpNTTAFhPK"
   },
   "outputs": [],
   "source": [
    "df1 = df.drop('wip')"
   ]
  },
  {
   "cell_type": "code",
   "execution_count": 10,
   "metadata": {
    "id": "Ig3e4w9HFhPK"
   },
   "outputs": [
    {
     "data": {
      "text/html": [
       "<div>\n",
       "<style scoped>\n",
       "    .dataframe tbody tr th:only-of-type {\n",
       "        vertical-align: middle;\n",
       "    }\n",
       "\n",
       "    .dataframe tbody tr th {\n",
       "        vertical-align: top;\n",
       "    }\n",
       "\n",
       "    .dataframe thead th {\n",
       "        text-align: right;\n",
       "    }\n",
       "</style>\n",
       "<table border=\"1\" class=\"dataframe\">\n",
       "  <thead>\n",
       "    <tr style=\"text-align: right;\">\n",
       "      <th></th>\n",
       "      <th>date</th>\n",
       "      <th>quarter</th>\n",
       "      <th>department</th>\n",
       "      <th>day</th>\n",
       "      <th>team</th>\n",
       "      <th>targeted_productivity</th>\n",
       "      <th>smv</th>\n",
       "      <th>over_time</th>\n",
       "      <th>incentive</th>\n",
       "      <th>idle_time</th>\n",
       "      <th>idle_men</th>\n",
       "      <th>no_of_style_change</th>\n",
       "      <th>no_of_workers</th>\n",
       "      <th>actual_productivity</th>\n",
       "    </tr>\n",
       "  </thead>\n",
       "  <tbody>\n",
       "    <tr>\n",
       "      <th>0</th>\n",
       "      <td>0.0</td>\n",
       "      <td>0.0</td>\n",
       "      <td>0.0</td>\n",
       "      <td>0.0</td>\n",
       "      <td>0.0</td>\n",
       "      <td>0.0</td>\n",
       "      <td>0.0</td>\n",
       "      <td>0.0</td>\n",
       "      <td>0.0</td>\n",
       "      <td>0.0</td>\n",
       "      <td>0.0</td>\n",
       "      <td>0.0</td>\n",
       "      <td>0.0</td>\n",
       "      <td>0.0</td>\n",
       "    </tr>\n",
       "  </tbody>\n",
       "</table>\n",
       "</div>"
      ],
      "text/plain": [
       "   date  quarter  department  day  team  targeted_productivity  smv  \\\n",
       "0   0.0      0.0         0.0  0.0   0.0                    0.0  0.0   \n",
       "\n",
       "   over_time  incentive  idle_time  idle_men  no_of_style_change  \\\n",
       "0        0.0        0.0        0.0       0.0                 0.0   \n",
       "\n",
       "   no_of_workers  actual_productivity  \n",
       "0            0.0                  0.0  "
      ]
     },
     "execution_count": 10,
     "metadata": {},
     "output_type": "execute_result"
    }
   ],
   "source": [
    "# Recheck for null values\n",
    "df1.select([(count(when(isnan(c) | col(c).isNull(), c))/1197).alias(c) for c in df1.columns]).toPandas()"
   ]
  },
  {
   "cell_type": "markdown",
   "metadata": {
    "id": "k5M_8GG9FhPL"
   },
   "source": [
    "Let's see the distinct values in department column.\n",
    "* Display distinct `department` from dataframe"
   ]
  },
  {
   "cell_type": "code",
   "execution_count": 11,
   "metadata": {
    "id": "PhXnYf4OFhPL"
   },
   "outputs": [
    {
     "data": {
      "text/plain": [
       "3"
      ]
     },
     "execution_count": 11,
     "metadata": {},
     "output_type": "execute_result"
    }
   ],
   "source": [
    "# Display count of distinct 'department'\n",
    "df1.select('department').distinct().count()"
   ]
  },
  {
   "cell_type": "code",
   "execution_count": 12,
   "metadata": {
    "id": "tSXZe3pwFhPL"
   },
   "outputs": [
    {
     "name": "stdout",
     "output_type": "stream",
     "text": [
      "+----------+\n",
      "|department|\n",
      "+----------+\n",
      "|    sweing|\n",
      "| finishing|\n",
      "|finishing |\n",
      "+----------+\n",
      "\n"
     ]
    }
   ],
   "source": [
    "# Display distinct values for 'department' column\n",
    "df1.select('department').distinct().show()"
   ]
  },
  {
   "cell_type": "markdown",
   "metadata": {
    "id": "I68uWOsiFhPL"
   },
   "source": [
    "There is ambiguity in distinct department values and it needs to be taken care of.\n",
    "* Transform department column"
   ]
  },
  {
   "cell_type": "code",
   "execution_count": 13,
   "metadata": {
    "id": "yZdsPCaAFhPL"
   },
   "outputs": [],
   "source": [
    "# Removing trailing spaces from both sides using department column\n",
    "df2 = df1.withColumn('department', trim(col('department')))"
   ]
  },
  {
   "cell_type": "code",
   "execution_count": 14,
   "metadata": {
    "id": "oRyZMZlSFhPM"
   },
   "outputs": [
    {
     "name": "stdout",
     "output_type": "stream",
     "text": [
      "+----------+\n",
      "|department|\n",
      "+----------+\n",
      "|    sweing|\n",
      "| finishing|\n",
      "+----------+\n",
      "\n"
     ]
    }
   ],
   "source": [
    "# Display distinct values for 'department' column\n",
    "df2.select('department').distinct().show()"
   ]
  },
  {
   "cell_type": "code",
   "execution_count": 15,
   "metadata": {
    "id": "_195IjXEFhPM"
   },
   "outputs": [],
   "source": [
    "# Replacing department value from 'sweing' to 'sewing' \n",
    "df3 = df2.withColumn('department', regexp_replace(col('department'), 'sweing', 'sewing'))"
   ]
  },
  {
   "cell_type": "code",
   "execution_count": 16,
   "metadata": {
    "id": "T2b72zb6FhPM"
   },
   "outputs": [
    {
     "name": "stdout",
     "output_type": "stream",
     "text": [
      "+----------+\n",
      "|department|\n",
      "+----------+\n",
      "|    sewing|\n",
      "| finishing|\n",
      "+----------+\n",
      "\n"
     ]
    }
   ],
   "source": [
    "# Display distinct values for 'department' column\n",
    "df3.select('department').distinct().show()"
   ]
  },
  {
   "cell_type": "markdown",
   "metadata": {
    "id": "5YPfkb-yFhPM"
   },
   "source": [
    "Similar to the distinct department values, our data might contain duplicate values as well.\n",
    "* Check for duplicate values in data"
   ]
  },
  {
   "cell_type": "code",
   "execution_count": 17,
   "metadata": {
    "id": "kJHpOnaBFhPM"
   },
   "outputs": [
    {
     "name": "stdout",
     "output_type": "stream",
     "text": [
      "Data has no duplicates\n"
     ]
    }
   ],
   "source": [
    "cols = df3.columns\n",
    "if df3.count() > df3.dropDuplicates(cols).count():\n",
    "    print('Data has duplicates')\n",
    "else:\n",
    "  print('Data has no duplicates')"
   ]
  },
  {
   "cell_type": "markdown",
   "metadata": {
    "id": "-91dTPIBFhPN"
   },
   "source": [
    "If data has duplicate values, run the below cell by uncommenting it"
   ]
  },
  {
   "cell_type": "code",
   "execution_count": 18,
   "metadata": {
    "id": "eS5t2r0_FhPN"
   },
   "outputs": [],
   "source": [
    "# df3 = df3.dropDuplicates(df3.columns)"
   ]
  },
  {
   "cell_type": "markdown",
   "metadata": {
    "id": "hFFNpfG-FhPN"
   },
   "source": [
    "After removing duplicates, let's take a look at the datatypes of our columns.\n",
    "* Display data types of dataframe columns"
   ]
  },
  {
   "cell_type": "code",
   "execution_count": 19,
   "metadata": {
    "id": "fdaA7KR4FhPN"
   },
   "outputs": [
    {
     "data": {
      "text/plain": [
       "[('date', 'string'),\n",
       " ('quarter', 'string'),\n",
       " ('department', 'string'),\n",
       " ('day', 'string'),\n",
       " ('team', 'int'),\n",
       " ('targeted_productivity', 'double'),\n",
       " ('smv', 'double'),\n",
       " ('over_time', 'int'),\n",
       " ('incentive', 'int'),\n",
       " ('idle_time', 'double'),\n",
       " ('idle_men', 'int'),\n",
       " ('no_of_style_change', 'int'),\n",
       " ('no_of_workers', 'double'),\n",
       " ('actual_productivity', 'double')]"
      ]
     },
     "execution_count": 19,
     "metadata": {},
     "output_type": "execute_result"
    }
   ],
   "source": [
    "# Print the data types \n",
    "df3.dtypes"
   ]
  },
  {
   "cell_type": "markdown",
   "metadata": {
    "id": "CvLXXC_BFhPN"
   },
   "source": [
    "Here, the 'date' column has a string datatype. In order to perform analytics involving year and month, we need to convert it into timestamp datatype. \n",
    "* Transform the `date` column from string type to Spark `timestamp` data type"
   ]
  },
  {
   "cell_type": "code",
   "execution_count": 20,
   "metadata": {
    "id": "X8PVJt_bFhPO"
   },
   "outputs": [],
   "source": [
    "df4 = df3.withColumn(\"date\", to_timestamp(col(\"date\"), \"M/d/yyyy\"))"
   ]
  },
  {
   "cell_type": "code",
   "execution_count": 21,
   "metadata": {
    "id": "19alU-8kFhPO"
   },
   "outputs": [
    {
     "data": {
      "text/plain": [
       "[('date', 'timestamp'),\n",
       " ('quarter', 'string'),\n",
       " ('department', 'string'),\n",
       " ('day', 'string'),\n",
       " ('team', 'int'),\n",
       " ('targeted_productivity', 'double'),\n",
       " ('smv', 'double'),\n",
       " ('over_time', 'int'),\n",
       " ('incentive', 'int'),\n",
       " ('idle_time', 'double'),\n",
       " ('idle_men', 'int'),\n",
       " ('no_of_style_change', 'int'),\n",
       " ('no_of_workers', 'double'),\n",
       " ('actual_productivity', 'double')]"
      ]
     },
     "execution_count": 21,
     "metadata": {},
     "output_type": "execute_result"
    }
   ],
   "source": [
    "df4.dtypes"
   ]
  },
  {
   "cell_type": "markdown",
   "metadata": {
    "id": "Clxysl2cFhPO"
   },
   "source": [
    "Now we can use the `year()` SQL Spark function on the Timestamp column data type `date`.\n",
    "* Display how many distinct years of data is in the dataset"
   ]
  },
  {
   "cell_type": "code",
   "execution_count": 22,
   "metadata": {
    "id": "Zqe9JtGpFhPO"
   },
   "outputs": [
    {
     "name": "stdout",
     "output_type": "stream",
     "text": [
      "+----------+\n",
      "|year(date)|\n",
      "+----------+\n",
      "|      2015|\n",
      "+----------+\n",
      "\n"
     ]
    }
   ],
   "source": [
    "df4.select(year('date')).distinct().orderBy(year('date')).show()"
   ]
  },
  {
   "cell_type": "markdown",
   "metadata": {
    "id": "mRbxYZF1FhPO"
   },
   "source": [
    "We see that all the records are from the year 2015.\n",
    "\n",
    "Similar to year() we can use the `month()` SQL Spark function on the Timestamp datatype column `date`.\n",
    "* Display how many distinct months of data is in the dataset"
   ]
  },
  {
   "cell_type": "code",
   "execution_count": 23,
   "metadata": {
    "id": "ISePnPs0FhPR"
   },
   "outputs": [
    {
     "name": "stdout",
     "output_type": "stream",
     "text": [
      "+-----------+\n",
      "|month(date)|\n",
      "+-----------+\n",
      "|          1|\n",
      "|          2|\n",
      "|          3|\n",
      "+-----------+\n",
      "\n"
     ]
    }
   ],
   "source": [
    "df4.select(month('date')).distinct().orderBy(month('date')).show()"
   ]
  },
  {
   "cell_type": "markdown",
   "metadata": {
    "id": "rS8SPyPGFhPS"
   },
   "source": [
    "We see that the data was collected in the months January to March."
   ]
  },
  {
   "cell_type": "markdown",
   "metadata": {
    "id": "C_ZMvuN9FhPS"
   },
   "source": [
    "* Check in which month the productivity was maximum"
   ]
  },
  {
   "cell_type": "code",
   "execution_count": 24,
   "metadata": {
    "id": "F5fc05-0FhPS"
   },
   "outputs": [
    {
     "name": "stdout",
     "output_type": "stream",
     "text": [
      "+-----------+------------------------+\n",
      "|month(date)|avg(actual_productivity)|\n",
      "+-----------+------------------------+\n",
      "|          1|      0.7554150713210328|\n",
      "|          3|      0.7189527641273588|\n",
      "|          2|      0.7179482808871328|\n",
      "+-----------+------------------------+\n",
      "\n"
     ]
    },
    {
     "data": {
      "text/plain": [
       "<AxesSubplot:xlabel='month(date)', ylabel='avg(actual_productivity)'>"
      ]
     },
     "execution_count": 24,
     "metadata": {},
     "output_type": "execute_result"
    },
    {
     "data": {
      "image/png": "[encoded data removed]",
      "text/plain": [
       "<Figure size 432x288 with 1 Axes>"
      ]
     },
     "metadata": {
      "needs_background": "light"
     },
     "output_type": "display_data"
    }
   ],
   "source": [
    "df_d = df4.groupby(month('date')).avg().select(['month(date)', 'avg(actual_productivity)'])\n",
    "df_d.show()\n",
    "sns.barplot(x = df_d.toPandas()['month(date)'], y= df_d.toPandas()['avg(actual_productivity)'])"
   ]
  },
  {
   "cell_type": "markdown",
   "metadata": {
    "id": "nSgxRTs2FhPS"
   },
   "source": [
    "From the above plot, it can be seen that in January the productivity was little higher than remaining two.\n",
    "\n",
    "Let's gain few more insights from the data\n",
    "* Display the incentives paid to different teams"
   ]
  },
  {
   "cell_type": "code",
   "execution_count": 25,
   "metadata": {
    "id": "1GM_CVgZFhPS"
   },
   "outputs": [
    {
     "name": "stdout",
     "output_type": "stream",
     "text": [
      "+----+------------------+\n",
      "|team|    avg(incentive)|\n",
      "+----+------------------+\n",
      "|  12|  41.2020202020202|\n",
      "|   1|              46.6|\n",
      "|   6| 22.70212765957447|\n",
      "|   3| 49.55789473684211|\n",
      "|   5| 49.13978494623656|\n",
      "|   9| 60.93269230769231|\n",
      "|   4| 35.04761904761905|\n",
      "|   8|24.880733944954127|\n",
      "|   7|          15.53125|\n",
      "|  10|             36.33|\n",
      "|  11| 37.90909090909091|\n",
      "|   2|38.211009174311926|\n",
      "+----+------------------+\n",
      "\n"
     ]
    },
    {
     "data": {
      "text/plain": [
       "<AxesSubplot:xlabel='team', ylabel='avg(incentive)'>"
      ]
     },
     "execution_count": 25,
     "metadata": {},
     "output_type": "execute_result"
    },
    {
     "data": {
      "image/png": "[encoded data removed]",
      "text/plain": [
       "<Figure size 432x288 with 1 Axes>"
      ]
     },
     "metadata": {
      "needs_background": "light"
     },
     "output_type": "display_data"
    }
   ],
   "source": [
    "df_i = df4.groupby('team').avg().select(['team', 'avg(incentive)'])\n",
    "df_i.show()\n",
    "sns.barplot(x = df_i.toPandas()['team'], y= df_i.toPandas()['avg(incentive)'])"
   ]
  },
  {
   "cell_type": "markdown",
   "metadata": {
    "id": "9IRv_tDkFhPS"
   },
   "source": [
    "So on average team 9 received the highest incentive.\n",
    "* Display number of workers in each Team"
   ]
  },
  {
   "cell_type": "code",
   "execution_count": 27,
   "metadata": {
    "id": "9_3wTe13FhPS"
   },
   "outputs": [
    {
     "name": "stdout",
     "output_type": "stream",
     "text": [
      "+----+------------------+\n",
      "|team|sum(no_of_workers)|\n",
      "+----+------------------+\n",
      "|  12|            2368.0|\n",
      "|   1|            3679.5|\n",
      "|   6|            2366.0|\n",
      "|   3|            3754.5|\n",
      "|   5|            3662.5|\n",
      "|   9|            3662.0|\n",
      "|   4|            4011.0|\n",
      "|   8|            3650.5|\n",
      "|   7|            3561.5|\n",
      "|  10|            3529.5|\n",
      "|  11|            3409.0|\n",
      "|   2|            3774.0|\n",
      "+----+------------------+\n",
      "\n"
     ]
    },
    {
     "data": {
      "text/plain": [
       "<AxesSubplot:xlabel='team', ylabel='sum(no_of_workers)'>"
      ]
     },
     "execution_count": 27,
     "metadata": {},
     "output_type": "execute_result"
    },
    {
     "data": {
      "image/png": "[encoded data removed]",
      "text/plain": [
       "<Figure size 432x288 with 1 Axes>"
      ]
     },
     "metadata": {
      "needs_background": "light"
     },
     "output_type": "display_data"
    }
   ],
   "source": [
    "df_w = df4.groupby('team').sum().select(['team', 'sum(no_of_workers)'])\n",
    "df_w.show()\n",
    "sns.barplot(x = df_w.toPandas()['team'], y= df_w.toPandas()['sum(no_of_workers)'])"
   ]
  },
  {
   "cell_type": "markdown",
   "metadata": {
    "id": "9EHlIhavFhPT"
   },
   "source": [
    "From the above plot, it can be seen that team 6 and 12 have less number of workers compared to other teams.\n",
    "\n",
    "Let's find out how much it costs for the first quarter of the first month.\n",
    "* Display the `incentive` paid for the first quarter of the first month"
   ]
  },
  {
   "cell_type": "code",
   "execution_count": 28,
   "metadata": {
    "id": "KIKPLKx1FhPT"
   },
   "outputs": [
    {
     "name": "stdout",
     "output_type": "stream",
     "text": [
      "+-----------+--------+---------+\n",
      "|month(date)| quarter|incentive|\n",
      "+-----------+--------+---------+\n",
      "|          1|Quarter1|       98|\n",
      "|          1|Quarter1|        0|\n",
      "|          1|Quarter1|       50|\n",
      "|          1|Quarter1|       50|\n",
      "|          1|Quarter1|       50|\n",
      "+-----------+--------+---------+\n",
      "only showing top 5 rows\n",
      "\n",
      "+--------------+\n",
      "|sum(incentive)|\n",
      "+--------------+\n",
      "|          3525|\n",
      "+--------------+\n",
      "\n"
     ]
    }
   ],
   "source": [
    "df_q = df4.select(month(\"date\"), \"quarter\", \"incentive\").where((col('month(date)') == 1) & (col(\"quarter\") == \"Quarter1\"))\n",
    "df_q.show(5)\n",
    "df_q.groupby('quarter').sum().select('sum(incentive)').show()"
   ]
  },
  {
   "cell_type": "markdown",
   "metadata": {
    "id": "g1oXWp_fFhPT"
   },
   "source": [
    "Before fitting to a model, the outlier removal and feature scaling of data are important.\n",
    "* Check for outliers"
   ]
  },
  {
   "cell_type": "code",
   "execution_count": 29,
   "metadata": {
    "id": "N35RLI5PFhPT"
   },
   "outputs": [
    {
     "data": {
      "image/png": "[encoded data removed]",
      "text/plain": [
       "<Figure size 432x288 with 1 Axes>"
      ]
     },
     "metadata": {
      "needs_background": "light"
     },
     "output_type": "display_data"
    }
   ],
   "source": [
    "df4.toPandas().boxplot()\n",
    "plt.xticks(rotation= 90)\n",
    "plt.show()"
   ]
  },
  {
   "cell_type": "markdown",
   "metadata": {
    "id": "4arjqqo6FhPT"
   },
   "source": [
    "* Handling outliers\n",
    "\n",
    "Here instead of removing the outliers we will change their values to upper bound and lower bound depending on whether the value is higher than upper bound or lower than lower bound respectively."
   ]
  },
  {
   "cell_type": "code",
   "execution_count": 38,
   "metadata": {
    "id": "NkOMFKlvFhPT"
   },
   "outputs": [],
   "source": [
    "df5 = df4\n",
    "outlier_cols = [\"targeted_productivity\", \"smv\", \"over_time\", \"incentive\", \"idle_time\", \"idle_men\", \"no_of_style_change\", \"actual_productivity\"] # Columns with outliers\n",
    "def handle_outliers(df, colm):\n",
    "    df = df.toPandas()\n",
    "    q1 = df.describe()[colm].loc[\"25%\"]\n",
    "    q3 = df.describe()[colm].loc[\"75%\"]\n",
    "    iqr = q3 - q1\n",
    "    lower_bound = q1 - (1.5 * iqr)\n",
    "    upper_bound = q3 + (1.5 * iqr)\n",
    "    for i in range(len(df)):\n",
    "      if df.loc[i,colm] > upper_bound:\n",
    "        df.loc[i,colm]= upper_bound\n",
    "      if df.loc[i,colm] < lower_bound:\n",
    "        df.loc[i,colm]= lower_bound\n",
    "    return spark.createDataFrame(df)\n",
    "    \n",
    "for colm in outlier_cols:\n",
    "    df5 = handle_outliers(df5, colm)"
   ]
  },
  {
   "cell_type": "code",
   "execution_count": 31,
   "metadata": {
    "id": "oWlcasCMFhPT"
   },
   "outputs": [
    {
     "data": {
      "image/png": "[encoded data removed]",
      "text/plain": [
       "<Figure size 432x288 with 1 Axes>"
      ]
     },
     "metadata": {
      "needs_background": "light"
     },
     "output_type": "display_data"
    }
   ],
   "source": [
    "# Recheck for outliers\n",
    "df5.toPandas().boxplot()\n",
    "plt.xticks(rotation= 90)\n",
    "plt.show()"
   ]
  },
  {
   "cell_type": "markdown",
   "metadata": {
    "id": "DnDUZeBPFhPU"
   },
   "source": [
    "* Scaling features"
   ]
  },
  {
   "cell_type": "code",
   "execution_count": 32,
   "metadata": {
    "id": "xpZy1k0GFhPU"
   },
   "outputs": [
    {
     "data": {
      "text/html": [
       "<div>\n",
       "<style scoped>\n",
       "    .dataframe tbody tr th:only-of-type {\n",
       "        vertical-align: middle;\n",
       "    }\n",
       "\n",
       "    .dataframe tbody tr th {\n",
       "        vertical-align: top;\n",
       "    }\n",
       "\n",
       "    .dataframe thead th {\n",
       "        text-align: right;\n",
       "    }\n",
       "</style>\n",
       "<table border=\"1\" class=\"dataframe\">\n",
       "  <thead>\n",
       "    <tr style=\"text-align: right;\">\n",
       "      <th></th>\n",
       "      <th>team</th>\n",
       "      <th>targeted_productivity</th>\n",
       "      <th>smv</th>\n",
       "      <th>over_time</th>\n",
       "      <th>incentive</th>\n",
       "      <th>idle_time</th>\n",
       "      <th>idle_men</th>\n",
       "      <th>no_of_style_change</th>\n",
       "      <th>no_of_workers</th>\n",
       "      <th>actual_productivity</th>\n",
       "    </tr>\n",
       "  </thead>\n",
       "  <tbody>\n",
       "    <tr>\n",
       "      <th>count</th>\n",
       "      <td>1197.000000</td>\n",
       "      <td>1197.000000</td>\n",
       "      <td>1197.000000</td>\n",
       "      <td>1197.000000</td>\n",
       "      <td>1197.000000</td>\n",
       "      <td>1197.0</td>\n",
       "      <td>1197.0</td>\n",
       "      <td>1197.0</td>\n",
       "      <td>1197.000000</td>\n",
       "      <td>1197.000000</td>\n",
       "    </tr>\n",
       "    <tr>\n",
       "      <th>mean</th>\n",
       "      <td>6.426901</td>\n",
       "      <td>0.736842</td>\n",
       "      <td>15.062172</td>\n",
       "      <td>4558.538012</td>\n",
       "      <td>26.712615</td>\n",
       "      <td>0.0</td>\n",
       "      <td>0.0</td>\n",
       "      <td>0.0</td>\n",
       "      <td>34.609858</td>\n",
       "      <td>0.737397</td>\n",
       "    </tr>\n",
       "    <tr>\n",
       "      <th>std</th>\n",
       "      <td>3.463963</td>\n",
       "      <td>0.075515</td>\n",
       "      <td>10.943219</td>\n",
       "      <td>3305.837733</td>\n",
       "      <td>31.563351</td>\n",
       "      <td>0.0</td>\n",
       "      <td>0.0</td>\n",
       "      <td>0.0</td>\n",
       "      <td>22.197687</td>\n",
       "      <td>0.168772</td>\n",
       "    </tr>\n",
       "    <tr>\n",
       "      <th>min</th>\n",
       "      <td>1.000000</td>\n",
       "      <td>0.550000</td>\n",
       "      <td>2.900000</td>\n",
       "      <td>0.000000</td>\n",
       "      <td>0.000000</td>\n",
       "      <td>0.0</td>\n",
       "      <td>0.0</td>\n",
       "      <td>0.0</td>\n",
       "      <td>2.000000</td>\n",
       "      <td>0.350389</td>\n",
       "    </tr>\n",
       "    <tr>\n",
       "      <th>25%</th>\n",
       "      <td>3.000000</td>\n",
       "      <td>0.700000</td>\n",
       "      <td>3.940000</td>\n",
       "      <td>1440.000000</td>\n",
       "      <td>0.000000</td>\n",
       "      <td>0.0</td>\n",
       "      <td>0.0</td>\n",
       "      <td>0.0</td>\n",
       "      <td>9.000000</td>\n",
       "      <td>0.650307</td>\n",
       "    </tr>\n",
       "    <tr>\n",
       "      <th>50%</th>\n",
       "      <td>6.000000</td>\n",
       "      <td>0.750000</td>\n",
       "      <td>15.260000</td>\n",
       "      <td>3960.000000</td>\n",
       "      <td>0.000000</td>\n",
       "      <td>0.0</td>\n",
       "      <td>0.0</td>\n",
       "      <td>0.0</td>\n",
       "      <td>34.000000</td>\n",
       "      <td>0.773333</td>\n",
       "    </tr>\n",
       "    <tr>\n",
       "      <th>75%</th>\n",
       "      <td>9.000000</td>\n",
       "      <td>0.800000</td>\n",
       "      <td>24.260000</td>\n",
       "      <td>6960.000000</td>\n",
       "      <td>50.000000</td>\n",
       "      <td>0.0</td>\n",
       "      <td>0.0</td>\n",
       "      <td>0.0</td>\n",
       "      <td>57.000000</td>\n",
       "      <td>0.850253</td>\n",
       "    </tr>\n",
       "    <tr>\n",
       "      <th>max</th>\n",
       "      <td>12.000000</td>\n",
       "      <td>0.800000</td>\n",
       "      <td>54.560000</td>\n",
       "      <td>15240.000000</td>\n",
       "      <td>125.000000</td>\n",
       "      <td>0.0</td>\n",
       "      <td>0.0</td>\n",
       "      <td>0.0</td>\n",
       "      <td>89.000000</td>\n",
       "      <td>1.120437</td>\n",
       "    </tr>\n",
       "  </tbody>\n",
       "</table>\n",
       "</div>"
      ],
      "text/plain": [
       "              team  targeted_productivity          smv     over_time  \\\n",
       "count  1197.000000            1197.000000  1197.000000   1197.000000   \n",
       "mean      6.426901               0.736842    15.062172   4558.538012   \n",
       "std       3.463963               0.075515    10.943219   3305.837733   \n",
       "min       1.000000               0.550000     2.900000      0.000000   \n",
       "25%       3.000000               0.700000     3.940000   1440.000000   \n",
       "50%       6.000000               0.750000    15.260000   3960.000000   \n",
       "75%       9.000000               0.800000    24.260000   6960.000000   \n",
       "max      12.000000               0.800000    54.560000  15240.000000   \n",
       "\n",
       "         incentive  idle_time  idle_men  no_of_style_change  no_of_workers  \\\n",
       "count  1197.000000     1197.0    1197.0              1197.0    1197.000000   \n",
       "mean     26.712615        0.0       0.0                 0.0      34.609858   \n",
       "std      31.563351        0.0       0.0                 0.0      22.197687   \n",
       "min       0.000000        0.0       0.0                 0.0       2.000000   \n",
       "25%       0.000000        0.0       0.0                 0.0       9.000000   \n",
       "50%       0.000000        0.0       0.0                 0.0      34.000000   \n",
       "75%      50.000000        0.0       0.0                 0.0      57.000000   \n",
       "max     125.000000        0.0       0.0                 0.0      89.000000   \n",
       "\n",
       "       actual_productivity  \n",
       "count          1197.000000  \n",
       "mean              0.737397  \n",
       "std               0.168772  \n",
       "min               0.350389  \n",
       "25%               0.650307  \n",
       "50%               0.773333  \n",
       "75%               0.850253  \n",
       "max               1.120437  "
      ]
     },
     "execution_count": 32,
     "metadata": {},
     "output_type": "execute_result"
    }
   ],
   "source": [
    "# Display the statistics of dataframe\n",
    "df5.toPandas().describe()"
   ]
  },
  {
   "cell_type": "code",
   "execution_count": 34,
   "metadata": {
    "id": "5ZaHW1C7FhPU"
   },
   "outputs": [],
   "source": [
    "# Specify columns that need to be scaled\n",
    "columns = [\"smv\", \"over_time\", \"incentive\", \"no_of_workers\"]"
   ]
  },
  {
   "cell_type": "code",
   "execution_count": 39,
   "metadata": {},
   "outputs": [
    {
     "data": {
      "text/html": [
       "<div>\n",
       "<style scoped>\n",
       "    .dataframe tbody tr th:only-of-type {\n",
       "        vertical-align: middle;\n",
       "    }\n",
       "\n",
       "    .dataframe tbody tr th {\n",
       "        vertical-align: top;\n",
       "    }\n",
       "\n",
       "    .dataframe thead th {\n",
       "        text-align: right;\n",
       "    }\n",
       "</style>\n",
       "<table border=\"1\" class=\"dataframe\">\n",
       "  <thead>\n",
       "    <tr style=\"text-align: right;\">\n",
       "      <th></th>\n",
       "      <th>date</th>\n",
       "      <th>quarter</th>\n",
       "      <th>department</th>\n",
       "      <th>day</th>\n",
       "      <th>team</th>\n",
       "      <th>targeted_productivity</th>\n",
       "      <th>smv</th>\n",
       "      <th>over_time</th>\n",
       "      <th>incentive</th>\n",
       "      <th>idle_time</th>\n",
       "      <th>idle_men</th>\n",
       "      <th>no_of_style_change</th>\n",
       "      <th>no_of_workers</th>\n",
       "      <th>actual_productivity</th>\n",
       "    </tr>\n",
       "  </thead>\n",
       "  <tbody>\n",
       "    <tr>\n",
       "      <th>0</th>\n",
       "      <td>2015-01-01</td>\n",
       "      <td>Quarter1</td>\n",
       "      <td>sewing</td>\n",
       "      <td>Thursday</td>\n",
       "      <td>8</td>\n",
       "      <td>0.80</td>\n",
       "      <td>26.16</td>\n",
       "      <td>7080</td>\n",
       "      <td>98</td>\n",
       "      <td>0.0</td>\n",
       "      <td>0</td>\n",
       "      <td>0</td>\n",
       "      <td>59.0</td>\n",
       "      <td>0.940725</td>\n",
       "    </tr>\n",
       "    <tr>\n",
       "      <th>1</th>\n",
       "      <td>2015-01-01</td>\n",
       "      <td>Quarter1</td>\n",
       "      <td>finishing</td>\n",
       "      <td>Thursday</td>\n",
       "      <td>1</td>\n",
       "      <td>0.75</td>\n",
       "      <td>3.94</td>\n",
       "      <td>960</td>\n",
       "      <td>0</td>\n",
       "      <td>0.0</td>\n",
       "      <td>0</td>\n",
       "      <td>0</td>\n",
       "      <td>8.0</td>\n",
       "      <td>0.886500</td>\n",
       "    </tr>\n",
       "    <tr>\n",
       "      <th>2</th>\n",
       "      <td>2015-01-01</td>\n",
       "      <td>Quarter1</td>\n",
       "      <td>sewing</td>\n",
       "      <td>Thursday</td>\n",
       "      <td>11</td>\n",
       "      <td>0.80</td>\n",
       "      <td>11.41</td>\n",
       "      <td>3660</td>\n",
       "      <td>50</td>\n",
       "      <td>0.0</td>\n",
       "      <td>0</td>\n",
       "      <td>0</td>\n",
       "      <td>30.5</td>\n",
       "      <td>0.800570</td>\n",
       "    </tr>\n",
       "    <tr>\n",
       "      <th>3</th>\n",
       "      <td>2015-01-01</td>\n",
       "      <td>Quarter1</td>\n",
       "      <td>sewing</td>\n",
       "      <td>Thursday</td>\n",
       "      <td>12</td>\n",
       "      <td>0.80</td>\n",
       "      <td>11.41</td>\n",
       "      <td>3660</td>\n",
       "      <td>50</td>\n",
       "      <td>0.0</td>\n",
       "      <td>0</td>\n",
       "      <td>0</td>\n",
       "      <td>30.5</td>\n",
       "      <td>0.800570</td>\n",
       "    </tr>\n",
       "    <tr>\n",
       "      <th>4</th>\n",
       "      <td>2015-01-01</td>\n",
       "      <td>Quarter1</td>\n",
       "      <td>sewing</td>\n",
       "      <td>Thursday</td>\n",
       "      <td>6</td>\n",
       "      <td>0.80</td>\n",
       "      <td>25.90</td>\n",
       "      <td>1920</td>\n",
       "      <td>50</td>\n",
       "      <td>0.0</td>\n",
       "      <td>0</td>\n",
       "      <td>0</td>\n",
       "      <td>56.0</td>\n",
       "      <td>0.800382</td>\n",
       "    </tr>\n",
       "  </tbody>\n",
       "</table>\n",
       "</div>"
      ],
      "text/plain": [
       "        date   quarter department       day  team  targeted_productivity  \\\n",
       "0 2015-01-01  Quarter1     sewing  Thursday     8                   0.80   \n",
       "1 2015-01-01  Quarter1  finishing  Thursday     1                   0.75   \n",
       "2 2015-01-01  Quarter1     sewing  Thursday    11                   0.80   \n",
       "3 2015-01-01  Quarter1     sewing  Thursday    12                   0.80   \n",
       "4 2015-01-01  Quarter1     sewing  Thursday     6                   0.80   \n",
       "\n",
       "     smv  over_time  incentive  idle_time  idle_men  no_of_style_change  \\\n",
       "0  26.16       7080         98        0.0         0                   0   \n",
       "1   3.94        960          0        0.0         0                   0   \n",
       "2  11.41       3660         50        0.0         0                   0   \n",
       "3  11.41       3660         50        0.0         0                   0   \n",
       "4  25.90       1920         50        0.0         0                   0   \n",
       "\n",
       "   no_of_workers  actual_productivity  \n",
       "0           59.0             0.940725  \n",
       "1            8.0             0.886500  \n",
       "2           30.5             0.800570  \n",
       "3           30.5             0.800570  \n",
       "4           56.0             0.800382  "
      ]
     },
     "execution_count": 39,
     "metadata": {},
     "output_type": "execute_result"
    }
   ],
   "source": [
    "df5.limit(5).toPandas()"
   ]
  },
  {
   "cell_type": "code",
   "execution_count": 36,
   "metadata": {
    "id": "-8pgGe4yFhPU"
   },
   "outputs": [
    {
     "name": "stdout",
     "output_type": "stream",
     "text": [
      "Before Scaling :\n",
      "After Scaling :\n"
     ]
    },
    {
     "data": {
      "text/html": [
       "<div>\n",
       "<style scoped>\n",
       "    .dataframe tbody tr th:only-of-type {\n",
       "        vertical-align: middle;\n",
       "    }\n",
       "\n",
       "    .dataframe tbody tr th {\n",
       "        vertical-align: top;\n",
       "    }\n",
       "\n",
       "    .dataframe thead th {\n",
       "        text-align: right;\n",
       "    }\n",
       "</style>\n",
       "<table border=\"1\" class=\"dataframe\">\n",
       "  <thead>\n",
       "    <tr style=\"text-align: right;\">\n",
       "      <th></th>\n",
       "      <th>date</th>\n",
       "      <th>quarter</th>\n",
       "      <th>department</th>\n",
       "      <th>day</th>\n",
       "      <th>team</th>\n",
       "      <th>targeted_productivity</th>\n",
       "      <th>smv</th>\n",
       "      <th>over_time</th>\n",
       "      <th>incentive</th>\n",
       "      <th>idle_time</th>\n",
       "      <th>idle_men</th>\n",
       "      <th>no_of_style_change</th>\n",
       "      <th>no_of_workers</th>\n",
       "      <th>actual_productivity</th>\n",
       "      <th>smv_Scaled</th>\n",
       "      <th>over_time_Scaled</th>\n",
       "      <th>incentive_Scaled</th>\n",
       "      <th>no_of_workers_Scaled</th>\n",
       "    </tr>\n",
       "  </thead>\n",
       "  <tbody>\n",
       "    <tr>\n",
       "      <th>0</th>\n",
       "      <td>2015-01-01</td>\n",
       "      <td>Quarter1</td>\n",
       "      <td>sewing</td>\n",
       "      <td>Thursday</td>\n",
       "      <td>8</td>\n",
       "      <td>0.80</td>\n",
       "      <td>26.16</td>\n",
       "      <td>7080</td>\n",
       "      <td>98</td>\n",
       "      <td>0.0</td>\n",
       "      <td>0</td>\n",
       "      <td>0</td>\n",
       "      <td>59.0</td>\n",
       "      <td>0.940725</td>\n",
       "      <td>0.450252</td>\n",
       "      <td>0.464567</td>\n",
       "      <td>0.784</td>\n",
       "      <td>0.655172</td>\n",
       "    </tr>\n",
       "    <tr>\n",
       "      <th>1</th>\n",
       "      <td>2015-01-01</td>\n",
       "      <td>Quarter1</td>\n",
       "      <td>finishing</td>\n",
       "      <td>Thursday</td>\n",
       "      <td>1</td>\n",
       "      <td>0.75</td>\n",
       "      <td>3.94</td>\n",
       "      <td>960</td>\n",
       "      <td>0</td>\n",
       "      <td>0.0</td>\n",
       "      <td>0</td>\n",
       "      <td>0</td>\n",
       "      <td>8.0</td>\n",
       "      <td>0.886500</td>\n",
       "      <td>0.020132</td>\n",
       "      <td>0.062992</td>\n",
       "      <td>0.000</td>\n",
       "      <td>0.068966</td>\n",
       "    </tr>\n",
       "    <tr>\n",
       "      <th>2</th>\n",
       "      <td>2015-01-01</td>\n",
       "      <td>Quarter1</td>\n",
       "      <td>sewing</td>\n",
       "      <td>Thursday</td>\n",
       "      <td>11</td>\n",
       "      <td>0.80</td>\n",
       "      <td>11.41</td>\n",
       "      <td>3660</td>\n",
       "      <td>50</td>\n",
       "      <td>0.0</td>\n",
       "      <td>0</td>\n",
       "      <td>0</td>\n",
       "      <td>30.5</td>\n",
       "      <td>0.800570</td>\n",
       "      <td>0.164731</td>\n",
       "      <td>0.240157</td>\n",
       "      <td>0.400</td>\n",
       "      <td>0.327586</td>\n",
       "    </tr>\n",
       "    <tr>\n",
       "      <th>3</th>\n",
       "      <td>2015-01-01</td>\n",
       "      <td>Quarter1</td>\n",
       "      <td>sewing</td>\n",
       "      <td>Thursday</td>\n",
       "      <td>12</td>\n",
       "      <td>0.80</td>\n",
       "      <td>11.41</td>\n",
       "      <td>3660</td>\n",
       "      <td>50</td>\n",
       "      <td>0.0</td>\n",
       "      <td>0</td>\n",
       "      <td>0</td>\n",
       "      <td>30.5</td>\n",
       "      <td>0.800570</td>\n",
       "      <td>0.164731</td>\n",
       "      <td>0.240157</td>\n",
       "      <td>0.400</td>\n",
       "      <td>0.327586</td>\n",
       "    </tr>\n",
       "    <tr>\n",
       "      <th>4</th>\n",
       "      <td>2015-01-01</td>\n",
       "      <td>Quarter1</td>\n",
       "      <td>sewing</td>\n",
       "      <td>Thursday</td>\n",
       "      <td>6</td>\n",
       "      <td>0.80</td>\n",
       "      <td>25.90</td>\n",
       "      <td>1920</td>\n",
       "      <td>50</td>\n",
       "      <td>0.0</td>\n",
       "      <td>0</td>\n",
       "      <td>0</td>\n",
       "      <td>56.0</td>\n",
       "      <td>0.800382</td>\n",
       "      <td>0.445219</td>\n",
       "      <td>0.125984</td>\n",
       "      <td>0.400</td>\n",
       "      <td>0.620690</td>\n",
       "    </tr>\n",
       "  </tbody>\n",
       "</table>\n",
       "</div>"
      ],
      "text/plain": [
       "        date   quarter department       day  team  targeted_productivity  \\\n",
       "0 2015-01-01  Quarter1     sewing  Thursday     8                   0.80   \n",
       "1 2015-01-01  Quarter1  finishing  Thursday     1                   0.75   \n",
       "2 2015-01-01  Quarter1     sewing  Thursday    11                   0.80   \n",
       "3 2015-01-01  Quarter1     sewing  Thursday    12                   0.80   \n",
       "4 2015-01-01  Quarter1     sewing  Thursday     6                   0.80   \n",
       "\n",
       "     smv  over_time  incentive  idle_time  idle_men  no_of_style_change  \\\n",
       "0  26.16       7080         98        0.0         0                   0   \n",
       "1   3.94        960          0        0.0         0                   0   \n",
       "2  11.41       3660         50        0.0         0                   0   \n",
       "3  11.41       3660         50        0.0         0                   0   \n",
       "4  25.90       1920         50        0.0         0                   0   \n",
       "\n",
       "   no_of_workers  actual_productivity  smv_Scaled  over_time_Scaled  \\\n",
       "0           59.0             0.940725    0.450252          0.464567   \n",
       "1            8.0             0.886500    0.020132          0.062992   \n",
       "2           30.5             0.800570    0.164731          0.240157   \n",
       "3           30.5             0.800570    0.164731          0.240157   \n",
       "4           56.0             0.800382    0.445219          0.125984   \n",
       "\n",
       "   incentive_Scaled  no_of_workers_Scaled  \n",
       "0             0.784              0.655172  \n",
       "1             0.000              0.068966  \n",
       "2             0.400              0.327586  \n",
       "3             0.400              0.327586  \n",
       "4             0.400              0.620690  "
      ]
     },
     "execution_count": 36,
     "metadata": {},
     "output_type": "execute_result"
    }
   ],
   "source": [
    "print(\"Before Scaling :\")\n",
    "df5.limit(5).toPandas()\n",
    "df6 = df5\n",
    "\n",
    "from pyspark.ml.feature import MinMaxScaler, VectorAssembler\n",
    "from pyspark.ml import Pipeline\n",
    "from pyspark.sql.functions import udf, round\n",
    "from pyspark.sql.types import DoubleType\n",
    "\n",
    "# UDF for converting column type from vector to double type\n",
    "unlist = udf(lambda x: float(list(x)[0]), DoubleType())\n",
    "spark.udf.register(\"unlist\", unlist)\n",
    "\n",
    "# Iterating over columns to be scaled\n",
    "for i in columns:\n",
    "    # VectorAssembler Transformation - Converting column to vector type\n",
    "    assembler = VectorAssembler(inputCols=[i],outputCol=i+\"_Vect\")\n",
    "\n",
    "    # MinMaxScaler Transformation\n",
    "    scaler = MinMaxScaler(inputCol=i+\"_Vect\", outputCol=i+\"_Scaled\")\n",
    "\n",
    "    # Pipeline of VectorAssembler and MinMaxScaler\n",
    "    pipeline = Pipeline(stages=[assembler, scaler])\n",
    "\n",
    "    # Fitting pipeline on dataframe\n",
    "    df6 = pipeline.fit(df6).transform(df6).withColumn(i+\"_Scaled\", unlist(i+\"_Scaled\")).drop(i+\"_Vect\")\n",
    "\n",
    "print(\"After Scaling :\")\n",
    "df6.limit(5).toPandas()"
   ]
  },
  {
   "cell_type": "markdown",
   "metadata": {
    "id": "XrNKGgMLFhPU"
   },
   "source": [
    "After outlier removal, few records got deleted. Let's create a new `id` column that will contain a unique value for each record."
   ]
  },
  {
   "cell_type": "code",
   "execution_count": 40,
   "metadata": {
    "id": "Vws1d6rPFhPU"
   },
   "outputs": [
    {
     "name": "stdout",
     "output_type": "stream",
     "text": [
      "+---+\n",
      "| id|\n",
      "+---+\n",
      "|  1|\n",
      "|  2|\n",
      "|  3|\n",
      "|  4|\n",
      "|  5|\n",
      "+---+\n",
      "only showing top 5 rows\n",
      "\n"
     ]
    }
   ],
   "source": [
    "df7 = df6.withColumn(\"id\", monotonically_increasing_id()+1)\n",
    "df7.select('id').show(5)"
   ]
  },
  {
   "cell_type": "markdown",
   "metadata": {
    "id": "AxtWPtpBFhPU"
   },
   "source": [
    "We can also perform SQL queries on spark dataframe using the `spark.sql()` function. But for that, we first need to register the dataframe as a table in the spark catalog. We can do this using the `createOrReplaceTempView()` spark dataframe method. It takes the name of the temporary table we'd like to register as argument. As this table is temporary, it can only be accessed from the specific SparkSession used to create the Spark dataframe. "
   ]
  },
  {
   "cell_type": "code",
   "execution_count": 41,
   "metadata": {
    "id": "IQuN6nz5FhPV"
   },
   "outputs": [
    {
     "name": "stdout",
     "output_type": "stream",
     "text": [
      "+-------------------+----------+----+-----+---------+---------+\n",
      "|               date|department|team|  smv|over_time|incentive|\n",
      "+-------------------+----------+----+-----+---------+---------+\n",
      "|2015-01-01 00:00:00|    sewing|   8|26.16|     7080|       98|\n",
      "|2015-01-01 00:00:00|    sewing|  11|11.41|     3660|       50|\n",
      "|2015-01-01 00:00:00|    sewing|  12|11.41|     3660|       50|\n",
      "|2015-01-01 00:00:00|    sewing|   6| 25.9|     1920|       50|\n",
      "|2015-01-01 00:00:00|    sewing|   7| 25.9|     6720|       38|\n",
      "+-------------------+----------+----+-----+---------+---------+\n",
      "only showing top 5 rows\n",
      "\n"
     ]
    }
   ],
   "source": [
    "df7.createOrReplaceTempView('df_table')\n",
    "spark.sql(\"select date, department, team, smv, over_time, incentive from df_table where department='sewing'\").show(5)"
   ]
  },
  {
   "cell_type": "markdown",
   "metadata": {
    "id": "NuxGK5lMFhPV"
   },
   "source": [
    "#### Load Data"
   ]
  },
  {
   "cell_type": "markdown",
   "metadata": {
    "id": "WZa9WGtjFhPV"
   },
   "source": [
    "Once we have extracted and transformed our data, we might want to load it into the destination or store it somewhere. We will load it into the MongoDB database."
   ]
  },
  {
   "cell_type": "markdown",
   "metadata": {
    "id": "Cw_To9V-FhPW"
   },
   "source": [
    "Data in MongoDB is represented and stored using JSON-style documents. In PyMongo we use dictionaries to represent documents."
   ]
  },
  {
   "cell_type": "code",
   "execution_count": 42,
   "metadata": {
    "id": "YQtw9vFnFhPW"
   },
   "outputs": [
    {
     "data": {
      "text/plain": [
       "[{'date': Timestamp('2015-01-01 00:00:00'),\n",
       "  'quarter': 'Quarter1',\n",
       "  'department': 'sewing',\n",
       "  'day': 'Thursday',\n",
       "  'team': 8.0,\n",
       "  'targeted_productivity': 0.8,\n",
       "  'smv': 26.16,\n",
       "  'over_time': 7080.0,\n",
       "  'incentive': 98.0,\n",
       "  'idle_time': 0.0,\n",
       "  'idle_men': 0.0,\n",
       "  'no_of_style_change': 0.0,\n",
       "  'no_of_workers': 59.0,\n",
       "  'actual_productivity': 0.940725424,\n",
       "  'smv_Scaled': 0.4502516453735966,\n",
       "  'over_time_Scaled': 0.4645669291338583,\n",
       "  'incentive_Scaled': 0.784,\n",
       "  'no_of_workers_Scaled': 0.6551724137931034,\n",
       "  'id': 1.0}]"
      ]
     },
     "execution_count": 42,
     "metadata": {},
     "output_type": "execute_result"
    }
   ],
   "source": [
    "data = df7.toPandas()\n",
    "documents = []\n",
    "for i in range(len(data)):\n",
    "        doc = data.iloc[i,:].to_dict()\n",
    "        for keys in doc:\n",
    "          if keys != 'date':\n",
    "            if type(doc[keys]) not in [str]:\n",
    "                doc[keys] = float(doc[keys])\n",
    "        documents.append(doc)\n",
    "documents[0:1]"
   ]
  },
  {
   "cell_type": "markdown",
   "metadata": {
    "id": "gBdnqWBmFhPW"
   },
   "source": [
    "If you would like to perform the data insertion step then please **create your own account** on MongoDB Atlas as given in the reference [here](https://cdn.iisc.talentsprint.com/CDS/DB_Connect_Docs/Assignment_MongoDB_Connect.pdf) and change the credentials and run the below code by uncommenting it."
   ]
  },
  {
   "cell_type": "code",
   "execution_count": null,
   "metadata": {
    "id": "y4JC5Zg5FhPX"
   },
   "outputs": [],
   "source": [
    "### new_document = coll.insert_many(documents)"
   ]
  },
  {
   "cell_type": "markdown",
   "metadata": {
    "id": "ayplTl--FhPX"
   },
   "source": [
    "Also, we can store the data in other formats like json, csv, and parquet and read it back whenever required.\n",
    "\n",
    "**Store the dataframe as a `json file`**"
   ]
  },
  {
   "cell_type": "code",
   "execution_count": 43,
   "metadata": {
    "id": "jGbjYqmDFhPX"
   },
   "outputs": [],
   "source": [
    "df7.write.format(\"json\").mode(\"overwrite\").save('transformed_json_data.json')"
   ]
  },
  {
   "cell_type": "markdown",
   "metadata": {
    "id": "9hzX8LdjFhPX"
   },
   "source": [
    "**Read data from `json` to spark dataframe**"
   ]
  },
  {
   "cell_type": "code",
   "execution_count": 44,
   "metadata": {
    "id": "p2--YPdhFhPY"
   },
   "outputs": [],
   "source": [
    "df_json = spark.read.format(\"json\").load('transformed_json_data.json')"
   ]
  },
  {
   "cell_type": "code",
   "execution_count": 45,
   "metadata": {
    "id": "HJVFRRoQFhPY"
   },
   "outputs": [
    {
     "data": {
      "text/html": [
       "<div>\n",
       "<style scoped>\n",
       "    .dataframe tbody tr th:only-of-type {\n",
       "        vertical-align: middle;\n",
       "    }\n",
       "\n",
       "    .dataframe tbody tr th {\n",
       "        vertical-align: top;\n",
       "    }\n",
       "\n",
       "    .dataframe thead th {\n",
       "        text-align: right;\n",
       "    }\n",
       "</style>\n",
       "<table border=\"1\" class=\"dataframe\">\n",
       "  <thead>\n",
       "    <tr style=\"text-align: right;\">\n",
       "      <th></th>\n",
       "      <th>actual_productivity</th>\n",
       "      <th>date</th>\n",
       "      <th>day</th>\n",
       "      <th>department</th>\n",
       "      <th>id</th>\n",
       "      <th>idle_men</th>\n",
       "      <th>idle_time</th>\n",
       "      <th>incentive</th>\n",
       "      <th>incentive_Scaled</th>\n",
       "      <th>no_of_style_change</th>\n",
       "      <th>no_of_workers</th>\n",
       "      <th>no_of_workers_Scaled</th>\n",
       "      <th>over_time</th>\n",
       "      <th>over_time_Scaled</th>\n",
       "      <th>quarter</th>\n",
       "      <th>smv</th>\n",
       "      <th>smv_Scaled</th>\n",
       "      <th>targeted_productivity</th>\n",
       "      <th>team</th>\n",
       "    </tr>\n",
       "  </thead>\n",
       "  <tbody>\n",
       "    <tr>\n",
       "      <th>0</th>\n",
       "      <td>0.463194</td>\n",
       "      <td>2015-03-03T00:00:00.000+05:30</td>\n",
       "      <td>Tuesday</td>\n",
       "      <td>finishing</td>\n",
       "      <td>60129542145</td>\n",
       "      <td>0</td>\n",
       "      <td>0.0</td>\n",
       "      <td>0</td>\n",
       "      <td>0.000</td>\n",
       "      <td>0</td>\n",
       "      <td>8.0</td>\n",
       "      <td>0.068966</td>\n",
       "      <td>3360</td>\n",
       "      <td>0.220472</td>\n",
       "      <td>Quarter1</td>\n",
       "      <td>2.90</td>\n",
       "      <td>0.000000</td>\n",
       "      <td>0.70</td>\n",
       "      <td>10</td>\n",
       "    </tr>\n",
       "    <tr>\n",
       "      <th>1</th>\n",
       "      <td>0.354444</td>\n",
       "      <td>2015-03-03T00:00:00.000+05:30</td>\n",
       "      <td>Tuesday</td>\n",
       "      <td>finishing</td>\n",
       "      <td>60129542146</td>\n",
       "      <td>0</td>\n",
       "      <td>0.0</td>\n",
       "      <td>0</td>\n",
       "      <td>0.000</td>\n",
       "      <td>0</td>\n",
       "      <td>8.0</td>\n",
       "      <td>0.068966</td>\n",
       "      <td>3360</td>\n",
       "      <td>0.220472</td>\n",
       "      <td>Quarter1</td>\n",
       "      <td>4.60</td>\n",
       "      <td>0.032907</td>\n",
       "      <td>0.70</td>\n",
       "      <td>5</td>\n",
       "    </tr>\n",
       "    <tr>\n",
       "      <th>2</th>\n",
       "      <td>0.350389</td>\n",
       "      <td>2015-03-03T00:00:00.000+05:30</td>\n",
       "      <td>Tuesday</td>\n",
       "      <td>finishing</td>\n",
       "      <td>60129542147</td>\n",
       "      <td>0</td>\n",
       "      <td>0.0</td>\n",
       "      <td>0</td>\n",
       "      <td>0.000</td>\n",
       "      <td>0</td>\n",
       "      <td>8.0</td>\n",
       "      <td>0.068966</td>\n",
       "      <td>3360</td>\n",
       "      <td>0.220472</td>\n",
       "      <td>Quarter1</td>\n",
       "      <td>2.90</td>\n",
       "      <td>0.000000</td>\n",
       "      <td>0.75</td>\n",
       "      <td>6</td>\n",
       "    </tr>\n",
       "    <tr>\n",
       "      <th>3</th>\n",
       "      <td>0.350389</td>\n",
       "      <td>2015-03-03T00:00:00.000+05:30</td>\n",
       "      <td>Tuesday</td>\n",
       "      <td>sewing</td>\n",
       "      <td>60129542148</td>\n",
       "      <td>0</td>\n",
       "      <td>0.0</td>\n",
       "      <td>0</td>\n",
       "      <td>0.000</td>\n",
       "      <td>0</td>\n",
       "      <td>45.0</td>\n",
       "      <td>0.494253</td>\n",
       "      <td>5400</td>\n",
       "      <td>0.354331</td>\n",
       "      <td>Quarter1</td>\n",
       "      <td>15.28</td>\n",
       "      <td>0.239644</td>\n",
       "      <td>0.55</td>\n",
       "      <td>2</td>\n",
       "    </tr>\n",
       "    <tr>\n",
       "      <th>4</th>\n",
       "      <td>0.939167</td>\n",
       "      <td>2015-03-04T00:00:00.000+05:30</td>\n",
       "      <td>Wednesday</td>\n",
       "      <td>finishing</td>\n",
       "      <td>60129542149</td>\n",
       "      <td>0</td>\n",
       "      <td>0.0</td>\n",
       "      <td>0</td>\n",
       "      <td>0.000</td>\n",
       "      <td>0</td>\n",
       "      <td>10.0</td>\n",
       "      <td>0.091954</td>\n",
       "      <td>1200</td>\n",
       "      <td>0.078740</td>\n",
       "      <td>Quarter1</td>\n",
       "      <td>4.60</td>\n",
       "      <td>0.032907</td>\n",
       "      <td>0.80</td>\n",
       "      <td>3</td>\n",
       "    </tr>\n",
       "    <tr>\n",
       "      <th>5</th>\n",
       "      <td>0.930417</td>\n",
       "      <td>2015-03-04T00:00:00.000+05:30</td>\n",
       "      <td>Wednesday</td>\n",
       "      <td>finishing</td>\n",
       "      <td>60129542150</td>\n",
       "      <td>0</td>\n",
       "      <td>0.0</td>\n",
       "      <td>0</td>\n",
       "      <td>0.000</td>\n",
       "      <td>0</td>\n",
       "      <td>8.0</td>\n",
       "      <td>0.068966</td>\n",
       "      <td>960</td>\n",
       "      <td>0.062992</td>\n",
       "      <td>Quarter1</td>\n",
       "      <td>4.60</td>\n",
       "      <td>0.032907</td>\n",
       "      <td>0.80</td>\n",
       "      <td>8</td>\n",
       "    </tr>\n",
       "    <tr>\n",
       "      <th>6</th>\n",
       "      <td>0.885926</td>\n",
       "      <td>2015-03-04T00:00:00.000+05:30</td>\n",
       "      <td>Wednesday</td>\n",
       "      <td>finishing</td>\n",
       "      <td>60129542151</td>\n",
       "      <td>0</td>\n",
       "      <td>0.0</td>\n",
       "      <td>0</td>\n",
       "      <td>0.000</td>\n",
       "      <td>0</td>\n",
       "      <td>9.0</td>\n",
       "      <td>0.080460</td>\n",
       "      <td>1080</td>\n",
       "      <td>0.070866</td>\n",
       "      <td>Quarter1</td>\n",
       "      <td>4.60</td>\n",
       "      <td>0.032907</td>\n",
       "      <td>0.80</td>\n",
       "      <td>12</td>\n",
       "    </tr>\n",
       "    <tr>\n",
       "      <th>7</th>\n",
       "      <td>0.833750</td>\n",
       "      <td>2015-03-04T00:00:00.000+05:30</td>\n",
       "      <td>Wednesday</td>\n",
       "      <td>finishing</td>\n",
       "      <td>60129542152</td>\n",
       "      <td>0</td>\n",
       "      <td>0.0</td>\n",
       "      <td>0</td>\n",
       "      <td>0.000</td>\n",
       "      <td>0</td>\n",
       "      <td>8.0</td>\n",
       "      <td>0.068966</td>\n",
       "      <td>960</td>\n",
       "      <td>0.062992</td>\n",
       "      <td>Quarter1</td>\n",
       "      <td>2.90</td>\n",
       "      <td>0.000000</td>\n",
       "      <td>0.75</td>\n",
       "      <td>9</td>\n",
       "    </tr>\n",
       "    <tr>\n",
       "      <th>8</th>\n",
       "      <td>0.806879</td>\n",
       "      <td>2015-03-04T00:00:00.000+05:30</td>\n",
       "      <td>Wednesday</td>\n",
       "      <td>finishing</td>\n",
       "      <td>60129542153</td>\n",
       "      <td>0</td>\n",
       "      <td>0.0</td>\n",
       "      <td>0</td>\n",
       "      <td>0.000</td>\n",
       "      <td>0</td>\n",
       "      <td>8.0</td>\n",
       "      <td>0.068966</td>\n",
       "      <td>960</td>\n",
       "      <td>0.062992</td>\n",
       "      <td>Quarter1</td>\n",
       "      <td>3.94</td>\n",
       "      <td>0.020132</td>\n",
       "      <td>0.70</td>\n",
       "      <td>1</td>\n",
       "    </tr>\n",
       "    <tr>\n",
       "      <th>9</th>\n",
       "      <td>0.806058</td>\n",
       "      <td>2015-03-04T00:00:00.000+05:30</td>\n",
       "      <td>Wednesday</td>\n",
       "      <td>finishing</td>\n",
       "      <td>60129542154</td>\n",
       "      <td>0</td>\n",
       "      <td>0.0</td>\n",
       "      <td>0</td>\n",
       "      <td>0.000</td>\n",
       "      <td>0</td>\n",
       "      <td>8.0</td>\n",
       "      <td>0.068966</td>\n",
       "      <td>960</td>\n",
       "      <td>0.062992</td>\n",
       "      <td>Quarter1</td>\n",
       "      <td>3.94</td>\n",
       "      <td>0.020132</td>\n",
       "      <td>0.70</td>\n",
       "      <td>4</td>\n",
       "    </tr>\n",
       "    <tr>\n",
       "      <th>10</th>\n",
       "      <td>0.800702</td>\n",
       "      <td>2015-03-04T00:00:00.000+05:30</td>\n",
       "      <td>Wednesday</td>\n",
       "      <td>sewing</td>\n",
       "      <td>60129542155</td>\n",
       "      <td>0</td>\n",
       "      <td>0.0</td>\n",
       "      <td>38</td>\n",
       "      <td>0.304</td>\n",
       "      <td>0</td>\n",
       "      <td>56.0</td>\n",
       "      <td>0.620690</td>\n",
       "      <td>0</td>\n",
       "      <td>0.000000</td>\n",
       "      <td>Quarter1</td>\n",
       "      <td>11.41</td>\n",
       "      <td>0.164731</td>\n",
       "      <td>0.80</td>\n",
       "      <td>11</td>\n",
       "    </tr>\n",
       "    <tr>\n",
       "      <th>11</th>\n",
       "      <td>0.800402</td>\n",
       "      <td>2015-03-04T00:00:00.000+05:30</td>\n",
       "      <td>Wednesday</td>\n",
       "      <td>sewing</td>\n",
       "      <td>60129542156</td>\n",
       "      <td>0</td>\n",
       "      <td>0.0</td>\n",
       "      <td>50</td>\n",
       "      <td>0.400</td>\n",
       "      <td>0</td>\n",
       "      <td>34.0</td>\n",
       "      <td>0.367816</td>\n",
       "      <td>4080</td>\n",
       "      <td>0.267717</td>\n",
       "      <td>Quarter1</td>\n",
       "      <td>15.26</td>\n",
       "      <td>0.239257</td>\n",
       "      <td>0.80</td>\n",
       "      <td>12</td>\n",
       "    </tr>\n",
       "    <tr>\n",
       "      <th>12</th>\n",
       "      <td>0.800333</td>\n",
       "      <td>2015-03-04T00:00:00.000+05:30</td>\n",
       "      <td>Wednesday</td>\n",
       "      <td>sewing</td>\n",
       "      <td>60129542157</td>\n",
       "      <td>0</td>\n",
       "      <td>0.0</td>\n",
       "      <td>63</td>\n",
       "      <td>0.504</td>\n",
       "      <td>0</td>\n",
       "      <td>57.0</td>\n",
       "      <td>0.632184</td>\n",
       "      <td>6840</td>\n",
       "      <td>0.448819</td>\n",
       "      <td>Quarter1</td>\n",
       "      <td>29.40</td>\n",
       "      <td>0.512969</td>\n",
       "      <td>0.80</td>\n",
       "      <td>3</td>\n",
       "    </tr>\n",
       "    <tr>\n",
       "      <th>13</th>\n",
       "      <td>0.800056</td>\n",
       "      <td>2015-03-04T00:00:00.000+05:30</td>\n",
       "      <td>Wednesday</td>\n",
       "      <td>sewing</td>\n",
       "      <td>60129542158</td>\n",
       "      <td>0</td>\n",
       "      <td>0.0</td>\n",
       "      <td>50</td>\n",
       "      <td>0.400</td>\n",
       "      <td>0</td>\n",
       "      <td>59.0</td>\n",
       "      <td>0.655172</td>\n",
       "      <td>3960</td>\n",
       "      <td>0.259843</td>\n",
       "      <td>Quarter1</td>\n",
       "      <td>30.10</td>\n",
       "      <td>0.526520</td>\n",
       "      <td>0.80</td>\n",
       "      <td>7</td>\n",
       "    </tr>\n",
       "    <tr>\n",
       "      <th>14</th>\n",
       "      <td>0.799976</td>\n",
       "      <td>2015-03-04T00:00:00.000+05:30</td>\n",
       "      <td>Wednesday</td>\n",
       "      <td>sewing</td>\n",
       "      <td>60129542159</td>\n",
       "      <td>0</td>\n",
       "      <td>0.0</td>\n",
       "      <td>60</td>\n",
       "      <td>0.480</td>\n",
       "      <td>0</td>\n",
       "      <td>58.0</td>\n",
       "      <td>0.643678</td>\n",
       "      <td>6960</td>\n",
       "      <td>0.456693</td>\n",
       "      <td>Quarter1</td>\n",
       "      <td>26.82</td>\n",
       "      <td>0.463027</td>\n",
       "      <td>0.70</td>\n",
       "      <td>4</td>\n",
       "    </tr>\n",
       "    <tr>\n",
       "      <th>15</th>\n",
       "      <td>0.750652</td>\n",
       "      <td>2015-03-04T00:00:00.000+05:30</td>\n",
       "      <td>Wednesday</td>\n",
       "      <td>sewing</td>\n",
       "      <td>60129542160</td>\n",
       "      <td>0</td>\n",
       "      <td>0.0</td>\n",
       "      <td>50</td>\n",
       "      <td>0.400</td>\n",
       "      <td>0</td>\n",
       "      <td>58.0</td>\n",
       "      <td>0.643678</td>\n",
       "      <td>6960</td>\n",
       "      <td>0.456693</td>\n",
       "      <td>Quarter1</td>\n",
       "      <td>26.82</td>\n",
       "      <td>0.463027</td>\n",
       "      <td>0.70</td>\n",
       "      <td>1</td>\n",
       "    </tr>\n",
       "    <tr>\n",
       "      <th>16</th>\n",
       "      <td>0.750396</td>\n",
       "      <td>2015-03-04T00:00:00.000+05:30</td>\n",
       "      <td>Wednesday</td>\n",
       "      <td>sewing</td>\n",
       "      <td>60129542161</td>\n",
       "      <td>0</td>\n",
       "      <td>0.0</td>\n",
       "      <td>34</td>\n",
       "      <td>0.272</td>\n",
       "      <td>0</td>\n",
       "      <td>52.0</td>\n",
       "      <td>0.574713</td>\n",
       "      <td>6240</td>\n",
       "      <td>0.409449</td>\n",
       "      <td>Quarter1</td>\n",
       "      <td>18.79</td>\n",
       "      <td>0.307588</td>\n",
       "      <td>0.75</td>\n",
       "      <td>9</td>\n",
       "    </tr>\n",
       "    <tr>\n",
       "      <th>17</th>\n",
       "      <td>0.700424</td>\n",
       "      <td>2015-03-04T00:00:00.000+05:30</td>\n",
       "      <td>Wednesday</td>\n",
       "      <td>sewing</td>\n",
       "      <td>60129542162</td>\n",
       "      <td>0</td>\n",
       "      <td>0.0</td>\n",
       "      <td>40</td>\n",
       "      <td>0.320</td>\n",
       "      <td>0</td>\n",
       "      <td>58.0</td>\n",
       "      <td>0.643678</td>\n",
       "      <td>6960</td>\n",
       "      <td>0.456693</td>\n",
       "      <td>Quarter1</td>\n",
       "      <td>27.48</td>\n",
       "      <td>0.475803</td>\n",
       "      <td>0.70</td>\n",
       "      <td>5</td>\n",
       "    </tr>\n",
       "    <tr>\n",
       "      <th>18</th>\n",
       "      <td>0.700058</td>\n",
       "      <td>2015-03-04T00:00:00.000+05:30</td>\n",
       "      <td>Wednesday</td>\n",
       "      <td>sewing</td>\n",
       "      <td>60129542163</td>\n",
       "      <td>0</td>\n",
       "      <td>0.0</td>\n",
       "      <td>30</td>\n",
       "      <td>0.240</td>\n",
       "      <td>0</td>\n",
       "      <td>53.0</td>\n",
       "      <td>0.586207</td>\n",
       "      <td>5760</td>\n",
       "      <td>0.377953</td>\n",
       "      <td>Quarter1</td>\n",
       "      <td>21.82</td>\n",
       "      <td>0.366241</td>\n",
       "      <td>0.70</td>\n",
       "      <td>10</td>\n",
       "    </tr>\n",
       "    <tr>\n",
       "      <th>19</th>\n",
       "      <td>0.684889</td>\n",
       "      <td>2015-03-04T00:00:00.000+05:30</td>\n",
       "      <td>Wednesday</td>\n",
       "      <td>finishing</td>\n",
       "      <td>60129542164</td>\n",
       "      <td>0</td>\n",
       "      <td>0.0</td>\n",
       "      <td>0</td>\n",
       "      <td>0.000</td>\n",
       "      <td>0</td>\n",
       "      <td>20.0</td>\n",
       "      <td>0.206897</td>\n",
       "      <td>8400</td>\n",
       "      <td>0.551181</td>\n",
       "      <td>Quarter1</td>\n",
       "      <td>4.60</td>\n",
       "      <td>0.032907</td>\n",
       "      <td>0.80</td>\n",
       "      <td>7</td>\n",
       "    </tr>\n",
       "  </tbody>\n",
       "</table>\n",
       "</div>"
      ],
      "text/plain": [
       "    actual_productivity                           date        day department  \\\n",
       "0              0.463194  2015-03-03T00:00:00.000+05:30    Tuesday  finishing   \n",
       "1              0.354444  2015-03-03T00:00:00.000+05:30    Tuesday  finishing   \n",
       "2              0.350389  2015-03-03T00:00:00.000+05:30    Tuesday  finishing   \n",
       "3              0.350389  2015-03-03T00:00:00.000+05:30    Tuesday     sewing   \n",
       "4              0.939167  2015-03-04T00:00:00.000+05:30  Wednesday  finishing   \n",
       "5              0.930417  2015-03-04T00:00:00.000+05:30  Wednesday  finishing   \n",
       "6              0.885926  2015-03-04T00:00:00.000+05:30  Wednesday  finishing   \n",
       "7              0.833750  2015-03-04T00:00:00.000+05:30  Wednesday  finishing   \n",
       "8              0.806879  2015-03-04T00:00:00.000+05:30  Wednesday  finishing   \n",
       "9              0.806058  2015-03-04T00:00:00.000+05:30  Wednesday  finishing   \n",
       "10             0.800702  2015-03-04T00:00:00.000+05:30  Wednesday     sewing   \n",
       "11             0.800402  2015-03-04T00:00:00.000+05:30  Wednesday     sewing   \n",
       "12             0.800333  2015-03-04T00:00:00.000+05:30  Wednesday     sewing   \n",
       "13             0.800056  2015-03-04T00:00:00.000+05:30  Wednesday     sewing   \n",
       "14             0.799976  2015-03-04T00:00:00.000+05:30  Wednesday     sewing   \n",
       "15             0.750652  2015-03-04T00:00:00.000+05:30  Wednesday     sewing   \n",
       "16             0.750396  2015-03-04T00:00:00.000+05:30  Wednesday     sewing   \n",
       "17             0.700424  2015-03-04T00:00:00.000+05:30  Wednesday     sewing   \n",
       "18             0.700058  2015-03-04T00:00:00.000+05:30  Wednesday     sewing   \n",
       "19             0.684889  2015-03-04T00:00:00.000+05:30  Wednesday  finishing   \n",
       "\n",
       "             id  idle_men  idle_time  incentive  incentive_Scaled  \\\n",
       "0   60129542145         0        0.0          0             0.000   \n",
       "1   60129542146         0        0.0          0             0.000   \n",
       "2   60129542147         0        0.0          0             0.000   \n",
       "3   60129542148         0        0.0          0             0.000   \n",
       "4   60129542149         0        0.0          0             0.000   \n",
       "5   60129542150         0        0.0          0             0.000   \n",
       "6   60129542151         0        0.0          0             0.000   \n",
       "7   60129542152         0        0.0          0             0.000   \n",
       "8   60129542153         0        0.0          0             0.000   \n",
       "9   60129542154         0        0.0          0             0.000   \n",
       "10  60129542155         0        0.0         38             0.304   \n",
       "11  60129542156         0        0.0         50             0.400   \n",
       "12  60129542157         0        0.0         63             0.504   \n",
       "13  60129542158         0        0.0         50             0.400   \n",
       "14  60129542159         0        0.0         60             0.480   \n",
       "15  60129542160         0        0.0         50             0.400   \n",
       "16  60129542161         0        0.0         34             0.272   \n",
       "17  60129542162         0        0.0         40             0.320   \n",
       "18  60129542163         0        0.0         30             0.240   \n",
       "19  60129542164         0        0.0          0             0.000   \n",
       "\n",
       "    no_of_style_change  no_of_workers  no_of_workers_Scaled  over_time  \\\n",
       "0                    0            8.0              0.068966       3360   \n",
       "1                    0            8.0              0.068966       3360   \n",
       "2                    0            8.0              0.068966       3360   \n",
       "3                    0           45.0              0.494253       5400   \n",
       "4                    0           10.0              0.091954       1200   \n",
       "5                    0            8.0              0.068966        960   \n",
       "6                    0            9.0              0.080460       1080   \n",
       "7                    0            8.0              0.068966        960   \n",
       "8                    0            8.0              0.068966        960   \n",
       "9                    0            8.0              0.068966        960   \n",
       "10                   0           56.0              0.620690          0   \n",
       "11                   0           34.0              0.367816       4080   \n",
       "12                   0           57.0              0.632184       6840   \n",
       "13                   0           59.0              0.655172       3960   \n",
       "14                   0           58.0              0.643678       6960   \n",
       "15                   0           58.0              0.643678       6960   \n",
       "16                   0           52.0              0.574713       6240   \n",
       "17                   0           58.0              0.643678       6960   \n",
       "18                   0           53.0              0.586207       5760   \n",
       "19                   0           20.0              0.206897       8400   \n",
       "\n",
       "    over_time_Scaled   quarter    smv  smv_Scaled  targeted_productivity  team  \n",
       "0           0.220472  Quarter1   2.90    0.000000                   0.70    10  \n",
       "1           0.220472  Quarter1   4.60    0.032907                   0.70     5  \n",
       "2           0.220472  Quarter1   2.90    0.000000                   0.75     6  \n",
       "3           0.354331  Quarter1  15.28    0.239644                   0.55     2  \n",
       "4           0.078740  Quarter1   4.60    0.032907                   0.80     3  \n",
       "5           0.062992  Quarter1   4.60    0.032907                   0.80     8  \n",
       "6           0.070866  Quarter1   4.60    0.032907                   0.80    12  \n",
       "7           0.062992  Quarter1   2.90    0.000000                   0.75     9  \n",
       "8           0.062992  Quarter1   3.94    0.020132                   0.70     1  \n",
       "9           0.062992  Quarter1   3.94    0.020132                   0.70     4  \n",
       "10          0.000000  Quarter1  11.41    0.164731                   0.80    11  \n",
       "11          0.267717  Quarter1  15.26    0.239257                   0.80    12  \n",
       "12          0.448819  Quarter1  29.40    0.512969                   0.80     3  \n",
       "13          0.259843  Quarter1  30.10    0.526520                   0.80     7  \n",
       "14          0.456693  Quarter1  26.82    0.463027                   0.70     4  \n",
       "15          0.456693  Quarter1  26.82    0.463027                   0.70     1  \n",
       "16          0.409449  Quarter1  18.79    0.307588                   0.75     9  \n",
       "17          0.456693  Quarter1  27.48    0.475803                   0.70     5  \n",
       "18          0.377953  Quarter1  21.82    0.366241                   0.70    10  \n",
       "19          0.551181  Quarter1   4.60    0.032907                   0.80     7  "
      ]
     },
     "execution_count": 45,
     "metadata": {},
     "output_type": "execute_result"
    }
   ],
   "source": [
    "df_json.limit(20).toPandas()"
   ]
  },
  {
   "cell_type": "markdown",
   "metadata": {
    "id": "3_5wx0aWFhPY"
   },
   "source": [
    "**Store the dataframe as a `csv file`**"
   ]
  },
  {
   "cell_type": "code",
   "execution_count": 46,
   "metadata": {
    "id": "mpABXzByFhPY"
   },
   "outputs": [],
   "source": [
    "df7.write.format(\"csv\").mode(\"overwrite\").option(\"header\", \"true\").save(\"transformed_csv_data.csv\")"
   ]
  },
  {
   "cell_type": "markdown",
   "metadata": {
    "id": "7mO6h-HpFhPY"
   },
   "source": [
    "**Read data from `csv` to spark dataframe**"
   ]
  },
  {
   "cell_type": "code",
   "execution_count": 47,
   "metadata": {
    "id": "-oDKXltXFhPY"
   },
   "outputs": [],
   "source": [
    "df_csv = spark.read.format(\"csv\").option(\"header\", \"true\").load('transformed_csv_data.csv')"
   ]
  },
  {
   "cell_type": "code",
   "execution_count": 48,
   "metadata": {
    "id": "sW53Urb8FhPY"
   },
   "outputs": [
    {
     "name": "stdout",
     "output_type": "stream",
     "text": [
      "+--------------------+--------+----------+---------+----+---------------------+-----+---------+---------+---------+--------+------------------+-------------+-------------------+-------------------+-------------------+----------------+--------------------+-----------+\n",
      "|                date| quarter|department|      day|team|targeted_productivity|  smv|over_time|incentive|idle_time|idle_men|no_of_style_change|no_of_workers|actual_productivity|         smv_Scaled|   over_time_Scaled|incentive_Scaled|no_of_workers_Scaled|         id|\n",
      "+--------------------+--------+----------+---------+----+---------------------+-----+---------+---------+---------+--------+------------------+-------------+-------------------+-------------------+-------------------+----------------+--------------------+-----------+\n",
      "|2015-03-03T00:00:...|Quarter1| finishing|  Tuesday|  10|                  0.7|  2.9|     3360|        0|      0.0|       0|                 0|          8.0|        0.463194444|                0.0| 0.2204724409448819|             0.0| 0.06896551724137931|60129542145|\n",
      "|2015-03-03T00:00:...|Quarter1| finishing|  Tuesday|   5|                  0.7|  4.6|     3360|        0|      0.0|       0|                 0|          8.0|        0.354444444|0.03290747193186217| 0.2204724409448819|             0.0| 0.06896551724137931|60129542146|\n",
      "|2015-03-03T00:00:...|Quarter1| finishing|  Tuesday|   6|                 0.75|  2.9|     3360|        0|      0.0|       0|                 0|          8.0|         0.35038907|                0.0| 0.2204724409448819|             0.0| 0.06896551724137931|60129542147|\n",
      "|2015-03-03T00:00:...|Quarter1|    sewing|  Tuesday|   2|   0.5499999999999998|15.28|     5400|        0|      0.0|       0|                 0|         45.0|         0.35038907|0.23964382500967862| 0.3543307086614173|             0.0|  0.4942528735632184|60129542148|\n",
      "|2015-03-04T00:00:...|Quarter1| finishing|Wednesday|   3|                  0.8|  4.6|     1200|        0|      0.0|       0|                 0|         10.0|        0.939166667|0.03290747193186217|0.07874015748031496|             0.0| 0.09195402298850575|60129542149|\n",
      "+--------------------+--------+----------+---------+----+---------------------+-----+---------+---------+---------+--------+------------------+-------------+-------------------+-------------------+-------------------+----------------+--------------------+-----------+\n",
      "only showing top 5 rows\n",
      "\n"
     ]
    }
   ],
   "source": [
    "df_csv.show(5)"
   ]
  },
  {
   "cell_type": "markdown",
   "metadata": {
    "id": "is1lmuQuFhPY"
   },
   "source": [
    "**Use Parquet files to store data**"
   ]
  },
  {
   "cell_type": "markdown",
   "metadata": {
    "id": "3NfAZB2cFhPZ"
   },
   "source": [
    "Parquet uses snappy compression to compress the data. If the DataFrame is written as Parquet, the schema is preserved as part of the Parquet metadata.\n",
    "\n",
    "To know more about parquet file format click [here](https://www.ellicium.com/parquet-file-format-structure/)."
   ]
  },
  {
   "cell_type": "code",
   "execution_count": 49,
   "metadata": {
    "id": "vQ-u4QOMFhPZ"
   },
   "outputs": [],
   "source": [
    "df7.write.format(\"parquet\").mode(\"overwrite\").save(\"transformed_parquet_data\")"
   ]
  },
  {
   "cell_type": "markdown",
   "metadata": {
    "id": "hSnBkk5KFhPZ"
   },
   "source": [
    "**Read data from Parquet file**\n",
    "\n",
    "We don't have to specify the schema here since it's stored as part of the Parquet metadata."
   ]
  },
  {
   "cell_type": "code",
   "execution_count": 50,
   "metadata": {
    "id": "lqsho9lhFhPZ"
   },
   "outputs": [],
   "source": [
    "df_parquet = spark.read.format(\"parquet\").load(\"transformed_parquet_data\")"
   ]
  },
  {
   "cell_type": "code",
   "execution_count": 51,
   "metadata": {
    "id": "m1MQ19ypFhPZ"
   },
   "outputs": [
    {
     "name": "stdout",
     "output_type": "stream",
     "text": [
      "+-------------------+--------+----------+--------+----+---------------------+-----+---------+---------+---------+--------+------------------+-------------+-------------------+-------------------+-------------------+----------------+--------------------+-----------+\n",
      "|               date| quarter|department|     day|team|targeted_productivity|  smv|over_time|incentive|idle_time|idle_men|no_of_style_change|no_of_workers|actual_productivity|         smv_Scaled|   over_time_Scaled|incentive_Scaled|no_of_workers_Scaled|         id|\n",
      "+-------------------+--------+----------+--------+----+---------------------+-----+---------+---------+---------+--------+------------------+-------------+-------------------+-------------------+-------------------+----------------+--------------------+-----------+\n",
      "|2015-01-17 00:00:00|Quarter3| finishing|Saturday|  11|                  0.8| 4.15|     1260|        0|      0.0|       0|                 0|          7.0|         0.35038907|0.02419667053813396|0.08267716535433071|             0.0| 0.05747126436781609|17179869185|\n",
      "|2015-01-18 00:00:00|Quarter3| finishing|  Sunday|   5|                  0.6| 4.15|     1440|        0|      0.0|       0|                 0|          8.0|        0.852793561|0.02419667053813396|0.09448818897637795|             0.0| 0.06896551724137931|17179869186|\n",
      "|2015-01-18 00:00:00|Quarter3| finishing|  Sunday|  11|                 0.65| 4.15|     2160|        0|      0.0|       0|                 0|         12.0|        0.838383838|0.02419667053813396|0.14173228346456693|             0.0| 0.11494252873563218|17179869187|\n",
      "|2015-01-18 00:00:00|Quarter3| finishing|  Sunday|   6|                  0.8|  2.9|     1800|        0|      0.0|       0|                 0|         10.0|        0.804848485|                0.0|0.11811023622047244|             0.0| 0.09195402298850575|17179869188|\n",
      "|2015-01-18 00:00:00|Quarter3|    sewing|  Sunday|   6|                  0.8|11.41|     5490|       63|      0.0|       0|                 0|         30.5|        0.800343766|0.16473093302361594|0.36023622047244097|           0.504|  0.3275862068965517|17179869189|\n",
      "+-------------------+--------+----------+--------+----+---------------------+-----+---------+---------+---------+--------+------------------+-------------+-------------------+-------------------+-------------------+----------------+--------------------+-----------+\n",
      "only showing top 5 rows\n",
      "\n"
     ]
    }
   ],
   "source": [
    "df_parquet.show(5)"
   ]
  },
  {
   "cell_type": "code",
   "execution_count": null,
   "metadata": {},
   "outputs": [],
   "source": []
  }
 ],
 "metadata": {
  "colab": {
   "collapsed_sections": [],
   "name": "M3_AST_05_ETL_Operations_PySpark_C.ipynb",
   "provenance": []
  },
  "kernelspec": {
   "display_name": "Python 3 (ipykernel)",
   "language": "python",
   "name": "python3"
  },
  "language_info": {
   "codemirror_mode": {
    "name": "ipython",
    "version": 3
   },
   "file_extension": ".py",
   "mimetype": "text/x-python",
   "name": "python",
   "nbconvert_exporter": "python",
   "pygments_lexer": "ipython3",
   "version": "3.7.1"
  }
 },
 "nbformat": 4,
 "nbformat_minor": 1
}
