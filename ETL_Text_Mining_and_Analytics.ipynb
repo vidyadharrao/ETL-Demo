{
 "cells": [
  {
   "cell_type": "markdown",
   "metadata": {
    "id": "LM_GMDQ-J1uN"
   },
   "source": [
    "# ETL pipeline for Text Mining and Analytics"
   ]
  },
  {
   "cell_type": "markdown",
   "metadata": {
    "id": "pAZ01Z5tJ1uV"
   },
   "source": [
    "In this experiment you will:\n",
    "\n",
    "* perform text mining and analytics using Spark SQL functions\n",
    "* use Spark’s built-in and external data sources to write data in different file formats as part of the extract, transform, and load (ETL) tasks\n"
   ]
  },
  {
   "cell_type": "markdown",
   "metadata": {
    "id": "J93wmCVyJ1uW"
   },
   "source": [
    "## Information"
   ]
  },
  {
   "cell_type": "markdown",
   "metadata": {
    "id": "MyHY_53qJ1uX"
   },
   "source": [
    "The basic terminology related to text analytics are\n",
    "\n",
    "* **Text**: a sequence of words and punctuation\n",
    "* **Corpus**: a large body of text\n",
    "* **Frequency distribution**: the frequency of words in a text object\n",
    "* **Collocation**: a sequence of words that occur together unusually often\n",
    "* **Bigrams**: word pairs. High frequent bigrams are collocations\n",
    "* **Text normalization**: the process of transforming text into a single canonical form, e.g., converting text to lowercase, removing punctuations and stop words."
   ]
  },
  {
   "cell_type": "markdown",
   "metadata": {
    "id": "UexUWZb2J1uX"
   },
   "source": [
    "### Introduction"
   ]
  },
  {
   "cell_type": "markdown",
   "metadata": {
    "id": "F2dNzmmEJ1uX"
   },
   "source": [
    "Text analytics is the process of deriving information from text. It usually involves information retrieval, lexical analysis to study word frequency distributions, pattern recognition, tagging, information extraction, visualization, and predictive analytics. The overarching goal is, essentially, to turn text into data for analysis, via application of natural language processing (NLP), different types of algorithms and analytical methods.\n",
    "\n",
    "Here we will consider `milton-paradise.txt` text file from Gutenberg corpus to do text mining and analytics. Starting from data extraction, we will perform various transformations on text including tokenization, the number of words counting, POS tagging, chunking and then store it in different file formats."
   ]
  },
  {
   "cell_type": "code",
   "execution_count": null,
   "metadata": {
    "id": "PbVweILTJ1uY"
   },
   "outputs": [],
   "source": [
    "#!pip install pyspark"
   ]
  },
  {
   "cell_type": "markdown",
   "metadata": {
    "id": "gjdtWmUaJ1uY"
   },
   "source": [
    "### Import required packages"
   ]
  },
  {
   "cell_type": "code",
   "execution_count": 1,
   "metadata": {
    "id": "i2qaeOmyJ1uZ"
   },
   "outputs": [],
   "source": [
    "from pyspark.sql import SparkSession\n",
    "from matplotlib import pyplot as plt\n",
    "import pandas as pd\n",
    "import string\n",
    "from pyspark.ml.feature import NGram\n",
    "from pyspark.ml import Pipeline\n",
    "from pyspark.sql.types import *\n",
    "from pyspark.sql.functions import *\n",
    "import nltk"
   ]
  },
  {
   "cell_type": "markdown",
   "metadata": {
    "id": "f8ZWzA-VJ1uZ"
   },
   "source": [
    "### Start a Spark Session"
   ]
  },
  {
   "cell_type": "markdown",
   "metadata": {
    "id": "RKKkyz0IJ1uZ"
   },
   "source": [
    "Spark session is a combined entry point of a Spark application, which came into implementation from Spark 2.0. Instead of having various context, everything is now encapsulated in a Spark session."
   ]
  },
  {
   "cell_type": "code",
   "execution_count": 2,
   "metadata": {
    "id": "pAeBc9XpJ1uZ"
   },
   "outputs": [
    {
     "data": {
      "text/html": [
       "\n",
       "            <div>\n",
       "                <p><b>SparkSession - in-memory</b></p>\n",
       "                \n",
       "        <div>\n",
       "            <p><b>SparkContext</b></p>\n",
       "\n",
       "            <p><a href=\"http://LAPTOP-QVS1EGQ1:4040\">Spark UI</a></p>\n",
       "\n",
       "            <dl>\n",
       "              <dt>Version</dt>\n",
       "                <dd><code>v2.4.6</code></dd>\n",
       "              <dt>Master</dt>\n",
       "                <dd><code>local[*]</code></dd>\n",
       "              <dt>AppName</dt>\n",
       "                <dd><code>ETL text data</code></dd>\n",
       "            </dl>\n",
       "        </div>\n",
       "        \n",
       "            </div>\n",
       "        "
      ],
      "text/plain": [
       "<pyspark.sql.session.SparkSession at 0x204a7fc99b0>"
      ]
     },
     "execution_count": 2,
     "metadata": {},
     "output_type": "execute_result"
    }
   ],
   "source": [
    "# Start spark session\n",
    "spark = SparkSession.builder.appName('ETL text data').getOrCreate()\n",
    "spark"
   ]
  },
  {
   "cell_type": "markdown",
   "metadata": {
    "id": "_w1rS1nRJ1ua"
   },
   "source": [
    "### Text Analytics"
   ]
  },
  {
   "cell_type": "markdown",
   "metadata": {
    "id": "QUO-MOywJ1ua"
   },
   "source": [
    "#### Get the text data\n",
    "\n",
    "The raw text is from the Gutenberg corpus from the nltk package. Get file ids in Gutenberg corpus."
   ]
  },
  {
   "cell_type": "code",
   "execution_count": 3,
   "metadata": {
    "id": "r8JRZaZPJ1ua"
   },
   "outputs": [
    {
     "name": "stderr",
     "output_type": "stream",
     "text": [
      "[nltk_data] Downloading package gutenberg to\n",
      "[nltk_data]     C:\\Users\\vidyadhar\\AppData\\Roaming\\nltk_data...\n",
      "[nltk_data]   Package gutenberg is already up-to-date!\n",
      "[nltk_data] Downloading package punkt to\n",
      "[nltk_data]     C:\\Users\\vidyadhar\\AppData\\Roaming\\nltk_data...\n",
      "[nltk_data]   Package punkt is already up-to-date!\n"
     ]
    },
    {
     "data": {
      "text/plain": [
       "True"
      ]
     },
     "execution_count": 3,
     "metadata": {},
     "output_type": "execute_result"
    }
   ],
   "source": [
    "nltk.download('gutenberg')\n",
    "\n",
    "# Download dependencies for sent_tokenize()\n",
    "nltk.download('punkt')"
   ]
  },
  {
   "cell_type": "code",
   "execution_count": 4,
   "metadata": {
    "id": "bkEWZrVWJ1ua"
   },
   "outputs": [
    {
     "data": {
      "text/plain": [
       "['austen-emma.txt',\n",
       " 'austen-persuasion.txt',\n",
       " 'austen-sense.txt',\n",
       " 'bible-kjv.txt',\n",
       " 'blake-poems.txt',\n",
       " 'bryant-stories.txt',\n",
       " 'burgess-busterbrown.txt',\n",
       " 'carroll-alice.txt',\n",
       " 'chesterton-ball.txt',\n",
       " 'chesterton-brown.txt',\n",
       " 'chesterton-thursday.txt',\n",
       " 'edgeworth-parents.txt',\n",
       " 'melville-moby_dick.txt',\n",
       " 'milton-paradise.txt',\n",
       " 'shakespeare-caesar.txt',\n",
       " 'shakespeare-hamlet.txt',\n",
       " 'shakespeare-macbeth.txt',\n",
       " 'whitman-leaves.txt']"
      ]
     },
     "execution_count": 4,
     "metadata": {},
     "output_type": "execute_result"
    }
   ],
   "source": [
    "from nltk.corpus import gutenberg\n",
    "gutenberg_fileids = gutenberg.fileids()\n",
    "gutenberg_fileids"
   ]
  },
  {
   "cell_type": "markdown",
   "metadata": {
    "id": "0_vRcgahJ1ua"
   },
   "source": [
    "The file id is `milton-paradise.txt`. Use the nltk.sent_tokenize() function to split text into sentences."
   ]
  },
  {
   "cell_type": "code",
   "execution_count": 5,
   "metadata": {
    "id": "XtvBSiuFJ1ub"
   },
   "outputs": [
    {
     "name": "stdout",
     "output_type": "stream",
     "text": [
      "+------------------------------------------------------------------------------------------------------------------------------------------------------------------------------------------------------------------------------------------------------------------------------------------------------------------------------------------------------------------------------------------------------------------------------------------------------------------------------------------------------------------------------------------------------------------------------------------------------------------------------------------------------------------------------------------------------------------------------------------------------------------+\n",
      "|sentences                                                                                                                                                                                                                                                                                                                                                                                                                                                                                                                                                                                                                                                                                                                                                         |\n",
      "+------------------------------------------------------------------------------------------------------------------------------------------------------------------------------------------------------------------------------------------------------------------------------------------------------------------------------------------------------------------------------------------------------------------------------------------------------------------------------------------------------------------------------------------------------------------------------------------------------------------------------------------------------------------------------------------------------------------------------------------------------------------+\n",
      "|[Paradise Lost by John Milton 1667] \n",
      " \n",
      " \n",
      "Book I \n",
      " \n",
      " \n",
      "Of Man's first disobedience, and the fruit \n",
      "Of that forbidden tree whose mortal taste \n",
      "Brought death into the World, and all our woe, \n",
      "With loss of Eden, till one greater Man \n",
      "Restore us, and regain the blissful seat, \n",
      "Sing, Heavenly Muse, that, on the secret top \n",
      "Of Oreb, or of Sinai, didst inspire \n",
      "That shepherd who first taught the chosen seed \n",
      "In the beginning how the heavens and earth \n",
      "Rose out of Chaos: or, if Sion hill \n",
      "Delight thee more, and Siloa's brook that flowed \n",
      "Fast by the oracle of God, I thence \n",
      "Invoke thy aid to my adventurous song, \n",
      "That with no middle flight intends to soar \n",
      "Above th' Aonian mount, while it pursues \n",
      "Things unattempted yet in prose or rhyme.|\n",
      "+------------------------------------------------------------------------------------------------------------------------------------------------------------------------------------------------------------------------------------------------------------------------------------------------------------------------------------------------------------------------------------------------------------------------------------------------------------------------------------------------------------------------------------------------------------------------------------------------------------------------------------------------------------------------------------------------------------------------------------------------------------------+\n",
      "only showing top 1 row\n",
      "\n"
     ]
    }
   ],
   "source": [
    "milton_paradise = gutenberg.raw('milton-paradise.txt')\n",
    "\n",
    "pdf = pd.DataFrame({'sentences': nltk.sent_tokenize(milton_paradise)})\n",
    "d = spark.createDataFrame(pdf)\n",
    "d.show(1, truncate= False)"
   ]
  },
  {
   "cell_type": "markdown",
   "metadata": {
    "id": "1wiCzYxgJ1ub"
   },
   "source": [
    "From above it can be seen that empty spaces are present in the data."
   ]
  },
  {
   "cell_type": "markdown",
   "metadata": {
    "id": "EW2NfTKfJ1ub"
   },
   "source": [
    "#### Transform Data\n",
    "\n",
    "* Remove trailing spaces"
   ]
  },
  {
   "cell_type": "code",
   "execution_count": 6,
   "metadata": {
    "id": "iearnIOYJ1ub"
   },
   "outputs": [],
   "source": [
    "# Transform data\n",
    "d1 = d.withColumn(\"sentences\", regexp_replace(col(\"sentences\"), \"\\\\s+\",\"_\"))       # replace all spaces with underscore\n",
    "d1 = d1.withColumn(\"sentences\", regexp_replace(col(\"sentences\"), \"_\",\" \"))         # replace all underscores with one space\n",
    "d1 = d1.withColumn(\"sentences\", trim(col(\"sentences\")))                            # remove trailing spaces"
   ]
  },
  {
   "cell_type": "code",
   "execution_count": 7,
   "metadata": {
    "id": "9hVrcNODJ1ub"
   },
   "outputs": [
    {
     "name": "stdout",
     "output_type": "stream",
     "text": [
      "+-----------------------------------------------------------------------------------------------------------------------------------------------------------------------------------------------------------------------------------------------------------------------------------------------------------------------------------------------------------------------------------------------------------------------------------------------------------------------------------------------------------------------------------------------------------------------------------------------------------------------------------------------------------------------------------------------------------------------------------------+\n",
      "|sentences                                                                                                                                                                                                                                                                                                                                                                                                                                                                                                                                                                                                                                                                                                                                |\n",
      "+-----------------------------------------------------------------------------------------------------------------------------------------------------------------------------------------------------------------------------------------------------------------------------------------------------------------------------------------------------------------------------------------------------------------------------------------------------------------------------------------------------------------------------------------------------------------------------------------------------------------------------------------------------------------------------------------------------------------------------------------+\n",
      "|[Paradise Lost by John Milton 1667] Book I Of Man's first disobedience, and the fruit Of that forbidden tree whose mortal taste Brought death into the World, and all our woe, With loss of Eden, till one greater Man Restore us, and regain the blissful seat, Sing, Heavenly Muse, that, on the secret top Of Oreb, or of Sinai, didst inspire That shepherd who first taught the chosen seed In the beginning how the heavens and earth Rose out of Chaos: or, if Sion hill Delight thee more, and Siloa's brook that flowed Fast by the oracle of God, I thence Invoke thy aid to my adventurous song, That with no middle flight intends to soar Above th' Aonian mount, while it pursues Things unattempted yet in prose or rhyme.|\n",
      "|And chiefly thou, O Spirit, that dost prefer Before all temples th' upright heart and pure, Instruct me, for thou know'st; thou from the first Wast present, and, with mighty wings outspread, Dove-like sat'st brooding on the vast Abyss, And mad'st it pregnant: what in me is dark Illumine, what is low raise and support; That, to the height of this great argument, I may assert Eternal Providence, And justify the ways of God to men.                                                                                                                                                                                                                                                                                         |\n",
      "|Say first--for Heaven hides nothing from thy view, Nor the deep tract of Hell--say first what cause Moved our grand parents, in that happy state, Favoured of Heaven so highly, to fall off From their Creator, and transgress his will For one restraint, lords of the World besides.                                                                                                                                                                                                                                                                                                                                                                                                                                                   |\n",
      "|Who first seduced them to that foul revolt?                                                                                                                                                                                                                                                                                                                                                                                                                                                                                                                                                                                                                                                                                              |\n",
      "|Th' infernal Serpent; he it was whose guile, Stirred up with envy and revenge, deceived The mother of mankind, what time his pride Had cast him out from Heaven, with all his host Of rebel Angels, by whose aid, aspiring To set himself in glory above his peers, He trusted to have equalled the Most High, If he opposed, and with ambitious aim Against the throne and monarchy of God, Raised impious war in Heaven and battle proud, With vain attempt.                                                                                                                                                                                                                                                                           |\n",
      "+-----------------------------------------------------------------------------------------------------------------------------------------------------------------------------------------------------------------------------------------------------------------------------------------------------------------------------------------------------------------------------------------------------------------------------------------------------------------------------------------------------------------------------------------------------------------------------------------------------------------------------------------------------------------------------------------------------------------------------------------+\n",
      "only showing top 5 rows\n",
      "\n"
     ]
    }
   ],
   "source": [
    "d1.show(5, truncate= False)"
   ]
  },
  {
   "cell_type": "code",
   "execution_count": 8,
   "metadata": {
    "id": "yrO3vZ67J1uc"
   },
   "outputs": [
    {
     "data": {
      "text/plain": [
       "0"
      ]
     },
     "execution_count": 8,
     "metadata": {},
     "output_type": "execute_result"
    }
   ],
   "source": [
    "# Check for empty lines\n",
    "d1.where(col(\"sentences\")==\"\").count()"
   ]
  },
  {
   "cell_type": "code",
   "execution_count": 9,
   "metadata": {
    "id": "5TaiZDtkJ1uc"
   },
   "outputs": [],
   "source": [
    "from nltk.tokenize import word_tokenize\n",
    "\n",
    "word_udf = udf(lambda x: word_tokenize(x), ArrayType(StringType()))\n",
    "d2 = d1.withColumn(\"words\", word_udf(\"sentences\"))"
   ]
  },
  {
   "cell_type": "code",
   "execution_count": 11,
   "metadata": {
    "id": "VX4130tAJ1uc"
   },
   "outputs": [
    {
     "name": "stdout",
     "output_type": "stream",
     "text": [
      "+-----------------------------------------------------------------------------------------------------------------------------------------------------------------------------------------------------------------------------------------------------------------------------------------------------------------------------------------------------------------------------------------------------------------------------------------------------------------------------------------------------------------------------------------------------------------------------------------------------------------------------------------------------------------------------------------------------------------------------------------+--------------------------------------------------------------------------------------------------------------------------------------------------------------------------------------------------------------------------------------------------------------------------------------------------------------------------------------------------------------------------------------------------------------------------------------------------------------------------------------------------------------------------------------------------------------------------------------------------------------------------------------------------------------------------------------------------------------------------------------------------------------------------------------------------------------------------------------------------------------------------------------------------------------------------+\n",
      "|sentences                                                                                                                                                                                                                                                                                                                                                                                                                                                                                                                                                                                                                                                                                                                                |words                                                                                                                                                                                                                                                                                                                                                                                                                                                                                                                                                                                                                                                                                                                                                                                                                                                                                                                     |\n",
      "+-----------------------------------------------------------------------------------------------------------------------------------------------------------------------------------------------------------------------------------------------------------------------------------------------------------------------------------------------------------------------------------------------------------------------------------------------------------------------------------------------------------------------------------------------------------------------------------------------------------------------------------------------------------------------------------------------------------------------------------------+--------------------------------------------------------------------------------------------------------------------------------------------------------------------------------------------------------------------------------------------------------------------------------------------------------------------------------------------------------------------------------------------------------------------------------------------------------------------------------------------------------------------------------------------------------------------------------------------------------------------------------------------------------------------------------------------------------------------------------------------------------------------------------------------------------------------------------------------------------------------------------------------------------------------------+\n",
      "|[Paradise Lost by John Milton 1667] Book I Of Man's first disobedience, and the fruit Of that forbidden tree whose mortal taste Brought death into the World, and all our woe, With loss of Eden, till one greater Man Restore us, and regain the blissful seat, Sing, Heavenly Muse, that, on the secret top Of Oreb, or of Sinai, didst inspire That shepherd who first taught the chosen seed In the beginning how the heavens and earth Rose out of Chaos: or, if Sion hill Delight thee more, and Siloa's brook that flowed Fast by the oracle of God, I thence Invoke thy aid to my adventurous song, That with no middle flight intends to soar Above th' Aonian mount, while it pursues Things unattempted yet in prose or rhyme.|[[, Paradise, Lost, by, John, Milton, 1667, ], Book, I, Of, Man, 's, first, disobedience, ,, and, the, fruit, Of, that, forbidden, tree, whose, mortal, taste, Brought, death, into, the, World, ,, and, all, our, woe, ,, With, loss, of, Eden, ,, till, one, greater, Man, Restore, us, ,, and, regain, the, blissful, seat, ,, Sing, ,, Heavenly, Muse, ,, that, ,, on, the, secret, top, Of, Oreb, ,, or, of, Sinai, ,, didst, inspire, That, shepherd, who, first, taught, the, chosen, seed, In, the, beginning, how, the, heavens, and, earth, Rose, out, of, Chaos, :, or, ,, if, Sion, hill, Delight, thee, more, ,, and, Siloa, 's, brook, that, flowed, Fast, by, the, oracle, of, God, ,, I, thence, Invoke, thy, aid, to, my, adventurous, song, ,, That, with, no, middle, flight, intends, to, soar, Above, th, ', Aonian, mount, ,, while, it, pursues, Things, unattempted, yet, in, prose, or, rhyme, .]|\n",
      "|And chiefly thou, O Spirit, that dost prefer Before all temples th' upright heart and pure, Instruct me, for thou know'st; thou from the first Wast present, and, with mighty wings outspread, Dove-like sat'st brooding on the vast Abyss, And mad'st it pregnant: what in me is dark Illumine, what is low raise and support; That, to the height of this great argument, I may assert Eternal Providence, And justify the ways of God to men.                                                                                                                                                                                                                                                                                         |[And, chiefly, thou, ,, O, Spirit, ,, that, dost, prefer, Before, all, temples, th, ', upright, heart, and, pure, ,, Instruct, me, ,, for, thou, know'st, ;, thou, from, the, first, Wast, present, ,, and, ,, with, mighty, wings, outspread, ,, Dove-like, sat'st, brooding, on, the, vast, Abyss, ,, And, mad'st, it, pregnant, :, what, in, me, is, dark, Illumine, ,, what, is, low, raise, and, support, ;, That, ,, to, the, height, of, this, great, argument, ,, I, may, assert, Eternal, Providence, ,, And, justify, the, ways, of, God, to, men, .]                                                                                                                                                                                                                                                                                                                                                           |\n",
      "|Say first--for Heaven hides nothing from thy view, Nor the deep tract of Hell--say first what cause Moved our grand parents, in that happy state, Favoured of Heaven so highly, to fall off From their Creator, and transgress his will For one restraint, lords of the World besides.                                                                                                                                                                                                                                                                                                                                                                                                                                                   |[Say, first, --, for, Heaven, hides, nothing, from, thy, view, ,, Nor, the, deep, tract, of, Hell, --, say, first, what, cause, Moved, our, grand, parents, ,, in, that, happy, state, ,, Favoured, of, Heaven, so, highly, ,, to, fall, off, From, their, Creator, ,, and, transgress, his, will, For, one, restraint, ,, lords, of, the, World, besides, .]                                                                                                                                                                                                                                                                                                                                                                                                                                                                                                                                                             |\n",
      "|Who first seduced them to that foul revolt?                                                                                                                                                                                                                                                                                                                                                                                                                                                                                                                                                                                                                                                                                              |[Who, first, seduced, them, to, that, foul, revolt, ?]                                                                                                                                                                                                                                                                                                                                                                                                                                                                                                                                                                                                                                                                                                                                                                                                                                                                    |\n",
      "|Th' infernal Serpent; he it was whose guile, Stirred up with envy and revenge, deceived The mother of mankind, what time his pride Had cast him out from Heaven, with all his host Of rebel Angels, by whose aid, aspiring To set himself in glory above his peers, He trusted to have equalled the Most High, If he opposed, and with ambitious aim Against the throne and monarchy of God, Raised impious war in Heaven and battle proud, With vain attempt.                                                                                                                                                                                                                                                                           |[Th, ', infernal, Serpent, ;, he, it, was, whose, guile, ,, Stirred, up, with, envy, and, revenge, ,, deceived, The, mother, of, mankind, ,, what, time, his, pride, Had, cast, him, out, from, Heaven, ,, with, all, his, host, Of, rebel, Angels, ,, by, whose, aid, ,, aspiring, To, set, himself, in, glory, above, his, peers, ,, He, trusted, to, have, equalled, the, Most, High, ,, If, he, opposed, ,, and, with, ambitious, aim, Against, the, throne, and, monarchy, of, God, ,, Raised, impious, war, in, Heaven, and, battle, proud, ,, With, vain, attempt, .]                                                                                                                                                                                                                                                                                                                                              |\n",
      "+-----------------------------------------------------------------------------------------------------------------------------------------------------------------------------------------------------------------------------------------------------------------------------------------------------------------------------------------------------------------------------------------------------------------------------------------------------------------------------------------------------------------------------------------------------------------------------------------------------------------------------------------------------------------------------------------------------------------------------------------+--------------------------------------------------------------------------------------------------------------------------------------------------------------------------------------------------------------------------------------------------------------------------------------------------------------------------------------------------------------------------------------------------------------------------------------------------------------------------------------------------------------------------------------------------------------------------------------------------------------------------------------------------------------------------------------------------------------------------------------------------------------------------------------------------------------------------------------------------------------------------------------------------------------------------+\n",
      "only showing top 5 rows\n",
      "\n"
     ]
    }
   ],
   "source": [
    "d2.show(5, truncate=False)"
   ]
  },
  {
   "cell_type": "markdown",
   "metadata": {
    "id": "F4N9SIngJ1uc"
   },
   "source": [
    "From above it can be seen that data has punctuations in it.\n",
    "\n",
    "* **Remove punctuation and stopwords**"
   ]
  },
  {
   "cell_type": "code",
   "execution_count": 12,
   "metadata": {
    "id": "DxR9eooPJ1uc"
   },
   "outputs": [
    {
     "name": "stderr",
     "output_type": "stream",
     "text": [
      "[nltk_data] Downloading package stopwords to\n",
      "[nltk_data]     C:\\Users\\vidyadhar\\AppData\\Roaming\\nltk_data...\n",
      "[nltk_data]   Package stopwords is already up-to-date!\n"
     ]
    },
    {
     "data": {
      "text/plain": [
       "True"
      ]
     },
     "execution_count": 12,
     "metadata": {},
     "output_type": "execute_result"
    }
   ],
   "source": [
    "# Download stopwords\n",
    "nltk.download('stopwords')"
   ]
  },
  {
   "cell_type": "code",
   "execution_count": 13,
   "metadata": {
    "id": "1rRHaCN0J1ud"
   },
   "outputs": [
    {
     "name": "stdout",
     "output_type": "stream",
     "text": [
      "{'my', 'her', 'below', 'then', 'over', 'your', 'too', 'those', 'for', 'himself', 'again', \"needn't\", 'by', 'yourselves', \"shan't\", 'through', 'weren', 'isn', 'herself', 'o', 'needn', 'should', 'nor', 'are', 'other', 'was', 'when', 'after', 't', 'she', \"mustn't\", 'further', \"couldn't\", 'having', 'their', 'how', 'whom', 'just', 'against', 'under', 'few', 'no', 'about', 'be', 'he', 'i', \"you're\", 'that', 'the', 'during', 'you', 'this', 'very', 'hasn', 'being', 'on', 'before', 'down', 'each', 'ourselves', 'hadn', 'our', 'd', 'into', 'or', 'been', 'itself', 'from', 'couldn', 'own', \"didn't\", 'of', \"should've\", 'an', 'them', \"wasn't\", 'wouldn', 'out', 'y', 'haven', 'mustn', \"weren't\", 'doesn', 'myself', 'once', 'who', 'can', 'theirs', 'shouldn', 'only', \"won't\", 'doing', 'has', 'in', 'to', 'mightn', 'do', 'did', 'what', 'until', 'why', 'its', \"it's\", 'more', 'because', \"doesn't\", 'me', 'not', \"isn't\", \"shouldn't\", 'up', 'have', 'we', 'am', 'm', 'ma', 's', 've', 'a', 'his', 'while', 'ain', 'which', 'is', 'ours', 'had', 'does', 'it', 'all', \"she's\", 'if', \"aren't\", 'yours', 'as', 'off', \"hadn't\", 'hers', 'themselves', 'shan', \"you'll\", 'at', 'but', 'don', \"you'd\", 'with', 'any', 'didn', 'wasn', 'such', 'so', 'same', \"haven't\", 'than', 'between', \"you've\", 'will', 'these', 'aren', 'yourself', 'were', 'and', 'some', 'above', 're', \"hasn't\", 'here', 'where', \"that'll\", 'won', 'll', 'most', 'there', \"mightn't\", 'they', \"don't\", 'both', 'now', \"wouldn't\", 'him'}\n"
     ]
    }
   ],
   "source": [
    "from nltk.corpus import stopwords\n",
    "stop_words = set(stopwords.words('english'))\n",
    "print(stop_words)"
   ]
  },
  {
   "cell_type": "code",
   "execution_count": 14,
   "metadata": {
    "id": "vSSCh2QeJ1ud"
   },
   "outputs": [
    {
     "name": "stdout",
     "output_type": "stream",
     "text": [
      "!\"#$%&'()*+,-./:;<=>?@[\\]^_`{|}~\n"
     ]
    }
   ],
   "source": [
    "punctuation = string.punctuation\n",
    "print(punctuation)"
   ]
  },
  {
   "cell_type": "code",
   "execution_count": 16,
   "metadata": {
    "id": "3gKHU3-bJ1ud"
   },
   "outputs": [
    {
     "name": "stdout",
     "output_type": "stream",
     "text": [
      "+-----------------------------------------------------------------------------------------------------------------------------------------------------------------------------------------------------------------------------------------------------------------------------------------------------------------------------------------------------------------------------------------------------------------------------------------------------------------------------------------------------------------------------------------------------------------------------------------------------------------------------------------------------------------------------------------------------------------------------------------+--------------------------------------------------------------------------------------------------------------------------------------------------------------------------------------------------------------------------------------------------------------------------------------------------------------------------------------------------------------------------------------------------------------------------------------------------------------------------------------------------------------------------------------------------------------------------------------------------------------------------------------------------+\n",
      "|sentences                                                                                                                                                                                                                                                                                                                                                                                                                                                                                                                                                                                                                                                                                                                                |words                                                                                                                                                                                                                                                                                                                                                                                                                                                                                                                                                                                                                                             |\n",
      "+-----------------------------------------------------------------------------------------------------------------------------------------------------------------------------------------------------------------------------------------------------------------------------------------------------------------------------------------------------------------------------------------------------------------------------------------------------------------------------------------------------------------------------------------------------------------------------------------------------------------------------------------------------------------------------------------------------------------------------------------+--------------------------------------------------------------------------------------------------------------------------------------------------------------------------------------------------------------------------------------------------------------------------------------------------------------------------------------------------------------------------------------------------------------------------------------------------------------------------------------------------------------------------------------------------------------------------------------------------------------------------------------------------+\n",
      "|[Paradise Lost by John Milton 1667] Book I Of Man's first disobedience, and the fruit Of that forbidden tree whose mortal taste Brought death into the World, and all our woe, With loss of Eden, till one greater Man Restore us, and regain the blissful seat, Sing, Heavenly Muse, that, on the secret top Of Oreb, or of Sinai, didst inspire That shepherd who first taught the chosen seed In the beginning how the heavens and earth Rose out of Chaos: or, if Sion hill Delight thee more, and Siloa's brook that flowed Fast by the oracle of God, I thence Invoke thy aid to my adventurous song, That with no middle flight intends to soar Above th' Aonian mount, while it pursues Things unattempted yet in prose or rhyme.|[Paradise, Lost, John, Milton, 1667, Book, I, Of, Man, 's, first, disobedience, fruit, Of, forbidden, tree, whose, mortal, taste, Brought, death, World, woe, With, loss, Eden, till, one, greater, Man, Restore, us, regain, blissful, seat, Sing, Heavenly, Muse, secret, top, Of, Oreb, Sinai, didst, inspire, That, shepherd, first, taught, chosen, seed, In, beginning, heavens, earth, Rose, Chaos, Sion, hill, Delight, thee, Siloa, 's, brook, flowed, Fast, oracle, God, I, thence, Invoke, thy, aid, adventurous, song, That, middle, flight, intends, soar, Above, th, Aonian, mount, pursues, Things, unattempted, yet, prose, rhyme]|\n",
      "|And chiefly thou, O Spirit, that dost prefer Before all temples th' upright heart and pure, Instruct me, for thou know'st; thou from the first Wast present, and, with mighty wings outspread, Dove-like sat'st brooding on the vast Abyss, And mad'st it pregnant: what in me is dark Illumine, what is low raise and support; That, to the height of this great argument, I may assert Eternal Providence, And justify the ways of God to men.                                                                                                                                                                                                                                                                                         |[And, chiefly, thou, O, Spirit, dost, prefer, Before, temples, th, upright, heart, pure, Instruct, thou, know'st, thou, first, Wast, present, mighty, wings, outspread, Dove-like, sat'st, brooding, vast, Abyss, And, mad'st, pregnant, dark, Illumine, low, raise, support, That, height, great, argument, I, may, assert, Eternal, Providence, And, justify, ways, God, men]                                                                                                                                                                                                                                                                   |\n",
      "|Say first--for Heaven hides nothing from thy view, Nor the deep tract of Hell--say first what cause Moved our grand parents, in that happy state, Favoured of Heaven so highly, to fall off From their Creator, and transgress his will For one restraint, lords of the World besides.                                                                                                                                                                                                                                                                                                                                                                                                                                                   |[Say, first, --, Heaven, hides, nothing, thy, view, Nor, deep, tract, Hell, --, say, first, cause, Moved, grand, parents, happy, state, Favoured, Heaven, highly, fall, From, Creator, transgress, For, one, restraint, lords, World, besides]                                                                                                                                                                                                                                                                                                                                                                                                    |\n",
      "|Who first seduced them to that foul revolt?                                                                                                                                                                                                                                                                                                                                                                                                                                                                                                                                                                                                                                                                                              |[Who, first, seduced, foul, revolt]                                                                                                                                                                                                                                                                                                                                                                                                                                                                                                                                                                                                               |\n",
      "|Th' infernal Serpent; he it was whose guile, Stirred up with envy and revenge, deceived The mother of mankind, what time his pride Had cast him out from Heaven, with all his host Of rebel Angels, by whose aid, aspiring To set himself in glory above his peers, He trusted to have equalled the Most High, If he opposed, and with ambitious aim Against the throne and monarchy of God, Raised impious war in Heaven and battle proud, With vain attempt.                                                                                                                                                                                                                                                                           |[Th, infernal, Serpent, whose, guile, Stirred, envy, revenge, deceived, The, mother, mankind, time, pride, Had, cast, Heaven, host, Of, rebel, Angels, whose, aid, aspiring, To, set, glory, peers, He, trusted, equalled, Most, High, If, opposed, ambitious, aim, Against, throne, monarchy, God, Raised, impious, war, Heaven, battle, proud, With, vain, attempt]                                                                                                                                                                                                                                                                             |\n",
      "+-----------------------------------------------------------------------------------------------------------------------------------------------------------------------------------------------------------------------------------------------------------------------------------------------------------------------------------------------------------------------------------------------------------------------------------------------------------------------------------------------------------------------------------------------------------------------------------------------------------------------------------------------------------------------------------------------------------------------------------------+--------------------------------------------------------------------------------------------------------------------------------------------------------------------------------------------------------------------------------------------------------------------------------------------------------------------------------------------------------------------------------------------------------------------------------------------------------------------------------------------------------------------------------------------------------------------------------------------------------------------------------------------------+\n",
      "only showing top 5 rows\n",
      "\n"
     ]
    }
   ],
   "source": [
    "# Transform data\n",
    "punct_udf = udf(lambda x: [w for w in x if not w in punctuation if not w in stop_words])\n",
    "d3 = d2.withColumn(\"words\", punct_udf(\"words\"))\n",
    "d3.show(5, truncate=False)"
   ]
  },
  {
   "cell_type": "code",
   "execution_count": 17,
   "metadata": {},
   "outputs": [
    {
     "data": {
      "text/plain": [
       "[('sentences', 'string'), ('words', 'string')]"
      ]
     },
     "execution_count": 17,
     "metadata": {},
     "output_type": "execute_result"
    }
   ],
   "source": [
    "d3.dtypes"
   ]
  },
  {
   "cell_type": "code",
   "execution_count": 18,
   "metadata": {
    "id": "x7CN5QwlJ1ud"
   },
   "outputs": [
    {
     "name": "stdout",
     "output_type": "stream",
     "text": [
      "+--------------------+--------------------+\n",
      "|           sentences|               words|\n",
      "+--------------------+--------------------+\n",
      "|[Paradise Lost by...|[Paradise, Lost, ...|\n",
      "|And chiefly thou,...|[And, chiefly, th...|\n",
      "|Say first--for He...|[Say, first, --, ...|\n",
      "|Who first seduced...|[Who, first, sedu...|\n",
      "|Th' infernal Serp...|[Th, infernal, Se...|\n",
      "+--------------------+--------------------+\n",
      "only showing top 5 rows\n",
      "\n"
     ]
    }
   ],
   "source": [
    "# Convert dataframe column to arraytype for further processing\n",
    "\n",
    "array_udf = udf(lambda x: x, ArrayType(StringType()))\n",
    "d4 = d3.withColumn(\"words\", array_udf(\"words\"))\n",
    "d4.show(5)"
   ]
  },
  {
   "cell_type": "code",
   "execution_count": 19,
   "metadata": {},
   "outputs": [
    {
     "data": {
      "text/plain": [
       "[('sentences', 'string'), ('words', 'array<string>')]"
      ]
     },
     "execution_count": 19,
     "metadata": {},
     "output_type": "execute_result"
    }
   ],
   "source": [
    "d4.dtypes"
   ]
  },
  {
   "cell_type": "markdown",
   "metadata": {
    "id": "0HgsKRUDJ1ud"
   },
   "source": [
    "##### Ngrams and collocations\n",
    "\n",
    "Collocation is a sequence of words that occur together unusually often.\n",
    "Bigrams: word pairs. High frequent bigrams are collocations.\n",
    "\n",
    "Let's see how we transform texts to 2-grams, 3-grams, and 4-grams collocations."
   ]
  },
  {
   "cell_type": "code",
   "execution_count": 20,
   "metadata": {
    "id": "oSeoJeoMJ1ue"
   },
   "outputs": [],
   "source": [
    "ngrams = [NGram(n=n, inputCol='words', outputCol=str(n)+'-grams') for n in [2,3,4]]\n",
    "\n",
    "# build pipeline model\n",
    "pipeline = Pipeline(stages=ngrams)\n",
    "\n",
    "# transform data\n",
    "texts_ngrams = pipeline.fit(d4).transform(d4)"
   ]
  },
  {
   "cell_type": "code",
   "execution_count": 21,
   "metadata": {
    "id": "yxhhYXXrJ1ue"
   },
   "outputs": [
    {
     "name": "stdout",
     "output_type": "stream",
     "text": [
      "+------------------------------------------------------------------------------------------------------------------------------------------------------------------------------------------------------------------------------------------------------------------------------------------------------------------------------------------------------------------------------------------------------------------------------------------------------------------------------------------------------------------------------------------------------------------------------------------------------------------------------------------------------------------------------------------------------------------------------------------------------------------------------------------------------------------------------------------------------------------------------------------------------------------------------------------------------------------------------------------------------------------------------------------------------------------------------------------------------------------------------------------------------------------------------------------+\n",
      "|2-grams                                                                                                                                                                                                                                                                                                                                                                                                                                                                                                                                                                                                                                                                                                                                                                                                                                                                                                                                                                                                                                                                                                                                                                                   |\n",
      "+------------------------------------------------------------------------------------------------------------------------------------------------------------------------------------------------------------------------------------------------------------------------------------------------------------------------------------------------------------------------------------------------------------------------------------------------------------------------------------------------------------------------------------------------------------------------------------------------------------------------------------------------------------------------------------------------------------------------------------------------------------------------------------------------------------------------------------------------------------------------------------------------------------------------------------------------------------------------------------------------------------------------------------------------------------------------------------------------------------------------------------------------------------------------------------------+\n",
      "|[Paradise Lost, Lost John, John Milton, Milton 1667, 1667 Book, Book I, I Of, Of Man, Man 's, 's first, first disobedience, disobedience fruit, fruit Of, Of forbidden, forbidden tree, tree whose, whose mortal, mortal taste, taste Brought, Brought death, death World, World woe, woe With, With loss, loss Eden, Eden till, till one, one greater, greater Man, Man Restore, Restore us, us regain, regain blissful, blissful seat, seat Sing, Sing Heavenly, Heavenly Muse, Muse secret, secret top, top Of, Of Oreb, Oreb Sinai, Sinai didst, didst inspire, inspire That, That shepherd, shepherd first, first taught, taught chosen, chosen seed, seed In, In beginning, beginning heavens, heavens earth, earth Rose, Rose Chaos, Chaos Sion, Sion hill, hill Delight, Delight thee, thee Siloa, Siloa 's, 's brook, brook flowed, flowed Fast, Fast oracle, oracle God, God I, I thence, thence Invoke, Invoke thy, thy aid, aid adventurous, adventurous song, song That, That middle, middle flight, flight intends, intends soar, soar Above, Above th, th Aonian, Aonian mount, mount pursues, pursues Things, Things unattempted, unattempted yet, yet prose, prose rhyme]|\n",
      "|[And chiefly, chiefly thou, thou O, O Spirit, Spirit dost, dost prefer, prefer Before, Before temples, temples th, th upright, upright heart, heart pure, pure Instruct, Instruct thou, thou know'st, know'st thou, thou first, first Wast, Wast present, present mighty, mighty wings, wings outspread, outspread Dove-like, Dove-like sat'st, sat'st brooding, brooding vast, vast Abyss, Abyss And, And mad'st, mad'st pregnant, pregnant dark, dark Illumine, Illumine low, low raise, raise support, support That, That height, height great, great argument, argument I, I may, may assert, assert Eternal, Eternal Providence, Providence And, And justify, justify ways, ways God, God men]                                                                                                                                                                                                                                                                                                                                                                                                                                                                                       |\n",
      "|[Say first, first --, -- Heaven, Heaven hides, hides nothing, nothing thy, thy view, view Nor, Nor deep, deep tract, tract Hell, Hell --, -- say, say first, first cause, cause Moved, Moved grand, grand parents, parents happy, happy state, state Favoured, Favoured Heaven, Heaven highly, highly fall, fall From, From Creator, Creator transgress, transgress For, For one, one restraint, restraint lords, lords World, World besides]                                                                                                                                                                                                                                                                                                                                                                                                                                                                                                                                                                                                                                                                                                                                             |\n",
      "|[Who first, first seduced, seduced foul, foul revolt]                                                                                                                                                                                                                                                                                                                                                                                                                                                                                                                                                                                                                                                                                                                                                                                                                                                                                                                                                                                                                                                                                                                                     |\n",
      "|[Th infernal, infernal Serpent, Serpent whose, whose guile, guile Stirred, Stirred envy, envy revenge, revenge deceived, deceived The, The mother, mother mankind, mankind time, time pride, pride Had, Had cast, cast Heaven, Heaven host, host Of, Of rebel, rebel Angels, Angels whose, whose aid, aid aspiring, aspiring To, To set, set glory, glory peers, peers He, He trusted, trusted equalled, equalled Most, Most High, High If, If opposed, opposed ambitious, ambitious aim, aim Against, Against throne, throne monarchy, monarchy God, God Raised, Raised impious, impious war, war Heaven, Heaven battle, battle proud, proud With, With vain, vain attempt]                                                                                                                                                                                                                                                                                                                                                                                                                                                                                                              |\n",
      "|[Him Almighty, Almighty Power, Power Hurled, Hurled headlong, headlong flaming, flaming th, th ethereal, ethereal sky, sky With, With hideous, hideous ruin, ruin combustion, combustion To, To bottomless, bottomless perdition, perdition dwell, dwell In, In adamantine, adamantine chains, chains penal, penal fire, fire Who, Who durst, durst defy, defy th, th Omnipotent, Omnipotent arms]                                                                                                                                                                                                                                                                                                                                                                                                                                                                                                                                                                                                                                                                                                                                                                                        |\n",
      "+------------------------------------------------------------------------------------------------------------------------------------------------------------------------------------------------------------------------------------------------------------------------------------------------------------------------------------------------------------------------------------------------------------------------------------------------------------------------------------------------------------------------------------------------------------------------------------------------------------------------------------------------------------------------------------------------------------------------------------------------------------------------------------------------------------------------------------------------------------------------------------------------------------------------------------------------------------------------------------------------------------------------------------------------------------------------------------------------------------------------------------------------------------------------------------------+\n",
      "only showing top 6 rows\n",
      "\n"
     ]
    },
    {
     "name": "stdout",
     "output_type": "stream",
     "text": [
      "+-----------------------------------------------------------------------------------------------------------------------------------------------------------------------------------------------------------------------------------------------------------------------------------------------------------------------------------------------------------------------------------------------------------------------------------------------------------------------------------------------------------------------------------------------------------------------------------------------------------------------------------------------------------------------------------------------------------------------------------------------------------------------------------------------------------------------------------------------------------------------------------------------------------------------------------------------------------------------------------------------------------------------------------------------------------------------------------------------------------------------------------------------------------------------------------------------------------------------------------------------------------------------------------------------------------------------------------------------------------------------------------------------------------------------------------------------------------------------------------------------------------------------------------------------------------------------------------------------------------------------------------------------------------------------------------------------------------------------+\n",
      "|3-grams                                                                                                                                                                                                                                                                                                                                                                                                                                                                                                                                                                                                                                                                                                                                                                                                                                                                                                                                                                                                                                                                                                                                                                                                                                                                                                                                                                                                                                                                                                                                                                                                                                                                                                                |\n",
      "+-----------------------------------------------------------------------------------------------------------------------------------------------------------------------------------------------------------------------------------------------------------------------------------------------------------------------------------------------------------------------------------------------------------------------------------------------------------------------------------------------------------------------------------------------------------------------------------------------------------------------------------------------------------------------------------------------------------------------------------------------------------------------------------------------------------------------------------------------------------------------------------------------------------------------------------------------------------------------------------------------------------------------------------------------------------------------------------------------------------------------------------------------------------------------------------------------------------------------------------------------------------------------------------------------------------------------------------------------------------------------------------------------------------------------------------------------------------------------------------------------------------------------------------------------------------------------------------------------------------------------------------------------------------------------------------------------------------------------+\n",
      "|[Paradise Lost John, Lost John Milton, John Milton 1667, Milton 1667 Book, 1667 Book I, Book I Of, I Of Man, Of Man 's, Man 's first, 's first disobedience, first disobedience fruit, disobedience fruit Of, fruit Of forbidden, Of forbidden tree, forbidden tree whose, tree whose mortal, whose mortal taste, mortal taste Brought, taste Brought death, Brought death World, death World woe, World woe With, woe With loss, With loss Eden, loss Eden till, Eden till one, till one greater, one greater Man, greater Man Restore, Man Restore us, Restore us regain, us regain blissful, regain blissful seat, blissful seat Sing, seat Sing Heavenly, Sing Heavenly Muse, Heavenly Muse secret, Muse secret top, secret top Of, top Of Oreb, Of Oreb Sinai, Oreb Sinai didst, Sinai didst inspire, didst inspire That, inspire That shepherd, That shepherd first, shepherd first taught, first taught chosen, taught chosen seed, chosen seed In, seed In beginning, In beginning heavens, beginning heavens earth, heavens earth Rose, earth Rose Chaos, Rose Chaos Sion, Chaos Sion hill, Sion hill Delight, hill Delight thee, Delight thee Siloa, thee Siloa 's, Siloa 's brook, 's brook flowed, brook flowed Fast, flowed Fast oracle, Fast oracle God, oracle God I, God I thence, I thence Invoke, thence Invoke thy, Invoke thy aid, thy aid adventurous, aid adventurous song, adventurous song That, song That middle, That middle flight, middle flight intends, flight intends soar, intends soar Above, soar Above th, Above th Aonian, th Aonian mount, Aonian mount pursues, mount pursues Things, pursues Things unattempted, Things unattempted yet, unattempted yet prose, yet prose rhyme]|\n",
      "|[And chiefly thou, chiefly thou O, thou O Spirit, O Spirit dost, Spirit dost prefer, dost prefer Before, prefer Before temples, Before temples th, temples th upright, th upright heart, upright heart pure, heart pure Instruct, pure Instruct thou, Instruct thou know'st, thou know'st thou, know'st thou first, thou first Wast, first Wast present, Wast present mighty, present mighty wings, mighty wings outspread, wings outspread Dove-like, outspread Dove-like sat'st, Dove-like sat'st brooding, sat'st brooding vast, brooding vast Abyss, vast Abyss And, Abyss And mad'st, And mad'st pregnant, mad'st pregnant dark, pregnant dark Illumine, dark Illumine low, Illumine low raise, low raise support, raise support That, support That height, That height great, height great argument, great argument I, argument I may, I may assert, may assert Eternal, assert Eternal Providence, Eternal Providence And, Providence And justify, And justify ways, justify ways God, ways God men]                                                                                                                                                                                                                                                                                                                                                                                                                                                                                                                                                                                                                                                                                                            |\n",
      "|[Say first --, first -- Heaven, -- Heaven hides, Heaven hides nothing, hides nothing thy, nothing thy view, thy view Nor, view Nor deep, Nor deep tract, deep tract Hell, tract Hell --, Hell -- say, -- say first, say first cause, first cause Moved, cause Moved grand, Moved grand parents, grand parents happy, parents happy state, happy state Favoured, state Favoured Heaven, Favoured Heaven highly, Heaven highly fall, highly fall From, fall From Creator, From Creator transgress, Creator transgress For, transgress For one, For one restraint, one restraint lords, restraint lords World, lords World besides]                                                                                                                                                                                                                                                                                                                                                                                                                                                                                                                                                                                                                                                                                                                                                                                                                                                                                                                                                                                                                                                                                       |\n",
      "|[Who first seduced, first seduced foul, seduced foul revolt]                                                                                                                                                                                                                                                                                                                                                                                                                                                                                                                                                                                                                                                                                                                                                                                                                                                                                                                                                                                                                                                                                                                                                                                                                                                                                                                                                                                                                                                                                                                                                                                                                                                           |\n",
      "|[Th infernal Serpent, infernal Serpent whose, Serpent whose guile, whose guile Stirred, guile Stirred envy, Stirred envy revenge, envy revenge deceived, revenge deceived The, deceived The mother, The mother mankind, mother mankind time, mankind time pride, time pride Had, pride Had cast, Had cast Heaven, cast Heaven host, Heaven host Of, host Of rebel, Of rebel Angels, rebel Angels whose, Angels whose aid, whose aid aspiring, aid aspiring To, aspiring To set, To set glory, set glory peers, glory peers He, peers He trusted, He trusted equalled, trusted equalled Most, equalled Most High, Most High If, High If opposed, If opposed ambitious, opposed ambitious aim, ambitious aim Against, aim Against throne, Against throne monarchy, throne monarchy God, monarchy God Raised, God Raised impious, Raised impious war, impious war Heaven, war Heaven battle, Heaven battle proud, battle proud With, proud With vain, With vain attempt]                                                                                                                                                                                                                                                                                                                                                                                                                                                                                                                                                                                                                                                                                                                                                  |\n",
      "|[Him Almighty Power, Almighty Power Hurled, Power Hurled headlong, Hurled headlong flaming, headlong flaming th, flaming th ethereal, th ethereal sky, ethereal sky With, sky With hideous, With hideous ruin, hideous ruin combustion, ruin combustion To, combustion To bottomless, To bottomless perdition, bottomless perdition dwell, perdition dwell In, dwell In adamantine, In adamantine chains, adamantine chains penal, chains penal fire, penal fire Who, fire Who durst, Who durst defy, durst defy th, defy th Omnipotent, th Omnipotent arms]                                                                                                                                                                                                                                                                                                                                                                                                                                                                                                                                                                                                                                                                                                                                                                                                                                                                                                                                                                                                                                                                                                                                                           |\n",
      "+-----------------------------------------------------------------------------------------------------------------------------------------------------------------------------------------------------------------------------------------------------------------------------------------------------------------------------------------------------------------------------------------------------------------------------------------------------------------------------------------------------------------------------------------------------------------------------------------------------------------------------------------------------------------------------------------------------------------------------------------------------------------------------------------------------------------------------------------------------------------------------------------------------------------------------------------------------------------------------------------------------------------------------------------------------------------------------------------------------------------------------------------------------------------------------------------------------------------------------------------------------------------------------------------------------------------------------------------------------------------------------------------------------------------------------------------------------------------------------------------------------------------------------------------------------------------------------------------------------------------------------------------------------------------------------------------------------------------------+\n",
      "only showing top 6 rows\n",
      "\n"
     ]
    },
    {
     "name": "stdout",
     "output_type": "stream",
     "text": [
      "+-------------------------------------------------------------------------------------------------------------------------------------------------------------------------------------------------------------------------------------------------------------------------------------------------------------------------------------------------------------------------------------------------------------------------------------------------------------------------------------------------------------------------------------------------------------------------------------------------------------------------------------------------------------------------------------------------------------------------------------------------------------------------------------------------------------------------------------------------------------------------------------------------------------------------------------------------------------------------------------------------------------------------------------------------------------------------------------------------------------------------------------------------------------------------------------------------------------------------------------------------------------------------------------------------------------------------------------------------------------------------------------------------------------------------------------------------------------------------------------------------------------------------------------------------------------------------------------------------------------------------------------------------------------------------------------------------------------------------------------------------------------------------------------------------------------------------------------------------------------------------------------------------------------------------------------------------------------------------------------------------------------------------------------------------------------------------------------------------------------------------------------------------------------------------------------------------------------------------------------------+\n",
      "|4-grams                                                                                                                                                                                                                                                                                                                                                                                                                                                                                                                                                                                                                                                                                                                                                                                                                                                                                                                                                                                                                                                                                                                                                                                                                                                                                                                                                                                                                                                                                                                                                                                                                                                                                                                                                                                                                                                                                                                                                                                                                                                                                                                                                                                                                                    |\n",
      "+-------------------------------------------------------------------------------------------------------------------------------------------------------------------------------------------------------------------------------------------------------------------------------------------------------------------------------------------------------------------------------------------------------------------------------------------------------------------------------------------------------------------------------------------------------------------------------------------------------------------------------------------------------------------------------------------------------------------------------------------------------------------------------------------------------------------------------------------------------------------------------------------------------------------------------------------------------------------------------------------------------------------------------------------------------------------------------------------------------------------------------------------------------------------------------------------------------------------------------------------------------------------------------------------------------------------------------------------------------------------------------------------------------------------------------------------------------------------------------------------------------------------------------------------------------------------------------------------------------------------------------------------------------------------------------------------------------------------------------------------------------------------------------------------------------------------------------------------------------------------------------------------------------------------------------------------------------------------------------------------------------------------------------------------------------------------------------------------------------------------------------------------------------------------------------------------------------------------------------------------+\n",
      "|[Paradise Lost John Milton, Lost John Milton 1667, John Milton 1667 Book, Milton 1667 Book I, 1667 Book I Of, Book I Of Man, I Of Man 's, Of Man 's first, Man 's first disobedience, 's first disobedience fruit, first disobedience fruit Of, disobedience fruit Of forbidden, fruit Of forbidden tree, Of forbidden tree whose, forbidden tree whose mortal, tree whose mortal taste, whose mortal taste Brought, mortal taste Brought death, taste Brought death World, Brought death World woe, death World woe With, World woe With loss, woe With loss Eden, With loss Eden till, loss Eden till one, Eden till one greater, till one greater Man, one greater Man Restore, greater Man Restore us, Man Restore us regain, Restore us regain blissful, us regain blissful seat, regain blissful seat Sing, blissful seat Sing Heavenly, seat Sing Heavenly Muse, Sing Heavenly Muse secret, Heavenly Muse secret top, Muse secret top Of, secret top Of Oreb, top Of Oreb Sinai, Of Oreb Sinai didst, Oreb Sinai didst inspire, Sinai didst inspire That, didst inspire That shepherd, inspire That shepherd first, That shepherd first taught, shepherd first taught chosen, first taught chosen seed, taught chosen seed In, chosen seed In beginning, seed In beginning heavens, In beginning heavens earth, beginning heavens earth Rose, heavens earth Rose Chaos, earth Rose Chaos Sion, Rose Chaos Sion hill, Chaos Sion hill Delight, Sion hill Delight thee, hill Delight thee Siloa, Delight thee Siloa 's, thee Siloa 's brook, Siloa 's brook flowed, 's brook flowed Fast, brook flowed Fast oracle, flowed Fast oracle God, Fast oracle God I, oracle God I thence, God I thence Invoke, I thence Invoke thy, thence Invoke thy aid, Invoke thy aid adventurous, thy aid adventurous song, aid adventurous song That, adventurous song That middle, song That middle flight, That middle flight intends, middle flight intends soar, flight intends soar Above, intends soar Above th, soar Above th Aonian, Above th Aonian mount, th Aonian mount pursues, Aonian mount pursues Things, mount pursues Things unattempted, pursues Things unattempted yet, Things unattempted yet prose, unattempted yet prose rhyme]|\n",
      "|[And chiefly thou O, chiefly thou O Spirit, thou O Spirit dost, O Spirit dost prefer, Spirit dost prefer Before, dost prefer Before temples, prefer Before temples th, Before temples th upright, temples th upright heart, th upright heart pure, upright heart pure Instruct, heart pure Instruct thou, pure Instruct thou know'st, Instruct thou know'st thou, thou know'st thou first, know'st thou first Wast, thou first Wast present, first Wast present mighty, Wast present mighty wings, present mighty wings outspread, mighty wings outspread Dove-like, wings outspread Dove-like sat'st, outspread Dove-like sat'st brooding, Dove-like sat'st brooding vast, sat'st brooding vast Abyss, brooding vast Abyss And, vast Abyss And mad'st, Abyss And mad'st pregnant, And mad'st pregnant dark, mad'st pregnant dark Illumine, pregnant dark Illumine low, dark Illumine low raise, Illumine low raise support, low raise support That, raise support That height, support That height great, That height great argument, height great argument I, great argument I may, argument I may assert, I may assert Eternal, may assert Eternal Providence, assert Eternal Providence And, Eternal Providence And justify, Providence And justify ways, And justify ways God, justify ways God men]                                                                                                                                                                                                                                                                                                                                                                                                                                                                                                                                                                                                                                                                                                                                                                                                                                                                                                                                  |\n",
      "|[Say first -- Heaven, first -- Heaven hides, -- Heaven hides nothing, Heaven hides nothing thy, hides nothing thy view, nothing thy view Nor, thy view Nor deep, view Nor deep tract, Nor deep tract Hell, deep tract Hell --, tract Hell -- say, Hell -- say first, -- say first cause, say first cause Moved, first cause Moved grand, cause Moved grand parents, Moved grand parents happy, grand parents happy state, parents happy state Favoured, happy state Favoured Heaven, state Favoured Heaven highly, Favoured Heaven highly fall, Heaven highly fall From, highly fall From Creator, fall From Creator transgress, From Creator transgress For, Creator transgress For one, transgress For one restraint, For one restraint lords, one restraint lords World, restraint lords World besides]                                                                                                                                                                                                                                                                                                                                                                                                                                                                                                                                                                                                                                                                                                                                                                                                                                                                                                                                                                                                                                                                                                                                                                                                                                                                                                                                                                                                                                 |\n",
      "|[Who first seduced foul, first seduced foul revolt]                                                                                                                                                                                                                                                                                                                                                                                                                                                                                                                                                                                                                                                                                                                                                                                                                                                                                                                                                                                                                                                                                                                                                                                                                                                                                                                                                                                                                                                                                                                                                                                                                                                                                                                                                                                                                                                                                                                                                                                                                                                                                                                                                                                        |\n",
      "|[Th infernal Serpent whose, infernal Serpent whose guile, Serpent whose guile Stirred, whose guile Stirred envy, guile Stirred envy revenge, Stirred envy revenge deceived, envy revenge deceived The, revenge deceived The mother, deceived The mother mankind, The mother mankind time, mother mankind time pride, mankind time pride Had, time pride Had cast, pride Had cast Heaven, Had cast Heaven host, cast Heaven host Of, Heaven host Of rebel, host Of rebel Angels, Of rebel Angels whose, rebel Angels whose aid, Angels whose aid aspiring, whose aid aspiring To, aid aspiring To set, aspiring To set glory, To set glory peers, set glory peers He, glory peers He trusted, peers He trusted equalled, He trusted equalled Most, trusted equalled Most High, equalled Most High If, Most High If opposed, High If opposed ambitious, If opposed ambitious aim, opposed ambitious aim Against, ambitious aim Against throne, aim Against throne monarchy, Against throne monarchy God, throne monarchy God Raised, monarchy God Raised impious, God Raised impious war, Raised impious war Heaven, impious war Heaven battle, war Heaven battle proud, Heaven battle proud With, battle proud With vain, proud With vain attempt]                                                                                                                                                                                                                                                                                                                                                                                                                                                                                                                                                                                                                                                                                                                                                                                                                                                                                                                                                                                          |\n",
      "|[Him Almighty Power Hurled, Almighty Power Hurled headlong, Power Hurled headlong flaming, Hurled headlong flaming th, headlong flaming th ethereal, flaming th ethereal sky, th ethereal sky With, ethereal sky With hideous, sky With hideous ruin, With hideous ruin combustion, hideous ruin combustion To, ruin combustion To bottomless, combustion To bottomless perdition, To bottomless perdition dwell, bottomless perdition dwell In, perdition dwell In adamantine, dwell In adamantine chains, In adamantine chains penal, adamantine chains penal fire, chains penal fire Who, penal fire Who durst, fire Who durst defy, Who durst defy th, durst defy th Omnipotent, defy th Omnipotent arms]                                                                                                                                                                                                                                                                                                                                                                                                                                                                                                                                                                                                                                                                                                                                                                                                                                                                                                                                                                                                                                                                                                                                                                                                                                                                                                                                                                                                                                                                                                                              |\n",
      "+-------------------------------------------------------------------------------------------------------------------------------------------------------------------------------------------------------------------------------------------------------------------------------------------------------------------------------------------------------------------------------------------------------------------------------------------------------------------------------------------------------------------------------------------------------------------------------------------------------------------------------------------------------------------------------------------------------------------------------------------------------------------------------------------------------------------------------------------------------------------------------------------------------------------------------------------------------------------------------------------------------------------------------------------------------------------------------------------------------------------------------------------------------------------------------------------------------------------------------------------------------------------------------------------------------------------------------------------------------------------------------------------------------------------------------------------------------------------------------------------------------------------------------------------------------------------------------------------------------------------------------------------------------------------------------------------------------------------------------------------------------------------------------------------------------------------------------------------------------------------------------------------------------------------------------------------------------------------------------------------------------------------------------------------------------------------------------------------------------------------------------------------------------------------------------------------------------------------------------------------+\n",
      "only showing top 6 rows\n",
      "\n"
     ]
    }
   ],
   "source": [
    "# display result\n",
    "texts_ngrams.select('2-grams').show(6, truncate=False)\n",
    "texts_ngrams.select('3-grams').show(6, truncate=False)\n",
    "texts_ngrams.select('4-grams').show(6, truncate=False)"
   ]
  },
  {
   "cell_type": "markdown",
   "metadata": {
    "id": "BozJZvZVJ1ue"
   },
   "source": [
    "* Add the number of words column"
   ]
  },
  {
   "cell_type": "code",
   "execution_count": 22,
   "metadata": {
    "id": "gnW-5PvwJ1ue"
   },
   "outputs": [],
   "source": [
    "# Transform data\n",
    "len_udf = udf(lambda x: len(x), IntegerType())\n",
    "\n",
    "d5 = d4.withColumn(\"no_of_words\", len_udf(\"words\"))"
   ]
  },
  {
   "cell_type": "code",
   "execution_count": 23,
   "metadata": {
    "id": "byxmFkQxJ1ue"
   },
   "outputs": [
    {
     "name": "stdout",
     "output_type": "stream",
     "text": [
      "+--------------------+--------------------+-----------+\n",
      "|           sentences|               words|no_of_words|\n",
      "+--------------------+--------------------+-----------+\n",
      "|[Paradise Lost by...|[Paradise, Lost, ...|         90|\n",
      "|And chiefly thou,...|[And, chiefly, th...|         50|\n",
      "|Say first--for He...|[Say, first, --, ...|         34|\n",
      "|Who first seduced...|[Who, first, sedu...|          5|\n",
      "|Th' infernal Serp...|[Th, infernal, Se...|         50|\n",
      "+--------------------+--------------------+-----------+\n",
      "only showing top 5 rows\n",
      "\n"
     ]
    }
   ],
   "source": [
    "d5.show(5)"
   ]
  },
  {
   "cell_type": "markdown",
   "metadata": {
    "id": "iw8-o6gMJ1ue"
   },
   "source": [
    "##### **POS (part-of-speech) tagging**\n",
    "\n",
    "It is a process of converting a sentence to forms – list of words, list of tuples (where each tuple is having a form (word, tag)). The tag is a part-of-speech tag and signifies whether the word is a noun, adjective, verb, and so on.\n",
    "\n",
    "To know more about POS tagging click [here](https://medium.com/greyatom/learning-pos-tagging-chunking-in-nlp-85f7f811a8cb)."
   ]
  },
  {
   "cell_type": "code",
   "execution_count": 24,
   "metadata": {
    "id": "U8JhY1RqJ1uf"
   },
   "outputs": [
    {
     "name": "stderr",
     "output_type": "stream",
     "text": [
      "[nltk_data] Downloading package averaged_perceptron_tagger to\n",
      "[nltk_data]     C:\\Users\\vidyadhar\\AppData\\Roaming\\nltk_data...\n",
      "[nltk_data]   Package averaged_perceptron_tagger is already up-to-\n",
      "[nltk_data]       date!\n"
     ]
    },
    {
     "data": {
      "text/plain": [
       "True"
      ]
     },
     "execution_count": 24,
     "metadata": {},
     "output_type": "execute_result"
    }
   ],
   "source": [
    "# Download dependencies for pos_tag()\n",
    "nltk.download('averaged_perceptron_tagger')"
   ]
  },
  {
   "cell_type": "code",
   "execution_count": 25,
   "metadata": {
    "id": "2M-3UpFRJ1uf"
   },
   "outputs": [],
   "source": [
    "## define schema for returned result from the udf function\n",
    "## the returned result is a list of tuples\n",
    "schema = ArrayType(StructType([\n",
    "            StructField('f1', StringType()),\n",
    "            StructField('f2', StringType())    ]))\n",
    "\n",
    "sent_to_tag_words_udf = udf(lambda x: nltk.pos_tag(x), schema)"
   ]
  },
  {
   "cell_type": "code",
   "execution_count": 27,
   "metadata": {
    "id": "PkckMu1MJ1uf"
   },
   "outputs": [
    {
     "name": "stdout",
     "output_type": "stream",
     "text": [
      "+-----------------------------------------------------------------------------------------------------------------------------------------------------------------------------------------------------------------------------------------------------------------------------------------------------------------------------------------------------------------------------------------------------------------------------------------------------------------------------------------------------------------------------------------------------------------------------------------------------------------------------------------------------------------------------------------------------------------------------------------------------------------------------------------------------------------------------------------------------------------------------------------------------------------------------------------------------------------------------------------------------------------------------------------------------------------------------------------------------------------------------------------------------------------------------------------------------------------------------------------------------------+\n",
      "|tagged_words                                                                                                                                                                                                                                                                                                                                                                                                                                                                                                                                                                                                                                                                                                                                                                                                                                                                                                                                                                                                                                                                                                                                                                                                                                               |\n",
      "+-----------------------------------------------------------------------------------------------------------------------------------------------------------------------------------------------------------------------------------------------------------------------------------------------------------------------------------------------------------------------------------------------------------------------------------------------------------------------------------------------------------------------------------------------------------------------------------------------------------------------------------------------------------------------------------------------------------------------------------------------------------------------------------------------------------------------------------------------------------------------------------------------------------------------------------------------------------------------------------------------------------------------------------------------------------------------------------------------------------------------------------------------------------------------------------------------------------------------------------------------------------+\n",
      "|[[Paradise, NN], [Lost, NNP], [John, NNP], [Milton, NNP], [1667, CD], [Book, NNP], [I, PRP], [Of, IN], [Man, NNP], ['s, POS], [first, JJ], [disobedience, NN], [fruit, NN], [Of, IN], [forbidden, JJ], [tree, NN], [whose, WP$], [mortal, JJ], [taste, NN], [Brought, NNP], [death, NN], [World, NNP], [woe, NN], [With, IN], [loss, NN], [Eden, NNP], [till, NN], [one, CD], [greater, JJR], [Man, NN], [Restore, NNP], [us, PRP], [regain, VBP], [blissful, JJ], [seat, NN], [Sing, VBG], [Heavenly, NNP], [Muse, NNP], [secret, JJ], [top, NN], [Of, IN], [Oreb, NNP], [Sinai, NNP], [didst, NN], [inspire, NN], [That, WDT], [shepherd, VBD], [first, RB], [taught, JJ], [chosen, NNS], [seed, NN], [In, IN], [beginning, VBG], [heavens, NNS], [earth, NN], [Rose, NNP], [Chaos, NNP], [Sion, NNP], [hill, NN], [Delight, NNP], [thee, VBZ], [Siloa, NNP], ['s, POS], [brook, NN], [flowed, VBD], [Fast, NNP], [oracle, IN], [God, NNP], [I, PRP], [thence, VBP], [Invoke, NNP], [thy, NN], [aid, NN], [adventurous, JJ], [song, NN], [That, WDT], [middle, JJ], [flight, NN], [intends, VBZ], [soar, VB], [Above, NNP], [th, NN], [Aonian, NNP], [mount, NN], [pursues, NNS], [Things, NNP], [unattempted, VBD], [yet, RB], [prose, JJ], [rhyme, NN]]|\n",
      "|[[And, CC], [chiefly, VB], [thou, JJ], [O, NNP], [Spirit, NNP], [dost, NN], [prefer, NN], [Before, IN], [temples, NNS], [th, VBP], [upright, JJ], [heart, NN], [pure, NN], [Instruct, NNP], [thou, NN], [know'st, NN], [thou, NN], [first, RB], [Wast, NNP], [present, JJ], [mighty, NN], [wings, NNS], [outspread, VBP], [Dove-like, NNP], [sat'st, NN], [brooding, VBG], [vast, JJ], [Abyss, NNP], [And, CC], [mad'st, NN], [pregnant, JJ], [dark, JJ], [Illumine, NNP], [low, JJ], [raise, NN], [support, NN], [That, WDT], [height, VBD], [great, JJ], [argument, NN], [I, PRP], [may, MD], [assert, VB], [Eternal, NNP], [Providence, NNP], [And, CC], [justify, VB], [ways, NNS], [God, NNP], [men, NNS]]                                                                                                                                                                                                                                                                                                                                                                                                                                                                                                                                            |\n",
      "|[[Say, NNP], [first, RB], [--, :], [Heaven, NNP], [hides, VBZ], [nothing, NN], [thy, JJ], [view, NN], [Nor, NNP], [deep, JJ], [tract, NN], [Hell, NNP], [--, :], [say, VBP], [first, JJ], [cause, NN], [Moved, NNP], [grand, JJ], [parents, NNS], [happy, JJ], [state, NN], [Favoured, VBD], [Heaven, NNP], [highly, RB], [fall, VBP], [From, NNP], [Creator, NNP], [transgress, NN], [For, IN], [one, CD], [restraint, NN], [lords, NNS], [World, NNP], [besides, IN]]                                                                                                                                                                                                                                                                                                                                                                                                                                                                                                                                                                                                                                                                                                                                                                                    |\n",
      "|[[Who, WP], [first, RB], [seduced, VBD], [foul, JJ], [revolt, NN]]                                                                                                                                                                                                                                                                                                                                                                                                                                                                                                                                                                                                                                                                                                                                                                                                                                                                                                                                                                                                                                                                                                                                                                                         |\n",
      "|[[Th, NNP], [infernal, JJ], [Serpent, NNP], [whose, WP$], [guile, NN], [Stirred, NNP], [envy, NN], [revenge, NN], [deceived, VBD], [The, DT], [mother, NN], [mankind, NN], [time, NN], [pride, NN], [Had, VBD], [cast, VBN], [Heaven, NNP], [host, NN], [Of, IN], [rebel, NN], [Angels, NNP], [whose, WP$], [aid, NN], [aspiring, VBG], [To, TO], [set, VB], [glory, NN], [peers, NNS], [He, PRP], [trusted, VBD], [equalled, VBD], [Most, JJS], [High, JJ], [If, IN], [opposed, VBN], [ambitious, JJ], [aim, NN], [Against, NNP], [throne, NN], [monarchy, NN], [God, NNP], [Raised, VBD], [impious, JJ], [war, NN], [Heaven, NNP], [battle, NN], [proud, NN], [With, IN], [vain, NN], [attempt, NN]]                                                                                                                                                                                                                                                                                                                                                                                                                                                                                                                                                     |\n",
      "+-----------------------------------------------------------------------------------------------------------------------------------------------------------------------------------------------------------------------------------------------------------------------------------------------------------------------------------------------------------------------------------------------------------------------------------------------------------------------------------------------------------------------------------------------------------------------------------------------------------------------------------------------------------------------------------------------------------------------------------------------------------------------------------------------------------------------------------------------------------------------------------------------------------------------------------------------------------------------------------------------------------------------------------------------------------------------------------------------------------------------------------------------------------------------------------------------------------------------------------------------------------+\n",
      "only showing top 5 rows\n",
      "\n"
     ]
    }
   ],
   "source": [
    "# Transform data\n",
    "d6 = d5.withColumn(\"tagged_words\", sent_to_tag_words_udf(\"words\"))\n",
    "d6.select(['tagged_words']).show(5, truncate=False) "
   ]
  },
  {
   "cell_type": "markdown",
   "metadata": {
    "id": "1EYWgCKWJ1uf"
   },
   "source": [
    "##### **Frequency Distribution Plot**\n",
    "\n",
    "It gives us information about the number of times a word has occurred within a sentence."
   ]
  },
  {
   "cell_type": "code",
   "execution_count": 28,
   "metadata": {
    "id": "NWhKkH9-J1uf"
   },
   "outputs": [
    {
     "data": {
      "image/png": "[encoded data removed]",
      "text/plain": [
       "<Figure size 432x288 with 1 Axes>"
      ]
     },
     "metadata": {
      "needs_background": "light"
     },
     "output_type": "display_data"
    }
   ],
   "source": [
    "from nltk.probability import FreqDist\n",
    "\n",
    "row = d6.select('words').toPandas().iloc[0,0]\n",
    "fd = FreqDist(row) \n",
    "fd.plot(30, cumulative= False)\n",
    "plt.show()"
   ]
  },
  {
   "cell_type": "markdown",
   "metadata": {
    "id": "36AvWojEJ1uf"
   },
   "source": [
    "From the above plot it can be seen that in the first row, the word 'Man' has occurred twice."
   ]
  },
  {
   "cell_type": "markdown",
   "metadata": {
    "id": "IwWhqb88J1uf"
   },
   "source": [
    "##### **Chunking**\n",
    "Chunking is the process of grouping similar words together based on the nature of the word. It is the process of segmenting and labeling multitokens. Let's see how to do a noun phrase chunking on the tagged words data frame from the previous step.\n",
    "\n",
    "First we need to define a udf function that chunks noun phrases from a list of pos-tagged words."
   ]
  },
  {
   "cell_type": "code",
   "execution_count": 29,
   "metadata": {
    "id": "g08SQc6XJ1ug"
   },
   "outputs": [],
   "source": [
    "# define a udf function to chunk noun phrases from pos-tagged words\n",
    "grammar = \"NP: {<DT>?<JJ>*<NN>}\"\n",
    "chunk_parser = nltk.RegexpParser(grammar)\n",
    "chunk_parser_udf = udf(lambda x: str(chunk_parser.parse(x)), StringType())"
   ]
  },
  {
   "cell_type": "code",
   "execution_count": 30,
   "metadata": {
    "id": "PrAbDbOGJ1ug"
   },
   "outputs": [],
   "source": [
    "# Transform data\n",
    "d7 = d6.withColumn(\"NP_chunk\", chunk_parser_udf(\"tagged_words\"))"
   ]
  },
  {
   "cell_type": "code",
   "execution_count": 31,
   "metadata": {
    "id": "v0bVIAQOJ1uh"
   },
   "outputs": [
    {
     "name": "stdout",
     "output_type": "stream",
     "text": [
      "+---------------------------------------------------------------------------------------------------------------------------------------------------------------------------------------------------------------------------------------------------------------------------------------------------------------------------------------------------------------------------------------------------------------------------------------------------------------------------------------------------------------------------------------------------------------------------------------------------------------------------------------------------------------------------------------------------------------------------------------------------------------------------------------------------------------------------------------------------------------------------------------------------------------------------------------------------------------------------------------------------------------------------------------------------------------------------------------------------------------------------------------------------------------------------------------+\n",
      "|NP_chunk                                                                                                                                                                                                                                                                                                                                                                                                                                                                                                                                                                                                                                                                                                                                                                                                                                                                                                                                                                                                                                                                                                                                                                               |\n",
      "+---------------------------------------------------------------------------------------------------------------------------------------------------------------------------------------------------------------------------------------------------------------------------------------------------------------------------------------------------------------------------------------------------------------------------------------------------------------------------------------------------------------------------------------------------------------------------------------------------------------------------------------------------------------------------------------------------------------------------------------------------------------------------------------------------------------------------------------------------------------------------------------------------------------------------------------------------------------------------------------------------------------------------------------------------------------------------------------------------------------------------------------------------------------------------------------+\n",
      "|(S\n",
      "  (NP Paradise/NN)\n",
      "  Lost/NNP\n",
      "  John/NNP\n",
      "  Milton/NNP\n",
      "  1667/CD\n",
      "  Book/NNP\n",
      "  I/PRP\n",
      "  Of/IN\n",
      "  Man/NNP\n",
      "  's/POS\n",
      "  (NP first/JJ disobedience/NN)\n",
      "  (NP fruit/NN)\n",
      "  Of/IN\n",
      "  (NP forbidden/JJ tree/NN)\n",
      "  whose/WP$\n",
      "  (NP mortal/JJ taste/NN)\n",
      "  Brought/NNP\n",
      "  (NP death/NN)\n",
      "  World/NNP\n",
      "  (NP woe/NN)\n",
      "  With/IN\n",
      "  (NP loss/NN)\n",
      "  Eden/NNP\n",
      "  (NP till/NN)\n",
      "  one/CD\n",
      "  greater/JJR\n",
      "  (NP Man/NN)\n",
      "  Restore/NNP\n",
      "  us/PRP\n",
      "  regain/VBP\n",
      "  (NP blissful/JJ seat/NN)\n",
      "  Sing/VBG\n",
      "  Heavenly/NNP\n",
      "  Muse/NNP\n",
      "  (NP secret/JJ top/NN)\n",
      "  Of/IN\n",
      "  Oreb/NNP\n",
      "  Sinai/NNP\n",
      "  (NP didst/NN)\n",
      "  (NP inspire/NN)\n",
      "  That/WDT\n",
      "  shepherd/VBD\n",
      "  first/RB\n",
      "  taught/JJ\n",
      "  chosen/NNS\n",
      "  (NP seed/NN)\n",
      "  In/IN\n",
      "  beginning/VBG\n",
      "  heavens/NNS\n",
      "  (NP earth/NN)\n",
      "  Rose/NNP\n",
      "  Chaos/NNP\n",
      "  Sion/NNP\n",
      "  (NP hill/NN)\n",
      "  Delight/NNP\n",
      "  thee/VBZ\n",
      "  Siloa/NNP\n",
      "  's/POS\n",
      "  (NP brook/NN)\n",
      "  flowed/VBD\n",
      "  Fast/NNP\n",
      "  oracle/IN\n",
      "  God/NNP\n",
      "  I/PRP\n",
      "  thence/VBP\n",
      "  Invoke/NNP\n",
      "  (NP thy/NN)\n",
      "  (NP aid/NN)\n",
      "  (NP adventurous/JJ song/NN)\n",
      "  That/WDT\n",
      "  (NP middle/JJ flight/NN)\n",
      "  intends/VBZ\n",
      "  soar/VB\n",
      "  Above/NNP\n",
      "  (NP th/NN)\n",
      "  Aonian/NNP\n",
      "  (NP mount/NN)\n",
      "  pursues/NNS\n",
      "  Things/NNP\n",
      "  unattempted/VBD\n",
      "  yet/RB\n",
      "  (NP prose/JJ rhyme/NN))|\n",
      "+---------------------------------------------------------------------------------------------------------------------------------------------------------------------------------------------------------------------------------------------------------------------------------------------------------------------------------------------------------------------------------------------------------------------------------------------------------------------------------------------------------------------------------------------------------------------------------------------------------------------------------------------------------------------------------------------------------------------------------------------------------------------------------------------------------------------------------------------------------------------------------------------------------------------------------------------------------------------------------------------------------------------------------------------------------------------------------------------------------------------------------------------------------------------------------------+\n",
      "only showing top 1 row\n",
      "\n"
     ]
    }
   ],
   "source": [
    "d7.select('NP_chunk').show(1, truncate= False)"
   ]
  },
  {
   "cell_type": "markdown",
   "metadata": {
    "id": "5l8mSsydJ1uh"
   },
   "source": [
    "#### Load data"
   ]
  },
  {
   "cell_type": "markdown",
   "metadata": {
    "id": "8wG_GKthJ1uh"
   },
   "source": [
    "**Use Parquet file to store data**"
   ]
  },
  {
   "cell_type": "code",
   "execution_count": 32,
   "metadata": {
    "id": "Jwz7yHbcJ1uh"
   },
   "outputs": [],
   "source": [
    "d7.write.format(\"parquet\").mode(\"overwrite\").save(\"transformed_text_parquet_data\")"
   ]
  },
  {
   "cell_type": "markdown",
   "metadata": {
    "id": "Vn8a8aVKJ1uh"
   },
   "source": [
    "**Read data from Parquet file**"
   ]
  },
  {
   "cell_type": "code",
   "execution_count": 33,
   "metadata": {
    "id": "zU67l4gUJ1uh"
   },
   "outputs": [],
   "source": [
    "df_text_parquet = spark.read.format(\"parquet\").load(\"transformed_text_parquet_data\")"
   ]
  },
  {
   "cell_type": "code",
   "execution_count": 40,
   "metadata": {
    "id": "yonfCe5wJ1ui"
   },
   "outputs": [
    {
     "data": {
      "text/html": [
       "<div>\n",
       "<style scoped>\n",
       "    .dataframe tbody tr th:only-of-type {\n",
       "        vertical-align: middle;\n",
       "    }\n",
       "\n",
       "    .dataframe tbody tr th {\n",
       "        vertical-align: top;\n",
       "    }\n",
       "\n",
       "    .dataframe thead th {\n",
       "        text-align: right;\n",
       "    }\n",
       "</style>\n",
       "<table border=\"1\" class=\"dataframe\">\n",
       "  <thead>\n",
       "    <tr style=\"text-align: right;\">\n",
       "      <th></th>\n",
       "      <th>sentences</th>\n",
       "      <th>words</th>\n",
       "      <th>no_of_words</th>\n",
       "      <th>tagged_words</th>\n",
       "      <th>NP_chunk</th>\n",
       "    </tr>\n",
       "  </thead>\n",
       "  <tbody>\n",
       "    <tr>\n",
       "      <th>0</th>\n",
       "      <td>He said, and on his Son with rays direct Shone...</td>\n",
       "      <td>[He, said, Son, rays, direct, Shone, full, Fat...</td>\n",
       "      <td>19</td>\n",
       "      <td>[(He, PRP), (said, VBD), (Son, NNP), (rays, NN...</td>\n",
       "      <td>(S\\n  He/PRP\\n  said/VBD\\n  Son/NNP\\n  rays/NN...</td>\n",
       "    </tr>\n",
       "    <tr>\n",
       "      <th>1</th>\n",
       "      <td>O Father, O Supreme of heavenly Thrones, First...</td>\n",
       "      <td>[O, Father, O, Supreme, heavenly, Thrones, Fir...</td>\n",
       "      <td>38</td>\n",
       "      <td>[(O, NNP), (Father, NNP), (O, NNP), (Supreme, ...</td>\n",
       "      <td>(S\\n  O/NNP\\n  Father/NNP\\n  O/NNP\\n  Supreme/...</td>\n",
       "    </tr>\n",
       "    <tr>\n",
       "      <th>2</th>\n",
       "      <td>Scepter and power, thy giving, I assume, And g...</td>\n",
       "      <td>[Scepter, power, thy, giving, I, assume, And, ...</td>\n",
       "      <td>61</td>\n",
       "      <td>[(Scepter, NNP), (power, NN), (thy, IN), (givi...</td>\n",
       "      <td>(S\\n  Scepter/NNP\\n  (NP power/NN)\\n  thy/IN\\n...</td>\n",
       "    </tr>\n",
       "    <tr>\n",
       "      <th>3</th>\n",
       "      <td>Then shall thy Saints unmixed, and from the im...</td>\n",
       "      <td>[Then, shall, thy, Saints, unmixed, impure, Fa...</td>\n",
       "      <td>22</td>\n",
       "      <td>[(Then, RB), (shall, MD), (thy, VB), (Saints, ...</td>\n",
       "      <td>(S\\n  Then/RB\\n  shall/MD\\n  thy/VB\\n  Saints/...</td>\n",
       "    </tr>\n",
       "    <tr>\n",
       "      <th>4</th>\n",
       "      <td>So said, he, o'er his scepter bowing, rose Fro...</td>\n",
       "      <td>[So, said, o'er, scepter, bowing, rose, From, ...</td>\n",
       "      <td>19</td>\n",
       "      <td>[(So, RB), (said, VBD), (o'er, JJ), (scepter, ...</td>\n",
       "      <td>(S\\n  So/RB\\n  said/VBD\\n  (NP o'er/JJ scepter...</td>\n",
       "    </tr>\n",
       "    <tr>\n",
       "      <th>...</th>\n",
       "      <td>...</td>\n",
       "      <td>...</td>\n",
       "      <td>...</td>\n",
       "      <td>...</td>\n",
       "      <td>...</td>\n",
       "    </tr>\n",
       "    <tr>\n",
       "      <th>1830</th>\n",
       "      <td>O!</td>\n",
       "      <td>[O]</td>\n",
       "      <td>1</td>\n",
       "      <td>[(O, NN)]</td>\n",
       "      <td>(S (NP O/NN))</td>\n",
       "    </tr>\n",
       "    <tr>\n",
       "      <th>1831</th>\n",
       "      <td>might I here In solitude live savage; in some ...</td>\n",
       "      <td>[might, I, In, solitude, live, savage, glade, ...</td>\n",
       "      <td>23</td>\n",
       "      <td>[(might, MD), (I, PRP), (In, IN), (solitude, N...</td>\n",
       "      <td>(S\\n  might/MD\\n  I/PRP\\n  In/IN\\n  (NP solitu...</td>\n",
       "    </tr>\n",
       "    <tr>\n",
       "      <th>1832</th>\n",
       "      <td>Ye Cedars, with innumerable boughs Hide me, wh...</td>\n",
       "      <td>[Ye, Cedars, innumerable, boughs, Hide, I, may...</td>\n",
       "      <td>55</td>\n",
       "      <td>[(Ye, NNP), (Cedars, NNP), (innumerable, JJ), ...</td>\n",
       "      <td>(S\\n  Ye/NNP\\n  Cedars/NNP\\n  innumerable/JJ\\n...</td>\n",
       "    </tr>\n",
       "    <tr>\n",
       "      <th>1833</th>\n",
       "      <td>So counselled he, and both together went Into ...</td>\n",
       "      <td>[So, counselled, together, went, Into, thickes...</td>\n",
       "      <td>80</td>\n",
       "      <td>[(So, RB), (counselled, VBN), (together, RB), ...</td>\n",
       "      <td>(S\\n  So/RB\\n  counselled/VBN\\n  together/RB\\n...</td>\n",
       "    </tr>\n",
       "    <tr>\n",
       "      <th>1834</th>\n",
       "      <td>O, how unlike To that first naked glory!</td>\n",
       "      <td>[O, unlike, To, first, naked, glory]</td>\n",
       "      <td>6</td>\n",
       "      <td>[(O, NNP), (unlike, IN), (To, TO), (first, JJ)...</td>\n",
       "      <td>(S O/NNP unlike/IN To/TO (NP first/JJ naked/JJ...</td>\n",
       "    </tr>\n",
       "  </tbody>\n",
       "</table>\n",
       "<p>1835 rows × 5 columns</p>\n",
       "</div>"
      ],
      "text/plain": [
       "                                              sentences  \\\n",
       "0     He said, and on his Son with rays direct Shone...   \n",
       "1     O Father, O Supreme of heavenly Thrones, First...   \n",
       "2     Scepter and power, thy giving, I assume, And g...   \n",
       "3     Then shall thy Saints unmixed, and from the im...   \n",
       "4     So said, he, o'er his scepter bowing, rose Fro...   \n",
       "...                                                 ...   \n",
       "1830                                                 O!   \n",
       "1831  might I here In solitude live savage; in some ...   \n",
       "1832  Ye Cedars, with innumerable boughs Hide me, wh...   \n",
       "1833  So counselled he, and both together went Into ...   \n",
       "1834           O, how unlike To that first naked glory!   \n",
       "\n",
       "                                                  words  no_of_words  \\\n",
       "0     [He, said, Son, rays, direct, Shone, full, Fat...           19   \n",
       "1     [O, Father, O, Supreme, heavenly, Thrones, Fir...           38   \n",
       "2     [Scepter, power, thy, giving, I, assume, And, ...           61   \n",
       "3     [Then, shall, thy, Saints, unmixed, impure, Fa...           22   \n",
       "4     [So, said, o'er, scepter, bowing, rose, From, ...           19   \n",
       "...                                                 ...          ...   \n",
       "1830                                                [O]            1   \n",
       "1831  [might, I, In, solitude, live, savage, glade, ...           23   \n",
       "1832  [Ye, Cedars, innumerable, boughs, Hide, I, may...           55   \n",
       "1833  [So, counselled, together, went, Into, thickes...           80   \n",
       "1834               [O, unlike, To, first, naked, glory]            6   \n",
       "\n",
       "                                           tagged_words  \\\n",
       "0     [(He, PRP), (said, VBD), (Son, NNP), (rays, NN...   \n",
       "1     [(O, NNP), (Father, NNP), (O, NNP), (Supreme, ...   \n",
       "2     [(Scepter, NNP), (power, NN), (thy, IN), (givi...   \n",
       "3     [(Then, RB), (shall, MD), (thy, VB), (Saints, ...   \n",
       "4     [(So, RB), (said, VBD), (o'er, JJ), (scepter, ...   \n",
       "...                                                 ...   \n",
       "1830                                          [(O, NN)]   \n",
       "1831  [(might, MD), (I, PRP), (In, IN), (solitude, N...   \n",
       "1832  [(Ye, NNP), (Cedars, NNP), (innumerable, JJ), ...   \n",
       "1833  [(So, RB), (counselled, VBN), (together, RB), ...   \n",
       "1834  [(O, NNP), (unlike, IN), (To, TO), (first, JJ)...   \n",
       "\n",
       "                                               NP_chunk  \n",
       "0     (S\\n  He/PRP\\n  said/VBD\\n  Son/NNP\\n  rays/NN...  \n",
       "1     (S\\n  O/NNP\\n  Father/NNP\\n  O/NNP\\n  Supreme/...  \n",
       "2     (S\\n  Scepter/NNP\\n  (NP power/NN)\\n  thy/IN\\n...  \n",
       "3     (S\\n  Then/RB\\n  shall/MD\\n  thy/VB\\n  Saints/...  \n",
       "4     (S\\n  So/RB\\n  said/VBD\\n  (NP o'er/JJ scepter...  \n",
       "...                                                 ...  \n",
       "1830                                      (S (NP O/NN))  \n",
       "1831  (S\\n  might/MD\\n  I/PRP\\n  In/IN\\n  (NP solitu...  \n",
       "1832  (S\\n  Ye/NNP\\n  Cedars/NNP\\n  innumerable/JJ\\n...  \n",
       "1833  (S\\n  So/RB\\n  counselled/VBN\\n  together/RB\\n...  \n",
       "1834  (S O/NNP unlike/IN To/TO (NP first/JJ naked/JJ...  \n",
       "\n",
       "[1835 rows x 5 columns]"
      ]
     },
     "execution_count": 40,
     "metadata": {},
     "output_type": "execute_result"
    }
   ],
   "source": [
    "df_text_parquet.toPandas()"
   ]
  },
  {
   "cell_type": "markdown",
   "metadata": {
    "id": "IsSrVl6bJ1ui"
   },
   "source": [
    "**Store the data as a `json file`**"
   ]
  },
  {
   "cell_type": "code",
   "execution_count": 35,
   "metadata": {
    "id": "B5Jobed2J1ui"
   },
   "outputs": [],
   "source": [
    "d7.write.format(\"json\").mode(\"overwrite\").save('transformed_text_json_data.json')"
   ]
  },
  {
   "cell_type": "markdown",
   "metadata": {
    "id": "IxhbRkgOJ1ui"
   },
   "source": [
    "**Read data from `json` to spark dataframe**"
   ]
  },
  {
   "cell_type": "code",
   "execution_count": 36,
   "metadata": {
    "id": "IXldw5HBJ1ui"
   },
   "outputs": [],
   "source": [
    "df_text_json = spark.read.format(\"json\").load('transformed_text_json_data.json')"
   ]
  },
  {
   "cell_type": "code",
   "execution_count": 41,
   "metadata": {
    "id": "jcb-LBjAJ1ui"
   },
   "outputs": [
    {
     "data": {
      "text/html": [
       "<div>\n",
       "<style scoped>\n",
       "    .dataframe tbody tr th:only-of-type {\n",
       "        vertical-align: middle;\n",
       "    }\n",
       "\n",
       "    .dataframe tbody tr th {\n",
       "        vertical-align: top;\n",
       "    }\n",
       "\n",
       "    .dataframe thead th {\n",
       "        text-align: right;\n",
       "    }\n",
       "</style>\n",
       "<table border=\"1\" class=\"dataframe\">\n",
       "  <thead>\n",
       "    <tr style=\"text-align: right;\">\n",
       "      <th></th>\n",
       "      <th>NP_chunk</th>\n",
       "      <th>no_of_words</th>\n",
       "      <th>sentences</th>\n",
       "      <th>tagged_words</th>\n",
       "      <th>words</th>\n",
       "    </tr>\n",
       "  </thead>\n",
       "  <tbody>\n",
       "    <tr>\n",
       "      <th>0</th>\n",
       "      <td>(S\\n  He/PRP\\n  said/VBD\\n  Son/NNP\\n  rays/NN...</td>\n",
       "      <td>19</td>\n",
       "      <td>He said, and on his Son with rays direct Shone...</td>\n",
       "      <td>[(He, PRP), (said, VBD), (Son, NNP), (rays, NN...</td>\n",
       "      <td>[He, said, Son, rays, direct, Shone, full, Fat...</td>\n",
       "    </tr>\n",
       "    <tr>\n",
       "      <th>1</th>\n",
       "      <td>(S\\n  O/NNP\\n  Father/NNP\\n  O/NNP\\n  Supreme/...</td>\n",
       "      <td>38</td>\n",
       "      <td>O Father, O Supreme of heavenly Thrones, First...</td>\n",
       "      <td>[(O, NNP), (Father, NNP), (O, NNP), (Supreme, ...</td>\n",
       "      <td>[O, Father, O, Supreme, heavenly, Thrones, Fir...</td>\n",
       "    </tr>\n",
       "    <tr>\n",
       "      <th>2</th>\n",
       "      <td>(S\\n  Scepter/NNP\\n  (NP power/NN)\\n  thy/IN\\n...</td>\n",
       "      <td>61</td>\n",
       "      <td>Scepter and power, thy giving, I assume, And g...</td>\n",
       "      <td>[(Scepter, NNP), (power, NN), (thy, IN), (givi...</td>\n",
       "      <td>[Scepter, power, thy, giving, I, assume, And, ...</td>\n",
       "    </tr>\n",
       "    <tr>\n",
       "      <th>3</th>\n",
       "      <td>(S\\n  Then/RB\\n  shall/MD\\n  thy/VB\\n  Saints/...</td>\n",
       "      <td>22</td>\n",
       "      <td>Then shall thy Saints unmixed, and from the im...</td>\n",
       "      <td>[(Then, RB), (shall, MD), (thy, VB), (Saints, ...</td>\n",
       "      <td>[Then, shall, thy, Saints, unmixed, impure, Fa...</td>\n",
       "    </tr>\n",
       "    <tr>\n",
       "      <th>4</th>\n",
       "      <td>(S\\n  So/RB\\n  said/VBD\\n  (NP o'er/JJ scepter...</td>\n",
       "      <td>19</td>\n",
       "      <td>So said, he, o'er his scepter bowing, rose Fro...</td>\n",
       "      <td>[(So, RB), (said, VBD), (o'er, JJ), (scepter, ...</td>\n",
       "      <td>[So, said, o'er, scepter, bowing, rose, From, ...</td>\n",
       "    </tr>\n",
       "    <tr>\n",
       "      <th>...</th>\n",
       "      <td>...</td>\n",
       "      <td>...</td>\n",
       "      <td>...</td>\n",
       "      <td>...</td>\n",
       "      <td>...</td>\n",
       "    </tr>\n",
       "    <tr>\n",
       "      <th>1830</th>\n",
       "      <td>(S (NP O/NN))</td>\n",
       "      <td>1</td>\n",
       "      <td>O!</td>\n",
       "      <td>[(O, NN)]</td>\n",
       "      <td>[O]</td>\n",
       "    </tr>\n",
       "    <tr>\n",
       "      <th>1831</th>\n",
       "      <td>(S\\n  might/MD\\n  I/PRP\\n  In/IN\\n  (NP solitu...</td>\n",
       "      <td>23</td>\n",
       "      <td>might I here In solitude live savage; in some ...</td>\n",
       "      <td>[(might, MD), (I, PRP), (In, IN), (solitude, N...</td>\n",
       "      <td>[might, I, In, solitude, live, savage, glade, ...</td>\n",
       "    </tr>\n",
       "    <tr>\n",
       "      <th>1832</th>\n",
       "      <td>(S\\n  Ye/NNP\\n  Cedars/NNP\\n  innumerable/JJ\\n...</td>\n",
       "      <td>55</td>\n",
       "      <td>Ye Cedars, with innumerable boughs Hide me, wh...</td>\n",
       "      <td>[(Ye, NNP), (Cedars, NNP), (innumerable, JJ), ...</td>\n",
       "      <td>[Ye, Cedars, innumerable, boughs, Hide, I, may...</td>\n",
       "    </tr>\n",
       "    <tr>\n",
       "      <th>1833</th>\n",
       "      <td>(S\\n  So/RB\\n  counselled/VBN\\n  together/RB\\n...</td>\n",
       "      <td>80</td>\n",
       "      <td>So counselled he, and both together went Into ...</td>\n",
       "      <td>[(So, RB), (counselled, VBN), (together, RB), ...</td>\n",
       "      <td>[So, counselled, together, went, Into, thickes...</td>\n",
       "    </tr>\n",
       "    <tr>\n",
       "      <th>1834</th>\n",
       "      <td>(S O/NNP unlike/IN To/TO (NP first/JJ naked/JJ...</td>\n",
       "      <td>6</td>\n",
       "      <td>O, how unlike To that first naked glory!</td>\n",
       "      <td>[(O, NNP), (unlike, IN), (To, TO), (first, JJ)...</td>\n",
       "      <td>[O, unlike, To, first, naked, glory]</td>\n",
       "    </tr>\n",
       "  </tbody>\n",
       "</table>\n",
       "<p>1835 rows × 5 columns</p>\n",
       "</div>"
      ],
      "text/plain": [
       "                                               NP_chunk  no_of_words  \\\n",
       "0     (S\\n  He/PRP\\n  said/VBD\\n  Son/NNP\\n  rays/NN...           19   \n",
       "1     (S\\n  O/NNP\\n  Father/NNP\\n  O/NNP\\n  Supreme/...           38   \n",
       "2     (S\\n  Scepter/NNP\\n  (NP power/NN)\\n  thy/IN\\n...           61   \n",
       "3     (S\\n  Then/RB\\n  shall/MD\\n  thy/VB\\n  Saints/...           22   \n",
       "4     (S\\n  So/RB\\n  said/VBD\\n  (NP o'er/JJ scepter...           19   \n",
       "...                                                 ...          ...   \n",
       "1830                                      (S (NP O/NN))            1   \n",
       "1831  (S\\n  might/MD\\n  I/PRP\\n  In/IN\\n  (NP solitu...           23   \n",
       "1832  (S\\n  Ye/NNP\\n  Cedars/NNP\\n  innumerable/JJ\\n...           55   \n",
       "1833  (S\\n  So/RB\\n  counselled/VBN\\n  together/RB\\n...           80   \n",
       "1834  (S O/NNP unlike/IN To/TO (NP first/JJ naked/JJ...            6   \n",
       "\n",
       "                                              sentences  \\\n",
       "0     He said, and on his Son with rays direct Shone...   \n",
       "1     O Father, O Supreme of heavenly Thrones, First...   \n",
       "2     Scepter and power, thy giving, I assume, And g...   \n",
       "3     Then shall thy Saints unmixed, and from the im...   \n",
       "4     So said, he, o'er his scepter bowing, rose Fro...   \n",
       "...                                                 ...   \n",
       "1830                                                 O!   \n",
       "1831  might I here In solitude live savage; in some ...   \n",
       "1832  Ye Cedars, with innumerable boughs Hide me, wh...   \n",
       "1833  So counselled he, and both together went Into ...   \n",
       "1834           O, how unlike To that first naked glory!   \n",
       "\n",
       "                                           tagged_words  \\\n",
       "0     [(He, PRP), (said, VBD), (Son, NNP), (rays, NN...   \n",
       "1     [(O, NNP), (Father, NNP), (O, NNP), (Supreme, ...   \n",
       "2     [(Scepter, NNP), (power, NN), (thy, IN), (givi...   \n",
       "3     [(Then, RB), (shall, MD), (thy, VB), (Saints, ...   \n",
       "4     [(So, RB), (said, VBD), (o'er, JJ), (scepter, ...   \n",
       "...                                                 ...   \n",
       "1830                                          [(O, NN)]   \n",
       "1831  [(might, MD), (I, PRP), (In, IN), (solitude, N...   \n",
       "1832  [(Ye, NNP), (Cedars, NNP), (innumerable, JJ), ...   \n",
       "1833  [(So, RB), (counselled, VBN), (together, RB), ...   \n",
       "1834  [(O, NNP), (unlike, IN), (To, TO), (first, JJ)...   \n",
       "\n",
       "                                                  words  \n",
       "0     [He, said, Son, rays, direct, Shone, full, Fat...  \n",
       "1     [O, Father, O, Supreme, heavenly, Thrones, Fir...  \n",
       "2     [Scepter, power, thy, giving, I, assume, And, ...  \n",
       "3     [Then, shall, thy, Saints, unmixed, impure, Fa...  \n",
       "4     [So, said, o'er, scepter, bowing, rose, From, ...  \n",
       "...                                                 ...  \n",
       "1830                                                [O]  \n",
       "1831  [might, I, In, solitude, live, savage, glade, ...  \n",
       "1832  [Ye, Cedars, innumerable, boughs, Hide, I, may...  \n",
       "1833  [So, counselled, together, went, Into, thickes...  \n",
       "1834               [O, unlike, To, first, naked, glory]  \n",
       "\n",
       "[1835 rows x 5 columns]"
      ]
     },
     "execution_count": 41,
     "metadata": {},
     "output_type": "execute_result"
    }
   ],
   "source": [
    "df_text_json.toPandas()"
   ]
  },
  {
   "cell_type": "code",
   "execution_count": null,
   "metadata": {},
   "outputs": [],
   "source": []
  }
 ],
 "metadata": {
  "colab": {
   "collapsed_sections": [],
   "name": "M3_AST_06_Text_Mining_and_Analytics_C.ipynb",
   "provenance": []
  },
  "kernelspec": {
   "display_name": "Python 3 (ipykernel)",
   "language": "python",
   "name": "python3"
  },
  "language_info": {
   "codemirror_mode": {
    "name": "ipython",
    "version": 3
   },
   "file_extension": ".py",
   "mimetype": "text/x-python",
   "name": "python",
   "nbconvert_exporter": "python",
   "pygments_lexer": "ipython3",
   "version": "3.7.1"
  }
 },
 "nbformat": 4,
 "nbformat_minor": 1
}
